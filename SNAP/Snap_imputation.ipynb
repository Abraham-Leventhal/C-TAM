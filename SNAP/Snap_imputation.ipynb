{
 "cells": [
  {
   "cell_type": "markdown",
   "metadata": {
    "collapsed": true
   },
   "source": [
    "This script imputes Supplemental Nutrition Assistance Program (SNAP) recipients dollar benefit amount to match the aggregates with United States Department of Agriculture (USDA) statistics for SNAP. In this current version, we used 2014 CPS data and USDA FY2014 annual reports on SNAP. Please refer to the documentation in the same folder for more details on methodology and assumptions. The output this script is a personal level dataset that contains CPS household level sequence (h_seq), individual participation indicator (snap_participation, 0 - not a recipient, 1 - current recipient on file, 2 - imputed recipient), and benefit amount.\n",
    "\n",
    "Input: 2014 CPS (cpsmar2014t.csv), number of recipients and their benefits amount by state in 2014 (Administrative.csv)\n",
    "\n",
    "Output: SNAP_Imputation.csv\n",
    "\n",
    "Additional Source links: http://www.fns.usda.gov/pd/supplemental-nutrition-assistance-program-snap (zipfile for FY69 through FY16)"
   ]
  },
  {
   "cell_type": "code",
   "execution_count": 1,
   "metadata": {
    "collapsed": true
   },
   "outputs": [],
   "source": [
    "import pandas as pd\n",
    "from pandas import DataFrame\n",
    "import numpy as np\n",
    "import random\n",
    "import statsmodels.formula.api as sm\n",
    "import matplotlib.pyplot as plt"
   ]
  },
  {
   "cell_type": "code",
   "execution_count": 2,
   "metadata": {
    "collapsed": true
   },
   "outputs": [],
   "source": [
    "#Variables we use in CPS:\n",
    "#columns_to_keep = ['hfoodsp','hfdval','h_numper','h_seq','a_age','marsupwt','moop','hhi_yn','chsp_val',\n",
    "                  # 'gestfips','pedisout','pedisdrs','pedisear', 'pedisrem','pediseye', 'pedisphy', \n",
    "                  # 'vet_typ1','vet_yn','pemlr','filestat','wsal_val','semp_val','frse_val',\n",
    "                  # 'ss_val','rtm_val','oi_val','oi_off','int_yn','uc_yn', 'uc_val','int_val','hfoodmo']"
   ]
  },
  {
   "cell_type": "code",
   "execution_count": 3,
   "metadata": {
    "collapsed": true
   },
   "outputs": [],
   "source": [
    "CPS_dataset = pd.read_csv('C:\\Users\\wangy\\OneDrive\\Documents\\BasicIncomeProject\\SNAP.csv')"
   ]
  },
  {
   "cell_type": "code",
   "execution_count": 4,
   "metadata": {
    "collapsed": true
   },
   "outputs": [],
   "source": [
    "#recipient or not\n",
    "CPS_dataset.hfoodsp = np.where(CPS_dataset.hfoodsp == \"Yes\",1,0)"
   ]
  },
  {
   "cell_type": "code",
   "execution_count": 5,
   "metadata": {
    "collapsed": true
   },
   "outputs": [],
   "source": [
    "#Prepare household level data\n",
    "household_SNAP = CPS_dataset.groupby('h_seq')['hfoodsp'].mean()\n",
    "household_size = CPS_dataset.groupby('h_seq')['h_numper'].mean()"
   ]
  },
  {
   "cell_type": "code",
   "execution_count": 6,
   "metadata": {
    "collapsed": false
   },
   "outputs": [],
   "source": [
    "#Earned income\n",
    "wage = pd.to_numeric(np.where(CPS_dataset.wsal_val!= 'None or not in universe', CPS_dataset.wsal_val, 0))\n",
    "self_employed1 = pd.to_numeric(np.where(CPS_dataset.semp_val!= 'None or not in universe', CPS_dataset.semp_val, 0))\n",
    "self_employed2 = pd.to_numeric(np.where(CPS_dataset.frse_val!= 'None or not in universe', CPS_dataset.frse_val, 0))\n",
    "p_earned = wage + self_employed1 + self_employed2 #individual earned income\n",
    "p_earned = 0.8 * p_earned #for net income calculation, there is a 20% deduction in earned income\n",
    "CPS_dataset['p_earned'] = p_earned"
   ]
  },
  {
   "cell_type": "code",
   "execution_count": 7,
   "metadata": {
    "collapsed": false
   },
   "outputs": [],
   "source": [
    "#Unearned income\n",
    "ss = pd.to_numeric(np.where(CPS_dataset.ss_val!='None or not in universe', CPS_dataset.ss_val, 0))\n",
    "pension = pd.to_numeric(np.where(CPS_dataset.rtm_val!='None or not in universe', CPS_dataset.rtm_val, 0))\n",
    "disability = pd.to_numeric(np.where(CPS_dataset.oi_off=='State disability payments', CPS_dataset.oi_val, 0))\n",
    "unemploy = pd.to_numeric(np.where(CPS_dataset.uc_yn=='Yes', CPS_dataset.uc_val, 0))\n",
    "interest = pd.to_numeric(np.where(CPS_dataset.int_yn=='Yes', CPS_dataset.int_val, 0))\n",
    "p_unearned = ss + pension + disability + unemploy + interest #individual unearned income\n",
    "CPS_dataset['p_unearned'] = p_unearned"
   ]
  },
  {
   "cell_type": "code",
   "execution_count": 8,
   "metadata": {
    "collapsed": false
   },
   "outputs": [],
   "source": [
    "#Net Income\n",
    "CPS_dataset['hh_net_income'] = p_earned + p_unearned\n",
    "hh_net_income = CPS_dataset.groupby('h_seq')['hh_net_income'].sum()"
   ]
  },
  {
   "cell_type": "code",
   "execution_count": 9,
   "metadata": {
    "collapsed": false
   },
   "outputs": [],
   "source": [
    "hh_SNAP = DataFrame(household_SNAP.transpose())"
   ]
  },
  {
   "cell_type": "code",
   "execution_count": 10,
   "metadata": {
    "collapsed": true
   },
   "outputs": [],
   "source": [
    "hh_SNAP['hh_net'] = hh_net_income\n",
    "hh_SNAP['hh_size'] = household_size"
   ]
  },
  {
   "cell_type": "code",
   "execution_count": 11,
   "metadata": {
    "collapsed": false
   },
   "outputs": [],
   "source": [
    "hh_SNAP.columns = ['indicator', 'hh_net','hh_size'] #indicator is hfoodsp, a dummy variable"
   ]
  },
  {
   "cell_type": "code",
   "execution_count": 12,
   "metadata": {
    "collapsed": false
   },
   "outputs": [],
   "source": [
    "#net income deduction\n",
    "hh_SNAP.hh_net = np.where(hh_SNAP.hh_size <=3, hh_SNAP.hh_net-155*12, hh_SNAP.hh_net)\n",
    "hh_SNAP.hh_net = np.where(hh_SNAP.hh_size ==4, hh_SNAP.hh_net-168*12, hh_SNAP.hh_net)\n",
    "hh_SNAP.hh_net = np.where(hh_SNAP.hh_size ==5, hh_SNAP.hh_net-197*12, hh_SNAP.hh_net)\n",
    "hh_SNAP.hh_net = np.where(hh_SNAP.hh_size >=6, hh_SNAP.hh_net-226*12, hh_SNAP.hh_net)"
   ]
  },
  {
   "cell_type": "code",
   "execution_count": 13,
   "metadata": {
    "collapsed": false
   },
   "outputs": [],
   "source": [
    "#medical deduction\n",
    "#age over 60\n",
    "CPS_dataset.a_age = np.where(CPS_dataset.a_age == \"80-84 years of age\",\n",
    "                             random.randrange(80, 84),\n",
    "                             CPS_dataset.a_age)\n",
    "CPS_dataset.a_age = np.where(CPS_dataset.a_age == \"85+ years of age\",\n",
    "                             random.randrange(85, 95),\n",
    "                             CPS_dataset.a_age)\n",
    "CPS_dataset.a_age = pd.to_numeric(CPS_dataset.a_age)\n",
    "#disabled\n",
    "CPS_dataset['disability'] = np.zeros(len(CPS_dataset))\n",
    "CPS_dataset.disability = np.where(CPS_dataset.pedisdrs == 'Yes', 1, CPS_dataset.disability)\n",
    "CPS_dataset.disability = np.where(CPS_dataset.pedisear == 'Yes', 1, CPS_dataset.disability)\n",
    "CPS_dataset.disability = np.where(CPS_dataset.pediseye == 'Yes', 1, CPS_dataset.disability)\n",
    "CPS_dataset.disability = np.where(CPS_dataset.pedisout == 'Yes', 1, CPS_dataset.disability)\n",
    "CPS_dataset.disability = np.where(CPS_dataset.pedisphy == 'Yes', 1, CPS_dataset.disability)\n",
    "CPS_dataset.disability = np.where(CPS_dataset.pedisrem == 'Yes', 1, CPS_dataset.disability)\n",
    "#deduction of more than $35 for a month\n",
    "CPS_dataset.hhi_yn = np.where(CPS_dataset.hhi_yn == 'Yes', 1, 0)\n",
    "CPS_dataset.moop = np.where(CPS_dataset.moop != 'NIU', CPS_dataset.moop, 0)\n",
    "CPS_dataset['medical'] = np.zeros(len(CPS_dataset))\n",
    "CPS_dataset.medical = np.where((CPS_dataset.hhi_yn == 0), CPS_dataset.moop, 0)\n",
    "CPS_dataset.medical = np.where((CPS_dataset.disability == 1.0)|(CPS_dataset.a_age >= 60), CPS_dataset.moop, 0)\n",
    "CPS_dataset.medical = pd.to_numeric(CPS_dataset.medical)\n",
    "hh_medical = CPS_dataset.groupby('h_seq')['medical'].sum()\n",
    "hh_SNAP['hh_medical'] = hh_medical\n",
    "hh_SNAP.hh_net = np.where(hh_medical > 35*12, hh_SNAP.hh_net-(hh_medical-35*12), hh_SNAP.hh_net)"
   ]
  },
  {
   "cell_type": "code",
   "execution_count": 14,
   "metadata": {
    "collapsed": true
   },
   "outputs": [],
   "source": [
    "#child support\n",
    "CPS_dataset.chsp_val = np.where(CPS_dataset.chsp_val == \"NIU\", 0, CPS_dataset.chsp_val)\n",
    "CPS_dataset.chsp_val = pd.to_numeric(CPS_dataset.chsp_val)\n",
    "hh_child = CPS_dataset.groupby('h_seq')['chsp_val'].sum()\n",
    "hh_SNAP['hh_child'] = hh_child\n",
    "hh_SNAP.hh_net = hh_SNAP.hh_net - hh_SNAP.hh_child"
   ]
  },
  {
   "cell_type": "code",
   "execution_count": 15,
   "metadata": {
    "collapsed": true
   },
   "outputs": [],
   "source": [
    "hh_SNAP.hh_net = hh_SNAP.hh_net - (10+290)*12 #dependent care; excess shelter. All based on SNAP official average\n",
    "hh_SNAP.hh_net = np.where(hh_SNAP.hh_net <0, 0, hh_SNAP.hh_net)"
   ]
  },
  {
   "cell_type": "code",
   "execution_count": 16,
   "metadata": {
    "collapsed": true
   },
   "outputs": [],
   "source": [
    "#Keep a reasonable subset\n",
    "hh_SNAP.hh_net = np.where(hh_SNAP.hh_net > 5490 * 12, -100, hh_SNAP.hh_net)\n",
    "hh_SNAP = hh_SNAP[hh_SNAP.hh_net>=0]"
   ]
  },
  {
   "cell_type": "code",
   "execution_count": 17,
   "metadata": {
    "collapsed": false
   },
   "outputs": [
    {
     "name": "stdout",
     "output_type": "stream",
     "text": [
      "                            OLS Regression Results                            \n",
      "==============================================================================\n",
      "Dep. Variable:              indicator   R-squared:                       0.121\n",
      "Model:                            OLS   Adj. R-squared:                  0.121\n",
      "Method:                 Least Squares   F-statistic:                     5187.\n",
      "Date:                Sat, 19 Nov 2016   Prob (F-statistic):               0.00\n",
      "Time:                        22:07:20   Log-Likelihood:                -13579.\n",
      "No. Observations:               37780   AIC:                         2.716e+04\n",
      "Df Residuals:                   37778   BIC:                         2.718e+04\n",
      "Df Model:                           1                                         \n",
      "Covariance Type:            nonrobust                                         \n",
      "==============================================================================\n",
      "                 coef    std err          t      P>|t|      [95.0% Conf. Int.]\n",
      "------------------------------------------------------------------------------\n",
      "Intercept      0.3364      0.003    112.407      0.000         0.331     0.342\n",
      "hh_net     -6.732e-06   9.35e-08    -72.019      0.000     -6.92e-06 -6.55e-06\n",
      "==============================================================================\n",
      "Omnibus:                     7958.864   Durbin-Watson:                   1.905\n",
      "Prob(Omnibus):                  0.000   Jarque-Bera (JB):            13983.102\n",
      "Skew:                           1.439   Prob(JB):                         0.00\n",
      "Kurtosis:                       3.773   Cond. No.                     5.37e+04\n",
      "==============================================================================\n",
      "\n",
      "Warnings:\n",
      "[1] Standard Errors assume that the covariance matrix of the errors is correctly specified.\n",
      "[2] The condition number is large, 5.37e+04. This might indicate that there are\n",
      "strong multicollinearity or other numerical problems.\n"
     ]
    }
   ],
   "source": [
    "#Regression\n",
    "model = sm.ols(formula='indicator ~ hh_net', data=hh_SNAP).fit()\n",
    "print model.summary()"
   ]
  },
  {
   "cell_type": "code",
   "execution_count": 18,
   "metadata": {
    "collapsed": false
   },
   "outputs": [],
   "source": [
    "#Keep household with 1 member\n",
    "probs = model.fittedvalues[hh_SNAP.hh_size==1]"
   ]
  },
  {
   "cell_type": "code",
   "execution_count": 19,
   "metadata": {
    "collapsed": false
   },
   "outputs": [],
   "source": [
    "#Prepare household's weights; states; SNAP value\n",
    "household_marsupwt = CPS_dataset.groupby('h_seq')['marsupwt'].mean()\n",
    "hh_SNAP['hh_marsupwt'] = household_marsupwt\n",
    "\n",
    "household_gestfips = CPS_dataset.groupby('h_seq')['gestfips'].mean()\n",
    "hh_SNAP['hh_gestfips'] = household_gestfips\n",
    "\n",
    "CPS_dataset.hfdval = np.where(CPS_dataset.hfdval!= 'Not in universe', CPS_dataset.hfdval, 0)\n",
    "CPS_dataset.hfdval = pd.to_numeric(CPS_dataset.hfdval)\n",
    "household_hfdval = CPS_dataset.groupby('h_seq')['hfdval'].mean()\n",
    "hh_SNAP['hh_hfdval'] = household_hfdval\n"
   ]
  },
  {
   "cell_type": "code",
   "execution_count": 20,
   "metadata": {
    "collapsed": false
   },
   "outputs": [],
   "source": [
    "#Prepare household's length of being recipients\n",
    "CPS_dataset.hfoodmo = np.where(CPS_dataset.hfoodmo == 'Not in universe', 0, CPS_dataset.hfoodmo)\n",
    "CPS_dataset.hfoodmo = np.where(CPS_dataset.hfoodmo == '12 Months', 12, CPS_dataset.hfoodmo)\n",
    "CPS_dataset.hfoodmo = np.where(CPS_dataset.hfoodmo == '1 month', 1, CPS_dataset.hfoodmo)\n",
    "CPS_dataset.hfoodmo = pd.to_numeric(CPS_dataset.hfoodmo)\n",
    "household_hfoodmo = CPS_dataset.groupby('h_seq')['hfoodmo'].mean()\n",
    "hh_SNAP['hh_hfoodmo'] = household_hfoodmo"
   ]
  },
  {
   "cell_type": "code",
   "execution_count": 21,
   "metadata": {
    "collapsed": false
   },
   "outputs": [],
   "source": [
    "#Import administrative level data\n",
    "admin = pd.read_csv('C:\\Users\\wangy\\OneDrive\\Documents\\BasicIncomeProject\\Administrative.csv',\n",
    "                    dtype={ 'Household number': np.float,'Average household benefit': np.float, 'Total': np.float, 'Individual number': np.float})\n",
    "admin.index = admin.Fips"
   ]
  },
  {
   "cell_type": "code",
   "execution_count": 22,
   "metadata": {
    "collapsed": false
   },
   "outputs": [],
   "source": [
    "# CPS total benefits and Administrative total benefits\n",
    "state_benefit = {}\n",
    "state_recipients = {}\n",
    "for state in admin.Fips:\n",
    "    this_state = (hh_SNAP.hh_gestfips==state)\n",
    "    CPS_totalb = (hh_SNAP.hh_hfdval * hh_SNAP.hh_marsupwt / hh_SNAP.hh_hfoodmo)[this_state].sum()/1000000 #in million, per month\n",
    "    admin_totalb =  admin.Total[state] /12 /1000000 # in million, per month\n",
    "    CPS_totaln = (hh_SNAP.hh_marsupwt[this_state&hh_SNAP.indicator==1]*hh_SNAP.hh_hfoodmo/12).sum()/1000 # in thousand, per month\n",
    "    admin_totaln =  admin[\"Household number\"][state] /1000 #household in thousand, per month\n",
    "    CPS_totalnindividual = (hh_SNAP.hh_marsupwt* hh_SNAP.hh_size[this_state&hh_SNAP.indicator==1]*hh_SNAP.hh_hfoodmo/12).sum()/1000 # in thousand, per month\n",
    "    admin_totalnindividual =  admin[\"Individual number\"][state] /1000 #individual in thousand, per month\n",
    "    \n",
    "    temp = [admin.State[state], CPS_totalb, admin_totalb, CPS_totaln, admin_totaln, CPS_totalnindividual, admin_totalnindividual]\n",
    "    state_benefit[state] = temp\n",
    "    \n",
    "pre_augment_benefit = DataFrame(state_benefit).transpose()\n",
    "pre_augment_benefit.columns = ['State', 'CPS total benefits(monthly)','Admin total benefits(monthly)',\n",
    "                               'CPS total household recipient(monthly)','Admin total household recipient(monthly)',\n",
    "                               'CPS total individual recipient(monthly)','Admin total individual recipient(monthly)']"
   ]
  },
  {
   "cell_type": "code",
   "execution_count": 23,
   "metadata": {
    "collapsed": false
   },
   "outputs": [],
   "source": [
    "pre_augment_benefit.to_csv('C:\\Users\\wangy\\OneDrive\\Documents\\BasicIncomeProject\\pre-blow-up.csv')"
   ]
  },
  {
   "cell_type": "code",
   "execution_count": 24,
   "metadata": {
    "collapsed": false
   },
   "outputs": [],
   "source": [
    "# caculate difference of SNAP stats and CPS aggregates on recipients number\n",
    "# by state\n",
    "diff = {'Fips':[],'Difference in Population':[],'Mean Benefit':[],'CPS Population':[],'SNAP Population':[]}\n",
    "diff['Fips'] = admin.Fips\n",
    "current = (hh_SNAP.indicator==1)\n",
    "for FIPS in admin.Fips:\n",
    "        this_state = (hh_SNAP.hh_gestfips==FIPS)\n",
    "        current_tots = (hh_SNAP.hh_marsupwt[current&this_state]*hh_SNAP.hh_hfoodmo/12).sum()\n",
    "        valid_num = (hh_SNAP.hh_marsupwt[current&this_state]*hh_SNAP.hh_hfoodmo/12).sum() + 0.0000001\n",
    "        current_mean = ((hh_SNAP.hh_hfdval * hh_SNAP.hh_marsupwt / hh_SNAP.hh_hfoodmo)[current&this_state].sum())/valid_num\n",
    "        diff['CPS Population'].append(current_tots)\n",
    "        diff['SNAP Population'].append(float(admin[\"Household number\"][admin.Fips == FIPS]))\n",
    "        diff['Difference in Population'].append(float(admin[\"Household number\"][admin.Fips == FIPS])- current_tots)\n",
    "        diff['Mean Benefit'].append(current_mean)"
   ]
  },
  {
   "cell_type": "code",
   "execution_count": 25,
   "metadata": {
    "collapsed": false
   },
   "outputs": [],
   "source": [
    "d = DataFrame(diff)\n",
    "d = d[['Fips', 'Mean Benefit', 'Difference in Population', 'CPS Population', 'SNAP Population']]\n",
    "d.to_csv('recipients.csv', index=False)"
   ]
  },
  {
   "cell_type": "code",
   "execution_count": 26,
   "metadata": {
    "collapsed": false
   },
   "outputs": [
    {
     "name": "stdout",
     "output_type": "stream",
     "text": [
      "('we need to impute', 193971.92316468252, 'for state', 1)\n",
      "('Method1: regression gives', 194801.16999999993)\n",
      "('we need to impute', 16953.308549603178, 'for state', 2)\n"
     ]
    },
    {
     "name": "stderr",
     "output_type": "stream",
     "text": [
      "C:\\Users\\wangy\\Anaconda2\\lib\\site-packages\\ipykernel\\__main__.py:20: FutureWarning: sort(columns=....) is deprecated, use sort_values(by=.....)\n",
      "C:\\Users\\wangy\\Anaconda2\\lib\\site-packages\\ipykernel\\__main__.py:23: FutureWarning: sort(columns=....) is deprecated, use sort_values(by=.....)\n",
      "C:\\Users\\wangy\\Anaconda2\\lib\\site-packages\\ipykernel\\__main__.py:26: SettingWithCopyWarning: \n",
      "A value is trying to be set on a copy of a slice from a DataFrame\n",
      "\n",
      "See the caveats in the documentation: http://pandas.pydata.org/pandas-docs/stable/indexing.html#indexing-view-versus-copy\n",
      "C:\\Users\\wangy\\Anaconda2\\lib\\site-packages\\ipykernel\\__main__.py:27: SettingWithCopyWarning: \n",
      "A value is trying to be set on a copy of a slice from a DataFrame\n",
      "\n",
      "See the caveats in the documentation: http://pandas.pydata.org/pandas-docs/stable/indexing.html#indexing-view-versus-copy\n"
     ]
    },
    {
     "name": "stdout",
     "output_type": "stream",
     "text": [
      "('Method1: regression gives', 16934.76)\n",
      "('we need to impute', 121834.77696626983, 'for state', 4)\n",
      "('Method1: regression gives', 122896.3)\n",
      "('we need to impute', 69548.836071428552, 'for state', 5)\n",
      "('Method1: regression gives', 68166.65)\n",
      "('we need to impute', 1054907.1063809535, 'for state', 6)\n",
      "('Method1: regression gives', 1054078.9699999993)\n",
      "('we need to impute', 91129.277058531821, 'for state', 8)\n",
      "('Method1: regression gives', 91346.78)\n",
      "('we need to impute', 111685.27889285717, 'for state', 9)\n",
      "('Method1: regression gives', 111345.62000000002)\n",
      "('we need to impute', 31544.582886904755, 'for state', 10)\n",
      "('Method1: regression gives', 31680.62)\n",
      "('we need to impute', 42121.886740079382, 'for state', 11)\n",
      "('Method1: regression gives', 42171.719999999994)\n",
      "('we need to impute', 1105843.3499348853, 'for state', 12)\n",
      "('Method1: regression gives', 1106734.5799999994)\n",
      "('we need to impute', 478369.01947222208, 'for state', 13)\n",
      "('Method1: regression gives', 477010.41000000003)\n",
      "('we need to impute', 52185.792585317453, 'for state', 15)\n",
      "('Method1: regression gives', 52273.249999999985)\n",
      "('we need to impute', 42322.601577380963, 'for state', 16)\n",
      "('Method1: regression gives', 42549.020000000004)\n",
      "('we need to impute', 588858.50728096464, 'for state', 17)\n",
      "('Method1: regression gives', 589343.48)\n",
      "('we need to impute', 181684.50814880966, 'for state', 18)\n",
      "('Method1: regression gives', 183822.93999999997)\n",
      "('we need to impute', 80288.963799603196, 'for state', 19)\n",
      "('Method1: regression gives', 80389.05)\n",
      "('we need to impute', 45866.915066137604, 'for state', 20)\n",
      "('Method1: regression gives', 45311.25)\n",
      "('we need to impute', 158288.98647222226, 'for state', 21)\n",
      "('Method1: regression gives', 158925.84)\n",
      "('we need to impute', 196241.23023809522, 'for state', 22)\n",
      "('Method1: regression gives', 199392.33)\n",
      "('we need to impute', 38553.133201479097, 'for state', 23)\n",
      "('Method1: regression gives', 38721.11)\n",
      "('we need to impute', 208319.20975396837, 'for state', 24)\n",
      "('Method1: regression gives', 209371.27000000005)\n",
      "('we need to impute', 207815.36766666663, 'for state', 25)\n",
      "('Method1: regression gives', 209351.14)\n",
      "('we need to impute', 343111.53195833357, 'for state', 26)\n",
      "('Method1: regression gives', 342223.03)\n",
      "('we need to impute', 91059.738461309549, 'for state', 27)\n",
      "('Method1: regression gives', 91220.42)\n",
      "('we need to impute', 75130.020424603135, 'for state', 28)\n",
      "('Method1: regression gives', 73402.40999999999)\n",
      "('we need to impute', 131156.86422222236, 'for state', 29)\n",
      "('Method1: regression gives', 129586.71000000002)\n",
      "('we need to impute', 23723.354047619039, 'for state', 30)\n",
      "('Method1: regression gives', 23549.36)\n",
      "('we need to impute', 29813.756472222238, 'for state', 31)\n",
      "('Method1: regression gives', 29516.6)\n",
      "('we need to impute', 80068.678787698445, 'for state', 32)\n",
      "('Method1: regression gives', 79765.33)\n",
      "('we need to impute', 21574.858619047624, 'for state', 33)\n",
      "('Method1: regression gives', 21486.81)\n",
      "('we need to impute', 212734.69872222218, 'for state', 34)\n",
      "('Method1: regression gives', 213743.87)\n",
      "('we need to impute', 113762.88133333334, 'for state', 35)\n",
      "('Method1: regression gives', 113413.45000000006)\n",
      "('we need to impute', 728343.01048839535, 'for state', 36)\n",
      "('Method1: regression gives', 727956.8200000001)\n",
      "('we need to impute', 322938.58010317455, 'for state', 37)\n",
      "('Method1: regression gives', 323414.8899999999)\n",
      "('we need to impute', -658.81598214286714, 'for state', 38)\n",
      "('we need to impute', 218054.30090674642, 'for state', 39)\n",
      "('Method1: regression gives', 219555.66)\n",
      "('we need to impute', 147572.21156746033, 'for state', 40)\n",
      "('Method1: regression gives', 148189.27000000005)\n",
      "('we need to impute', 234630.15504437228, 'for state', 41)\n",
      "('Method1: regression gives', 235729.65999999997)\n",
      "('we need to impute', 400565.21333730174, 'for state', 42)\n",
      "('Method1: regression gives', 399754.9900000001)\n",
      "('we need to impute', 34758.107841269855, 'for state', 44)\n",
      "('Method1: regression gives', 34653.22)\n",
      "('we need to impute', 132409.57005555549, 'for state', 45)\n",
      "('Method1: regression gives', 132165.99000000002)\n",
      "('we need to impute', 18569.76006349206, 'for state', 46)\n",
      "('Method1: regression gives', 18649.039999999997)\n",
      "('we need to impute', 246214.59046626987, 'for state', 47)\n",
      "('Method1: regression gives', 248128.65000000002)\n",
      "('we need to impute', 637676.64328769874, 'for state', 48)\n",
      "('Method1: regression gives', 639581.3099999996)\n",
      "('we need to impute', 27959.310779761894, 'for state', 49)\n",
      "('Method1: regression gives', 26867.329999999998)\n",
      "('we need to impute', 23125.189194444454, 'for state', 50)\n",
      "('Method1: regression gives', 23233.889999999996)\n",
      "('we need to impute', 240903.07214087303, 'for state', 51)\n",
      "('Method1: regression gives', 242200.40000000002)\n",
      "('we need to impute', 325955.10031812161, 'for state', 53)\n",
      "('Method1: regression gives', 326425.9799999999)\n",
      "('we need to impute', 81667.856610389645, 'for state', 54)\n",
      "('Method1: regression gives', 80762.34999999998)\n",
      "('we need to impute', 191989.96266369053, 'for state', 55)\n",
      "('Method1: regression gives', 190880.39)\n",
      "('we need to impute', 2445.8437222222219, 'for state', 56)\n",
      "('Method1: regression gives', 2731.6400000000003)\n"
     ]
    }
   ],
   "source": [
    "hh_SNAP['impute'] = np.zeros(len(hh_SNAP))\n",
    "hh_SNAP['snap_impute'] = np.zeros(len(hh_SNAP))\n",
    "\n",
    "non_current = (hh_SNAP.indicator==0)\n",
    "current = (hh_SNAP.indicator==1)\n",
    "random.seed()\n",
    "\n",
    "for FIPS in admin.Fips:\n",
    "    \n",
    "        print ('we need to impute', d['Difference in Population'][FIPS], 'for state', FIPS)\n",
    "        \n",
    "        if d['Difference in Population'][FIPS] < 0:\n",
    "            continue\n",
    "        else:\n",
    "            this_state = (hh_SNAP.hh_gestfips==FIPS)\n",
    "            not_imputed = (hh_SNAP.impute==0)\n",
    "            pool_index = hh_SNAP[this_state&not_imputed&non_current].index\n",
    "            pool = DataFrame({'weight': hh_SNAP.hh_marsupwt[pool_index], 'prob': probs[pool_index]},\n",
    "                            index=pool_index)\n",
    "            pool = pool.sort(columns='prob', ascending=False)\n",
    "            pool['cumsum_weight'] = pool['weight'].cumsum()\n",
    "            pool['distance'] = abs(pool.cumsum_weight-d['Difference in Population'][FIPS])\n",
    "            min_index = pool.sort(columns='distance')[:1].index\n",
    "            min_weight = int(pool.loc[min_index].cumsum_weight)\n",
    "            pool['impute'] = np.where(pool.cumsum_weight<=min_weight+10 , 1, 0)\n",
    "            hh_SNAP.impute[pool.index[pool['impute']==1]] = 1\n",
    "            hh_SNAP.snap_impute[pool.index[pool['impute']==1]] = admin['Average household benefit'][FIPS]*12\n",
    "\n",
    "        print ('Method1: regression gives', \n",
    "                hh_SNAP.hh_marsupwt[(hh_SNAP.impute==1)&this_state].sum()) "
   ]
  },
  {
   "cell_type": "code",
   "execution_count": 27,
   "metadata": {
    "collapsed": false
   },
   "outputs": [],
   "source": [
    "#Adjustment ratio\n",
    "results = {}\n",
    "\n",
    "imputed = (hh_SNAP.impute == 1)\n",
    "has_val = (hh_SNAP.hh_hfdval != 0)\n",
    "no_val = (hh_SNAP.hh_hfdval == 0)\n",
    "\n",
    "for FIPS in admin.Fips:\n",
    "    this_state = (hh_SNAP.hh_gestfips==FIPS)\n",
    "    \n",
    "    current_total = (hh_SNAP.hh_hfdval * hh_SNAP.hh_marsupwt)[this_state].sum() #yearly benefit\n",
    "    imputed_total = (hh_SNAP.snap_impute * hh_SNAP.hh_marsupwt)[this_state&imputed].sum()\n",
    "    on_file = current_total + imputed_total\n",
    "\n",
    "    admin_total = admin.Total[FIPS]\n",
    "    \n",
    "    adjust_ratio = admin_total / on_file\n",
    "    this_state_num = [admin['State'][FIPS], on_file, admin_total, adjust_ratio]\n",
    "    results[FIPS] = this_state_num\n",
    "    \n",
    "\n",
    "    hh_SNAP.snap_impute = np.where(has_val&this_state, hh_SNAP.hh_hfdval * adjust_ratio, hh_SNAP.snap_impute)\n",
    "    hh_SNAP.snap_impute = np.where(no_val&this_state, hh_SNAP.snap_impute * adjust_ratio, hh_SNAP.snap_impute)\n",
    "\n",
    "hh_SNAP[\"snap_participation\"] = np.zeros(len(hh_SNAP))\n",
    "hh_SNAP[\"snap_participation\"] = np.where(hh_SNAP.impute==1, 2, 0)\n",
    "hh_SNAP[\"snap_participation\"] = np.where(has_val, 1, hh_SNAP.snap_participation)\n",
    "\n",
    "\n",
    "r = DataFrame(results).transpose()\n",
    "r.columns=['State', 'Imputed', 'Admin', 'adjust ratio']\n",
    "r.to_csv('amount.csv', index=False)"
   ]
  },
  {
   "cell_type": "code",
   "execution_count": 28,
   "metadata": {
    "collapsed": false
   },
   "outputs": [],
   "source": [
    "hh_SNAP.to_csv('SNAP_Imputation.csv', \n",
    "                   columns=['snap_participation', 'snap_impute'])"
   ]
  },
  {
   "cell_type": "code",
   "execution_count": 29,
   "metadata": {
    "collapsed": false
   },
   "outputs": [],
   "source": [
    "#Individual check\n",
    "imputed1 = (hh_SNAP.snap_participation == 1)\n",
    "imputed2 = (hh_SNAP.snap_participation == 2)\n",
    "\n",
    "result = {}\n",
    "\n",
    "for FIPS in admin.Fips:\n",
    "    this_state = (hh_SNAP.hh_gestfips==FIPS)\n",
    "    admin_totalindividual =  admin[\"Individual number\"][FIPS]\n",
    "    imputed_totalindividual = (hh_SNAP.hh_marsupwt* hh_SNAP.hh_size*hh_SNAP.hh_hfoodmo/12)[this_state&imputed1].sum()+(hh_SNAP.hh_marsupwt*hh_SNAP.hh_size)[this_state&imputed2].sum()\n",
    "    this_state_numindividual = [admin['State'][FIPS], admin_totalindividual, imputed_totalindividual]\n",
    "    results[FIPS] = this_state_numindividual\n",
    "    \n",
    "r = DataFrame(results).transpose()\n",
    "r.columns=['State', 'admin_totalindividual', 'imputed_totalindividual']\n",
    "r.to_csv('check_individual.csv', index=False)"
   ]
  },
  {
   "cell_type": "code",
   "execution_count": 30,
   "metadata": {
    "collapsed": false
   },
   "outputs": [],
   "source": [
    "#Household size distribution\n",
    "result = {}\n",
    "household_weight = CPS_dataset.groupby('h_numper')['marsupwt'].sum()\n",
    "householdDistribution = DataFrame(household_weight.transpose())\n",
    "householdDistribution.columns = ['Household number']\n",
    "\n",
    "householdDistribution['Percentage'] = 100*householdDistribution['Household number']/householdDistribution['Household number'].sum()\n",
    "householdDistribution['Accumulative number'] = householdDistribution['Household number'].cumsum()\n",
    "householdDistribution['Accumulative percentage'] = 100*householdDistribution['Accumulative number']/householdDistribution['Household number'].sum()\n",
    "householdDistribution.to_csv('household_size.csv', index_label='Household size')"
   ]
  }
 ],
 "metadata": {
  "anaconda-cloud": {},
  "kernelspec": {
   "display_name": "Python [Root]",
   "language": "python",
   "name": "Python [Root]"
  },
  "language_info": {
   "codemirror_mode": {
    "name": "ipython",
    "version": 2
   },
   "file_extension": ".py",
   "mimetype": "text/x-python",
   "name": "python",
   "nbconvert_exporter": "python",
   "pygments_lexer": "ipython2",
   "version": "2.7.12"
  }
 },
 "nbformat": 4,
 "nbformat_minor": 0
}
