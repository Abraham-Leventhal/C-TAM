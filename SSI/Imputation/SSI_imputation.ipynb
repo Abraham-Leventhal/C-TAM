{
 "cells": [
  {
   "cell_type": "markdown",
   "metadata": {},
   "source": [
    "This script imputes Supplemental Security Income (SSI) recipients and dollar benefit amount to match the aggregates with Social Security Administration (SSA) statistics for SSI. In this current version, we used 2015 CPS data and SSA [2014 annual reports on SSI](https://www.ssa.gov/policy/docs/statcomps/ssi_asr/). Please refer to the documentation in the same folder for more details on methodology and assumptions. The output this script is a personal level dataset that contains CPS personal level ID (PERIDNUM), individual participation indicator (SSI_participation, 0 - not a recipient, 1 - current recipient on file, 2 - imputed recipient), and benefit amount.\n",
    "\n",
    "Input: 2015 CPS (cpsmar2015t.csv), 2014 number of recipients by age and state in Dec 2014 (SSI_by_age_state.csv)\n",
    "\n",
    "Output: SSI_Imputation.csv\n",
    "\n",
    "Additional Source links: https://www.ssa.gov/policy/docs/statcomps/ssi_sc/2015/table02.html"
   ]
  },
  {
   "cell_type": "code",
   "execution_count": 2,
   "metadata": {
    "collapsed": true
   },
   "outputs": [],
   "source": [
    "import pandas as pd\n",
    "from pandas import DataFrame\n",
    "import numpy as np\n",
    "import random\n",
    "import statsmodels.discrete.discrete_model as sm"
   ]
  },
  {
   "cell_type": "markdown",
   "metadata": {},
   "source": [
    "Trim the dataset and only keep columns relevant to SSI augmentation"
   ]
  },
  {
   "cell_type": "code",
   "execution_count": null,
   "metadata": {
    "collapsed": false
   },
   "outputs": [],
   "source": [
    "CPS_dataset = pd.read_csv('asec2015_pubuse.csv') "
   ]
  },
  {
   "cell_type": "code",
   "execution_count": null,
   "metadata": {
    "collapsed": true
   },
   "outputs": [],
   "source": [
    "columns_to_keep = ['ssi_val', 'ssi_yn','ssikidyn', 'resnssi1', 'resnssi2', 'marsupwt', 'a_age', 'gestfips',\n",
    "                   'pedisdrs', 'pedisear', 'pediseye', 'pedisout', 'pedisphy', 'pedisrem',\n",
    "                   'dis_hp', 'rsnnotw', 'vet_typ1', 'pemlr', 'mcare', 'a_ftpt', 'filestat',\n",
    "                   'wsal_val', 'semp_val', 'frse_val', 'ss_val', 'rtm_val', 'oi_off', 'oi_val',\n",
    "                   'uc_yn', 'uc_val', 'int_yn', 'int_val', 'a_spouse', 'paw_yn', 'vet_yn', \n",
    "                   'ffpos', 'fh_seq', 'finc_ssi', 'ftot_r', 'ftotval', 'ptot_r', 'ptotval',\n",
    "                   'peridnum', 'h_seq', 'i_ssival', 'fwsval', 'wc_yn', 'ss_yn', \n",
    "                   'sur_yn', 'dis_yn', 'hed_yn', 'hcsp_yn', 'hfdval', 'mcaid']\n",
    "\n",
    "CPS_dataset = CPS_dataset[columns_to_keep]\n",
    "CPS_dataset.to_csv('CPSASEC_SSI.csv', columns=columns_to_keep, index=False)"
   ]
  },
  {
   "cell_type": "code",
   "execution_count": 3,
   "metadata": {
    "collapsed": false
   },
   "outputs": [],
   "source": [
    "CPS_dataset = pd.read_csv('CPSASEC_SSI.csv')"
   ]
  },
  {
   "cell_type": "markdown",
   "metadata": {},
   "source": [
    "# Converting age and SSI benefit to numeric values"
   ]
  },
  {
   "cell_type": "code",
   "execution_count": 4,
   "metadata": {
    "collapsed": false
   },
   "outputs": [],
   "source": [
    "# for now assuming ages are evenly distributed in that range\n",
    "# how to make sure they're 80 years old and 85 years old?\n",
    "CPS_dataset.a_age = np.where(CPS_dataset.a_age == \"80-84 years of age\", 80,\n",
    "                             CPS_dataset.a_age)\n",
    "CPS_dataset.a_age = np.where(CPS_dataset.a_age == \"85+ years of age\", 85,\n",
    "                             CPS_dataset.a_age)\n",
    "CPS_dataset.a_age = pd.to_numeric(CPS_dataset.a_age)"
   ]
  },
  {
   "cell_type": "code",
   "execution_count": 5,
   "metadata": {
    "collapsed": false
   },
   "outputs": [],
   "source": [
    "# all existing ssi_val are greater than 0 (min==1)\n",
    "CPS_dataset.ssi_val = np.where(CPS_dataset.ssi_val == \"None or not in universe\",'0', CPS_dataset.ssi_val)\n",
    "CPS_dataset.ssi_val = pd.to_numeric(CPS_dataset.ssi_val)"
   ]
  },
  {
   "cell_type": "markdown",
   "metadata": {},
   "source": [
    "# Create disability proxy indicator"
   ]
  },
  {
   "cell_type": "code",
   "execution_count": 6,
   "metadata": {
    "collapsed": true
   },
   "outputs": [],
   "source": [
    "a1 = (CPS_dataset.pedisdrs == 'Yes')\n",
    "a2 = (CPS_dataset.pedisear == 'Yes')\n",
    "a3 = (CPS_dataset.pediseye == 'Yes')\n",
    "a4 = (CPS_dataset.pedisout == 'Yes')\n",
    "a5 = (CPS_dataset.pedisphy == 'Yes')\n",
    "a6 = (CPS_dataset.pedisrem == 'Yes')\n",
    "disability = (a1|a2|a3|a4|a5|a6)"
   ]
  },
  {
   "cell_type": "code",
   "execution_count": 7,
   "metadata": {
    "collapsed": false
   },
   "outputs": [],
   "source": [
    "d1 = (CPS_dataset.dis_hp == 'Yes')\n",
    "d2 = (CPS_dataset.pemlr == 'Not in labor force - disabled')\n",
    "d3 = (CPS_dataset.rsnnotw == 'Ill or disabled')\n",
    "d4 = (CPS_dataset.vet_typ1 == 'Yes')\n",
    "d5 = (CPS_dataset.a_age < 65) & (CPS_dataset.a_age >= 18) & (CPS_dataset.mcare == 'Yes')\n",
    "work_disability = (d1|d2|d3|d4|d5)"
   ]
  },
  {
   "cell_type": "markdown",
   "metadata": {},
   "source": [
    "# Create SSI countable income proxy"
   ]
  },
  {
   "cell_type": "code",
   "execution_count": 8,
   "metadata": {
    "collapsed": true
   },
   "outputs": [],
   "source": [
    "def countable(earned, unearned, deemed=None):\n",
    "    if deemed is not None:\n",
    "        SSI_countable = earned + unearned + deemed\n",
    "    else:\n",
    "        SSI_countable = earned + unearned\n",
    "        \n",
    "    SSI_countable = np.where(SSI_countable > 0, SSI_countable, 0)\n",
    "    \n",
    "    # disgards\n",
    "    SSI_countable = np.where(SSI_countable>20*12, SSI_countable - 20*12, 0) # exclude $20 from most income items\n",
    "    SSI_countable = np.where((earned > 65*12)&(SSI_countable > 65*12), SSI_countable - 65*12, 0) # exclude he first $65 of earnings \n",
    "    SSI_countable = np.where((earned > 65*12)&(SSI_countable > 0.5*(earned - 65*12)), \n",
    "                             SSI_countable - 0.5*(earned - 65*12), 0) # one–half of earnings over $65 received in a month \n",
    "    \n",
    "    return SSI_countable"
   ]
  },
  {
   "cell_type": "code",
   "execution_count": 9,
   "metadata": {
    "collapsed": true
   },
   "outputs": [],
   "source": [
    "wage = pd.to_numeric(np.where(CPS_dataset.wsal_val!= 'None or not in universe', CPS_dataset.wsal_val, 0))\n",
    "self_employed1 = pd.to_numeric(np.where(CPS_dataset.semp_val!= 'None or not in universe', CPS_dataset.semp_val, 0))\n",
    "self_employed2 = pd.to_numeric(np.where(CPS_dataset.frse_val!= 'None or not in universe', CPS_dataset.frse_val, 0))\n",
    "earned = wage + self_employed1 + self_employed2"
   ]
  },
  {
   "cell_type": "code",
   "execution_count": 10,
   "metadata": {
    "collapsed": true
   },
   "outputs": [],
   "source": [
    "ss = pd.to_numeric(np.where(CPS_dataset.ss_val!='None or not in universe', CPS_dataset.ss_val, 0))\n",
    "pension = pd.to_numeric(np.where(CPS_dataset.rtm_val!='None or not in universe', CPS_dataset.rtm_val, 0))\n",
    "#too under-reported?\n",
    "disability = pd.to_numeric(np.where(CPS_dataset.oi_off=='State disability payments', CPS_dataset.oi_val, 0))\n",
    "unemploy = pd.to_numeric(np.where(CPS_dataset.uc_yn=='Yes', CPS_dataset.uc_val, 0))\n",
    "interest = pd.to_numeric(np.where(CPS_dataset.int_yn=='Yes', CPS_dataset.int_val, 0))\n",
    "unearned = ss + pension + disability + unemploy + interest"
   ]
  },
  {
   "cell_type": "code",
   "execution_count": 11,
   "metadata": {
    "collapsed": true
   },
   "outputs": [],
   "source": [
    "no_public_assistance = (CPS_dataset.paw_yn != 'Yes')\n",
    "not_married_HH = (CPS_dataset.filestat=='Single')|(CPS_dataset.filestat=='Nonfiler')\n",
    "student_under22 = (CPS_dataset.a_ftpt != 'Not in universe or children and')&(CPS_dataset.a_age < 22)\n",
    "under_18 = (CPS_dataset.a_age < 18)\n",
    "ineligible_children = np.where(no_public_assistance&(student_under22|under_18), 1, 0)"
   ]
  },
  {
   "cell_type": "code",
   "execution_count": 12,
   "metadata": {
    "collapsed": true
   },
   "outputs": [],
   "source": [
    "CPS_dataset['SSI_countable'] = countable(earned, unearned)"
   ]
  },
  {
   "cell_type": "code",
   "execution_count": 13,
   "metadata": {
    "collapsed": true
   },
   "outputs": [],
   "source": [
    "combined = np.where((disability==1)|(work_disability==1), 1, 0)\n",
    "aged = np.where(CPS_dataset.a_age>=65, 1, 0)"
   ]
  },
  {
   "cell_type": "code",
   "execution_count": 14,
   "metadata": {
    "collapsed": true
   },
   "outputs": [],
   "source": [
    "subfields = {'old_disabled': (combined==1)&(aged==1),\n",
    "             'young_disabled': (combined==1)&(aged==0),\n",
    "             'old_not_disabled': (combined==0)&(aged==1),\n",
    "             'young_not_disabled': (combined==0)&(aged==0)}"
   ]
  },
  {
   "cell_type": "code",
   "execution_count": 15,
   "metadata": {
    "collapsed": false
   },
   "outputs": [
    {
     "name": "stdout",
     "output_type": "stream",
     "text": [
      "group: young_disabled, benchmark: 1609\n",
      "group: old_not_disabled, benchmark: 0\n",
      "group: old_disabled, benchmark: 0\n",
      "group: young_not_disabled, benchmark: 18642\n"
     ]
    }
   ],
   "source": [
    "low_income = np.zeros(len(CPS_dataset))\n",
    "for key in subfields:\n",
    "    benchmark = np.percentile(CPS_dataset.SSI_countable[CPS_dataset.index[(CPS_dataset.ssi_yn=='Yes')&subfields[key]]], 95)\n",
    "    low_income = np.where((CPS_dataset.SSI_countable <= benchmark) & subfields[key], 1, low_income)\n",
    "    #print \"group: %s, benchmark: %d\" % (key, benchmark)\n",
    "    print (\"group: %s, benchmark: %d\" % (key,benchmark)) #version of print() that works in Python 3.6"
   ]
  },
  {
   "cell_type": "code",
   "execution_count": 16,
   "metadata": {
    "collapsed": true
   },
   "outputs": [],
   "source": [
    "CPS_dataset['low_income'] = low_income\n",
    "CPS_dataset['ineligible_children'] = ineligible_children\n",
    "CPS_dataset['earned'] = earned\n",
    "CPS_dataset['unearned'] = unearned\n",
    "CPS_dataset['wage'] = wage"
   ]
  },
  {
   "cell_type": "markdown",
   "metadata": {},
   "source": [
    "# Defining SSI target records"
   ]
  },
  {
   "cell_type": "code",
   "execution_count": 17,
   "metadata": {
    "collapsed": true
   },
   "outputs": [],
   "source": [
    "SSI_target_pool = np.zeros(len(CPS_dataset))\n",
    "SSI_target_pool = np.where((low_income==1)&disability, 1, 0)\n",
    "SSI_target_pool = np.where((work_disability==1)&(low_income==1), 1, SSI_target_pool)\n",
    "SSI_target_pool = np.where((low_income==1)&(CPS_dataset.a_age<18)&disability, 1, SSI_target_pool)\n",
    "SSI_target_pool = np.where((low_income==1)&(CPS_dataset.a_age>=65), 1, SSI_target_pool)"
   ]
  },
  {
   "cell_type": "code",
   "execution_count": 18,
   "metadata": {
    "collapsed": true
   },
   "outputs": [],
   "source": [
    "CPS_dataset['current_recipient'] = np.where(((CPS_dataset.ssi_yn =='Yes')|(CPS_dataset.ssikidyn=='Received SSI')), 1, 0)\n",
    "SSI_target_pool = np.where(CPS_dataset.current_recipient==1, 1, SSI_target_pool)"
   ]
  },
  {
   "cell_type": "code",
   "execution_count": 19,
   "metadata": {
    "collapsed": true
   },
   "outputs": [],
   "source": [
    "SSI_target_pool = np.where(CPS_dataset.fwsval>57500, 0, SSI_target_pool)"
   ]
  },
  {
   "cell_type": "code",
   "execution_count": 20,
   "metadata": {
    "collapsed": true
   },
   "outputs": [],
   "source": [
    "CPS_dataset['SSI_target_pool'] = SSI_target_pool"
   ]
  },
  {
   "cell_type": "markdown",
   "metadata": {},
   "source": [
    "# import administrative totals"
   ]
  },
  {
   "cell_type": "code",
   "execution_count": 21,
   "metadata": {
    "collapsed": true
   },
   "outputs": [],
   "source": [
    "admin = pd.read_csv(\"SSI_by_age_state.csv\", \n",
    "                    dtype={'Under 18': np.float, '18-64':np.float, '65 or older': np.float,\n",
    "                           'Under 18 mean': np.float, '18-64 mean':np.float, '65 or older mean': np.float})\n",
    "admin.index = admin.Fips"
   ]
  },
  {
   "cell_type": "code",
   "execution_count": 22,
   "metadata": {
    "collapsed": true
   },
   "outputs": [],
   "source": [
    "# adjust targets and export adjusted targets to a CSV file\n",
    "state_benefit = {}\n",
    "state_recipients = {}\n",
    "for state in admin.Fips:\n",
    "    this_state = (CPS_dataset.gestfips==state)\n",
    "    CPS_total = (CPS_dataset.ssi_val * CPS_dataset.marsupwt)[this_state].sum()/1000000\n",
    "    federal_total = admin['State Total'][state]/1000\n",
    "    federal_total_adj = admin['State Total'][state] * 12.096/1000\n",
    "    \n",
    "    state_state = admin[\"State-administered Supplement 2010\"][state]/1000000\n",
    "    state_state_adj = admin[\"State-administered Supplement 2010\"][state] * 721/674/1000000\n",
    "    admin_total = federal_total_adj + state_state_adj\n",
    "    \n",
    "    temp = [admin['State'][state], CPS_total, federal_total, federal_total_adj, \n",
    "            state_state, state_state_adj, admin_total]\n",
    "    state_benefit[state] = temp\n",
    "    \n",
    "pre_augment_benefit = DataFrame(state_benefit).transpose()\n",
    "pre_augment_benefit.columns = ['State', 'CPS total', 'Federal Total', 'Federal Total after Adjustment',\n",
    "                               'State Total', 'State Total After adjustment', 'Admin Total']"
   ]
  },
  {
   "cell_type": "code",
   "execution_count": 23,
   "metadata": {
    "collapsed": true
   },
   "outputs": [],
   "source": [
    "pre_augment_benefit.to_csv('pre-blow-up.csv')"
   ]
  },
  {
   "cell_type": "code",
   "execution_count": 24,
   "metadata": {
    "collapsed": false
   },
   "outputs": [
    {
     "data": {
      "text/plain": [
       "6846928.109999987"
      ]
     },
     "execution_count": 24,
     "metadata": {},
     "output_type": "execute_result"
    }
   ],
   "source": [
    "CPS_dataset.marsupwt[CPS_dataset.ssi_yn=='Yes'].sum()"
   ]
  },
  {
   "cell_type": "code",
   "execution_count": 25,
   "metadata": {
    "collapsed": true
   },
   "outputs": [],
   "source": [
    "# calculate difference of SSA stats and CPS aggregates on recipients' number\n",
    "# by state and age\n",
    "diff = {'Fips': [], 'Under 18':[], '18-64':[], '65 or older':[],\n",
    "        'Under 18 mean':[], '18-64 mean':[], '65 or older mean':[],\n",
    "       'Under 18 cps':[], '18-64 cps':[], '65 or older cps':[],\n",
    "       'Under 18 ssa':[], '18-64 ssa':[], '65 or older ssa':[]}\n",
    "diff['Fips'] = admin.Fips\n",
    "\n",
    "current = (CPS_dataset.current_recipient==1)\n",
    "category = {'Under 18': (CPS_dataset.a_age<18),\n",
    "            '18-64': (CPS_dataset.a_age>=18)&(CPS_dataset.a_age<65),\n",
    "            '65 or older': (CPS_dataset.a_age>=65)}\n",
    "\n",
    "augment_ratio = {'Under 18': 1.401/1.299,\n",
    "                 '18-64': 5.523/4.626,\n",
    "                 '65 or older': 2.344/2.122}\n",
    "\n",
    "for group in ['Under 18', '18-64', '65 or older']:\n",
    "    for FIPS in admin.Fips:\n",
    "        this_state = (CPS_dataset.gestfips==FIPS)\n",
    "        age_range = category[group]\n",
    "        current_tots = CPS_dataset.marsupwt[current&this_state&age_range].sum()\n",
    "        \n",
    "        valid_num = CPS_dataset.marsupwt[current&this_state&age_range].sum() + 0.0000001\n",
    "        current_mean = ((CPS_dataset.ssi_val*CPS_dataset.marsupwt)[current&this_state&age_range]).sum()/valid_num\n",
    "        \n",
    "        this_admin = augment_ratio[group] * float(admin[group][admin.Fips==FIPS])\n",
    "        diff[str(group) + ' cps'].append(current_tots)\n",
    "        diff[str(group) + ' ssa'].append(float(admin[group][admin.Fips==FIPS]))\n",
    "        diff[group].append(this_admin - current_tots)\n",
    "        diff[str(group + ' mean')].append(float(current_mean)/12)"
   ]
  },
  {
   "cell_type": "code",
   "execution_count": 26,
   "metadata": {
    "collapsed": true
   },
   "outputs": [],
   "source": [
    "d = DataFrame(diff)\n",
    "d.to_csv('recipients.csv', index=False)"
   ]
  },
  {
   "cell_type": "code",
   "execution_count": 27,
   "metadata": {
    "collapsed": true
   },
   "outputs": [],
   "source": [
    "CPS_dataset['ssi_indicator'] = np.where((CPS_dataset.ssi_yn=='Yes')|(CPS_dataset.ssikidyn=='Received SSI'), 1, 0)\n",
    "CPS_dataset['paw_yn'] = np.where(CPS_dataset.paw_yn=='Yes', 1, 0)\n",
    "CPS_dataset['wc_yn'] = np.where(CPS_dataset.wc_yn=='Yes', 1, 0)\n",
    "CPS_dataset['uc_yn'] = np.where(CPS_dataset.uc_yn=='Yes', 1, 0)\n",
    "CPS_dataset['ss_yn'] = np.where(CPS_dataset.ss_yn=='Yes', 1, 0)\n",
    "CPS_dataset['sur_yn'] = np.where(CPS_dataset.sur_yn=='Yes', 1, 0)\n",
    "CPS_dataset['dis_yn'] = np.where(CPS_dataset.dis_yn=='Yes', 1, 0)\n",
    "CPS_dataset['vet_yn'] = np.where(CPS_dataset.vet_yn=='Yes', 1, 0)\n",
    "CPS_dataset['hed_yn'] = np.where(CPS_dataset.hed_yn=='Yes', 1, 0)\n",
    "CPS_dataset['hcsp_yn'] = np.where(CPS_dataset.hcsp_yn=='Yes', 1, 0)\n",
    "CPS_dataset['hfdval'] = np.where(CPS_dataset.hfdval!='Not in universe', 1, 0)\n",
    "CPS_dataset['countable_income'] = CPS_dataset.SSI_countable\n",
    "CPS_dataset['mcare'] = np.where(CPS_dataset.mcare=='Yes', 1, 0)\n",
    "CPS_dataset['mcaid'] = np.where(CPS_dataset.mcaid=='Yes', 1, 0)\n",
    "\n",
    "SSI_disability = ((CPS_dataset.resnssi1!='NIU')&(CPS_dataset.resnssi1!='Other (adult or child)'))|((CPS_dataset.resnssi2!='NIU')&(CPS_dataset.resnssi2!='Other (adult or child)'))\n",
    "CPS_dataset['combined_disability'] = np.where(disability|work_disability|SSI_disability, 1, 0)"
   ]
  },
  {
   "cell_type": "code",
   "execution_count": 28,
   "metadata": {
    "collapsed": true
   },
   "outputs": [],
   "source": [
    "CPS_dataset['age_dummy18'] = np.where(CPS_dataset.a_age<18, 1, 0)\n",
    "CPS_dataset['age_dummy65'] = np.where(CPS_dataset.a_age>=65, 1, 0)"
   ]
  },
  {
   "cell_type": "code",
   "execution_count": 29,
   "metadata": {
    "collapsed": false
   },
   "outputs": [
    {
     "name": "stdout",
     "output_type": "stream",
     "text": [
      "Optimization terminated successfully.\n",
      "         Current function value: 0.034985\n",
      "         Iterations 12\n"
     ]
    }
   ],
   "source": [
    "CPS_dataset['intercept'] = np.ones(len(CPS_dataset))\n",
    "CPS_dataset['age18_X_disability'] = CPS_dataset.age_dummy18 * CPS_dataset.combined_disability\n",
    "CPS_dataset['age65_X_disability'] = CPS_dataset.age_dummy65 * CPS_dataset.combined_disability\n",
    "model = sm.Logit(endog= CPS_dataset.ssi_indicator, \n",
    "                 exog= CPS_dataset[['intercept','countable_income','combined_disability','uc_yn', 'ss_yn', 'wc_yn',\n",
    "                                    'paw_yn', 'vet_yn', 'sur_yn', 'hed_yn', 'hcsp_yn', 'hfdval', 'mcare', 'mcaid',\n",
    "                                    'age_dummy18','age_dummy65','age18_X_disability', 'age65_X_disability']])\n",
    "results = model.fit()"
   ]
  },
  {
   "cell_type": "code",
   "execution_count": 30,
   "metadata": {
    "collapsed": false,
    "scrolled": false
   },
   "outputs": [
    {
     "name": "stdout",
     "output_type": "stream",
     "text": [
      "                           Logit Regression Results                           \n",
      "==============================================================================\n",
      "Dep. Variable:          ssi_indicator   No. Observations:               199024\n",
      "Model:                          Logit   Df Residuals:                   199006\n",
      "Method:                           MLE   Df Model:                           17\n",
      "Date:                Mon, 28 Aug 2017   Pseudo R-squ.:                  0.6483\n",
      "Time:                        11:35:32   Log-Likelihood:                -6962.9\n",
      "converged:                       True   LL-Null:                       -19798.\n",
      "                                        LLR p-value:                     0.000\n",
      "=======================================================================================\n",
      "                          coef    std err          z      P>|z|      [95.0% Conf. Int.]\n",
      "---------------------------------------------------------------------------------------\n",
      "intercept              -8.3085      0.111    -74.727      0.000        -8.526    -8.091\n",
      "countable_income    -4.301e-05   5.07e-06     -8.485      0.000     -5.29e-05 -3.31e-05\n",
      "combined_disability     4.2059      0.091     46.262      0.000         4.028     4.384\n",
      "uc_yn                   0.1353      0.181      0.749      0.454        -0.219     0.489\n",
      "ss_yn                  -1.1313      0.059    -19.248      0.000        -1.246    -1.016\n",
      "wc_yn                  -0.9620      0.256     -3.755      0.000        -1.464    -0.460\n",
      "paw_yn                 -0.6723      0.107     -6.263      0.000        -0.883    -0.462\n",
      "vet_yn                 -0.6390      0.160     -4.003      0.000        -0.952    -0.326\n",
      "sur_yn                 -0.0508      0.215     -0.237      0.813        -0.471     0.370\n",
      "hed_yn                 -0.3838      0.104     -3.678      0.000        -0.588    -0.179\n",
      "hcsp_yn                -0.1657      0.101     -1.635      0.102        -0.364     0.033\n",
      "hfdval                  0.4612      0.046      9.924      0.000         0.370     0.552\n",
      "mcare                   1.1235      0.068     16.407      0.000         0.989     1.258\n",
      "mcaid                   3.9843      0.073     54.611      0.000         3.841     4.127\n",
      "age_dummy18            -2.4890      0.208    -11.964      0.000        -2.897    -2.081\n",
      "age_dummy65             1.9726      0.136     14.510      0.000         1.706     2.239\n",
      "age18_X_disability      3.2567      0.255     12.779      0.000         2.757     3.756\n",
      "age65_X_disability     -1.7754      0.139    -12.750      0.000        -2.048    -1.502\n",
      "=======================================================================================\n"
     ]
    }
   ],
   "source": [
    "#print results.summary()\n",
    "print (results.summary()) #version of print() function that works in Python 3.6"
   ]
  },
  {
   "cell_type": "code",
   "execution_count": 31,
   "metadata": {
    "collapsed": true
   },
   "outputs": [],
   "source": [
    "probs = results.predict()\n",
    "CPS_dataset['probs'] = probs"
   ]
  },
  {
   "cell_type": "code",
   "execution_count": 32,
   "metadata": {
    "collapsed": false,
    "scrolled": false
   },
   "outputs": [
    {
     "name": "stdout",
     "output_type": "stream",
     "text": [
      "('there is nothing we could do you this sate', 1, 'at age range', 'Under 18')\n",
      "('there is nothing we could do you this sate', 2, 'at age range', 'Under 18')\n",
      "('we need to impute', 22625.233256351039, 'for state', 4, 'In the end we get', 1129.31)\n",
      "('we need to impute', 24828.54875288684, 'for state', 5, 'In the end we get', 684.95)\n",
      "('we need to impute', 107522.95448036952, 'for state', 6, 'In the end we get', 10653.470000000001)\n",
      "('we need to impute', 7001.3427020785221, 'for state', 8, 'In the end we get', 998.06)\n",
      "('we need to impute', 7292.259099307159, 'for state', 9, 'In the end we get', 2896.2200000000003)\n",
      "('there is nothing we could do you this sate', 10, 'at age range', 'Under 18')\n",
      "('we need to impute', 3914.0509930715934, 'for state', 11, 'In the end we get', 141.49)\n",
      "('we need to impute', 107371.20337182449, 'for state', 12, 'In the end we get', 8634.16)\n",
      "('there is nothing we could do you this sate', 13, 'at age range', 'Under 18')\n",
      "('there is nothing we could do you this sate', 15, 'at age range', 'Under 18')\n",
      "('we need to impute', 5234.4983371824483, 'for state', 16, 'In the end we get', 1333.19)\n",
      "('we need to impute', 29883.661639722864, 'for state', 17, 'In the end we get', 9584.69)\n",
      "('we need to impute', 19225.860069284066, 'for state', 18, 'In the end we get', 1967.43)\n",
      "('there is nothing we could do you this sate', 19, 'at age range', 'Under 18')\n",
      "('there is nothing we could do you this sate', 20, 'at age range', 'Under 18')\n",
      "('there is nothing we could do you this sate', 21, 'at age range', 'Under 18')\n",
      "('we need to impute', 33304.148475750582, 'for state', 22, 'In the end we get', 701.6)\n",
      "('we need to impute', 3742.7105080831407, 'for state', 23, 'In the end we get', 759.25)\n",
      "('we need to impute', 18702.199676674365, 'for state', 24, 'In the end we get', 9512.380000000001)\n",
      "('we need to impute', 19653.486120092377, 'for state', 25, 'In the end we get', 1503.78)\n",
      "('we need to impute', 37447.64441108545, 'for state', 26, 'In the end we get', 4319.72)\n",
      "('there is nothing we could do you this sate', 27, 'at age range', 'Under 18')\n",
      "('we need to impute', 19772.24478060046, 'for state', 28, 'In the end we get', 729.44)\n",
      "('we need to impute', 14847.913002309469, 'for state', 29, 'In the end we get', 7169.28)\n",
      "('there is nothing we could do you this sate', 30, 'at age range', 'Under 18')\n",
      "('we need to impute', 3949.6525635103931, 'for state', 31, 'In the end we get', 676.5)\n",
      "('we need to impute', 7324.8046651270197, 'for state', 32, 'In the end we get', 824.27)\n",
      "('we need to impute', 1434.2912009237875, 'for state', 33, 'In the end we get', 575.17)\n",
      "('we need to impute', 19110.417113163974, 'for state', 34, 'In the end we get', 1619.77)\n",
      "('we need to impute', 8705.9102078521937, 'for state', 35, 'In the end we get', 713.42)\n",
      "('we need to impute', 75544.837413394911, 'for state', 36, 'In the end we get', 11756.420000000002)\n",
      "('there is nothing we could do you this sate', 37, 'at age range', 'Under 18')\n",
      "('there is nothing we could do you this sate', 38, 'at age range', 'Under 18')\n",
      "('we need to impute', 42096.913787528872, 'for state', 39, 'In the end we get', 3471.1500000000005)\n",
      "('we need to impute', 17627.537043879907, 'for state', 40, 'In the end we get', 2383.22)\n",
      "('we need to impute', 11577.933025404158, 'for state', 41, 'In the end we get', 1301.22)\n",
      "('we need to impute', 63848.767436489601, 'for state', 42, 'In the end we get', 4608.81)\n",
      "('we need to impute', 3937.6329330254039, 'for state', 44, 'In the end we get', 1735.6399999999999)\n",
      "('we need to impute', 20763.370369515011, 'for state', 45, 'In the end we get', 1581.74)\n",
      "('we need to impute', 2819.2563510392611, 'for state', 46, 'In the end we get', 185.89)\n",
      "('we need to impute', 26918.829099307161, 'for state', 47, 'In the end we get', 3009.91)\n",
      "('we need to impute', 133823.80448036952, 'for state', 48, 'In the end we get', 13532.43)\n",
      "('we need to impute', 5807.8406466512706, 'for state', 49, 'In the end we get', 1958.3300000000002)\n",
      "('we need to impute', 882.72519630484987, 'for state', 50, 'In the end we get', 262.5)\n",
      "('we need to impute', 19698.286974595845, 'for state', 51, 'In the end we get', 1512.06)\n",
      "('we need to impute', 16333.476720554272, 'for state', 53, 'In the end we get', 3455.6800000000003)\n",
      "('we need to impute', 3274.7379676674364, 'for state', 54, 'In the end we get', 1008.3100000000001)\n",
      "('there is nothing we could do you this sate', 55, 'at age range', 'Under 18')\n",
      "('we need to impute', 1080.6789838337183, 'for state', 56, 'In the end we get', 640.2800000000001)\n",
      "('we need to impute', 39356.807133592723, 'for state', 1, 'In the end we get', 39645.22000000001)\n",
      "('we need to impute', 1235.5683268482462, 'for state', 2, 'In the end we get', 1178.92)\n",
      "('we need to impute', 21398.399299610879, 'for state', 4, 'In the end we get', 21609.25)\n",
      "('we need to impute', 9326.4210376135015, 'for state', 5, 'In the end we get', 9251.380000000001)\n",
      "('we need to impute', 198050.23678339785, 'for state', 6, 'In the end we get', 198747.52)\n",
      "('we need to impute', 9101.5585343709445, 'for state', 11, 'In the end we get', 9060.23)\n",
      "('we need to impute', 69095.631348897499, 'for state', 13, 'In the end we get', 68664.39)\n",
      "('we need to impute', 4696.0477950713357, 'for state', 15, 'In the end we get', 4535.74)\n",
      "('we need to impute', 7186.0663683527819, 'for state', 16, 'In the end we get', 7094.82)\n",
      "('we need to impute', 97753.630869001267, 'for state', 17, 'In the end we get', 96948.45)\n",
      "('we need to impute', 32949.871945525243, 'for state', 21, 'In the end we get', 32651.210000000006)\n",
      "('we need to impute', 37526.689130998682, 'for state', 22, 'In the end we get', 37650.240000000005)\n",
      "('we need to impute', 2404.926627756151, 'for state', 23, 'In the end we get', 2221.11)\n",
      "('we need to impute', 20705.290739299598, 'for state', 24, 'In the end we get', 20200.36)\n",
      "('we need to impute', 30109.646121919533, 'for state', 26, 'In the end we get', 29565.5)\n",
      "('we need to impute', 3373.7722178988333, 'for state', 27, 'In the end we get', 2534.37)\n",
      "('we need to impute', 8862.5461478598882, 'for state', 28, 'In the end we get', 9108.37)\n",
      "('we need to impute', 37260.637652399455, 'for state', 29, 'In the end we get', 36207.15)\n",
      "('we need to impute', 2361.4481582360495, 'for state', 31, 'In the end we get', 2138.79)\n",
      "('we need to impute', 23013.385291828799, 'for state', 35, 'In the end we get', 22927.210000000003)\n",
      "('we need to impute', 17069.998741893622, 'for state', 37, 'In the end we get', 17420.91)\n",
      "('we need to impute', 2380.2786121919571, 'for state', 38, 'In the end we get', 2216.45)\n",
      "('we need to impute', 9856.1663424124417, 'for state', 40, 'In the end we get', 10668.43)\n",
      "('we need to impute', 5603.7907522697569, 'for state', 41, 'In the end we get', 4969.37)\n",
      "('we need to impute', 30562.20032425411, 'for state', 42, 'In the end we get', 28484.55)\n",
      "('we need to impute', 7630.7987029831311, 'for state', 44, 'In the end we get', 7724.38)\n",
      "('we need to impute', 10758.981517509688, 'for state', 45, 'In the end we get', 11067.22)\n",
      "('we need to impute', 2472.7999999999993, 'for state', 46, 'In the end we get', 2583.48)\n",
      "('we need to impute', 65499.456472114092, 'for state', 47, 'In the end we get', 65751.21)\n",
      "('we need to impute', 1141.10444876783, 'for state', 50, 'In the end we get', 1065.4099999999999)\n",
      "('we need to impute', 10399.522088197118, 'for state', 51, 'In the end we get', 10699.65)\n",
      "('we need to impute', 9469.9555382619728, 'for state', 53, 'In the end we get', 10068.02)\n",
      "('we need to impute', 13382.326342412416, 'for state', 55, 'In the end we get', 13550.58)\n",
      "('we need to impute', 153.73093385213815, 'for state', 56, 'In the end we get', 186.49)\n",
      "('we need to impute', 11212.444326107448, 'for state', 1, 'In the end we get', 10831.210000000001)\n",
      "('we need to impute', 1158.3013006597553, 'for state', 2, 'In the end we get', 1034.26)\n",
      "('we need to impute', 11404.572469368519, 'for state', 4, 'In the end we get', 11473.27)\n",
      "('we need to impute', 277619.63278039574, 'for state', 6, 'In the end we get', 278059.3300000002)\n",
      "('we need to impute', 4662.4109236569257, 'for state', 9, 'In the end we get', 4637.9800000000005)\n",
      "('we need to impute', 358.17540056550479, 'for state', 10, 'In the end we get', 448.88)\n",
      "('we need to impute', 1426.03506126296, 'for state', 11, 'In the end we get', 1374.3300000000002)\n",
      "('we need to impute', 97268.560131950973, 'for state', 12, 'In the end we get', 97770.27000000003)\n",
      "('we need to impute', 31438.738407163055, 'for state', 13, 'In the end we get', 31060.46)\n",
      "('we need to impute', 4149.5393025447693, 'for state', 15, 'In the end we get', 4163.56)\n",
      "('we need to impute', 1083.8264561734218, 'for state', 16, 'In the end we get', 751.03)\n",
      "('we need to impute', 32759.98249764373, 'for state', 17, 'In the end we get', 33993.75)\n",
      "('we need to impute', 836.93350612629547, 'for state', 18, 'In the end we get', 1420.23)\n",
      "('we need to impute', 2036.9836757775693, 'for state', 19, 'In the end we get', 2076.56)\n",
      "('we need to impute', 5691.042384542885, 'for state', 20, 'In the end we get', 5339.5)\n",
      "('we need to impute', 10410.074382657876, 'for state', 21, 'In the end we get', 10308.32)\n",
      "('we need to impute', 5368.6798397738094, 'for state', 22, 'In the end we get', 5291.33)\n",
      "('we need to impute', 4024.8117907634314, 'for state', 23, 'In the end we get', 4197.03)\n",
      "('we need to impute', 19978.135513666355, 'for state', 24, 'In the end we get', 20786.27)\n",
      "('we need to impute', 8181.6328557964225, 'for state', 25, 'In the end we get', 8481.57)\n",
      "('we need to impute', 20396.463770028276, 'for state', 26, 'In the end we get', 20109.84)\n",
      "('we need to impute', 7411.7729594721968, 'for state', 27, 'In the end we get', 7347.73)\n",
      "('we need to impute', 7607.5747690857643, 'for state', 28, 'In the end we get', 7800.75)\n",
      "('we need to impute', 2338.6565127238464, 'for state', 29, 'In the end we get', 2959.35)\n",
      "('we need to impute', 1187.5473327049958, 'for state', 30, 'In the end we get', 1006.77)\n",
      "('we need to impute', 3683.1612912346845, 'for state', 31, 'In the end we get', 4083.2200000000003)\n",
      "('we need to impute', 7712.215447690859, 'for state', 32, 'In the end we get', 7700.71)\n",
      "('we need to impute', 34937.646295947226, 'for state', 34, 'In the end we get', 36318.74)\n",
      "('we need to impute', 12261.042243166823, 'for state', 35, 'In the end we get', 12339.3)\n",
      "('we need to impute', 18989.280348727567, 'for state', 36, 'In the end we get', 17417.01)\n",
      "('we need to impute', 3811.9671347785188, 'for state', 37, 'In the end we get', 4109.69)\n",
      "('we need to impute', 11448.821479736107, 'for state', 39, 'In the end we get', 12960.16)\n",
      "('we need to impute', 3734.064590009426, 'for state', 40, 'In the end we get', 3630.3199999999997)\n",
      "('we need to impute', 7172.3933459000946, 'for state', 41, 'In the end we get', 6604.23)\n",
      "('we need to impute', 5031.0180395853095, 'for state', 42, 'In the end we get', 6526.64)\n",
      "('we need to impute', 5362.3367295004718, 'for state', 44, 'In the end we get', 5466.249999999999)\n",
      "('we need to impute', 4201.0521206409067, 'for state', 45, 'In the end we get', 5494.0)\n",
      "('we need to impute', 17480.488463713478, 'for state', 47, 'In the end we get', 16571.9)\n",
      "('we need to impute', 95690.200706880336, 'for state', 48, 'In the end we get', 94592.06000000001)\n",
      "('we need to impute', 1765.4080584354388, 'for state', 49, 'In the end we get', 2098.72)\n",
      "('we need to impute', 1512.7550989632423, 'for state', 50, 'In the end we get', 1406.8)\n",
      "('we need to impute', 17145.725683317625, 'for state', 51, 'In the end we get', 17584.129999999997)\n",
      "('we need to impute', 3642.4775117813406, 'for state', 53, 'In the end we get', 2839.95)\n",
      "('we need to impute', 1113.5296983977423, 'for state', 55, 'In the end we get', 1250.34)\n",
      "('we need to impute', 753.31561734213005, 'for state', 56, 'In the end we get', 731.53)\n"
     ]
    }
   ],
   "source": [
    "CPS_dataset['impute'] = np.zeros(len(CPS_dataset))\n",
    "CPS_dataset['ssi_impute'] = np.zeros(len(CPS_dataset))\n",
    "\n",
    "non_current = (CPS_dataset.current_recipient == 0)\n",
    "current = (CPS_dataset.current_recipient == 1)\n",
    "targets = (CPS_dataset.SSI_target_pool==1)\n",
    "random.seed()\n",
    "\n",
    "for group in ['Under 18','18-64', '65 or older']:\n",
    "    for FIPS in admin.Fips:\n",
    "        \n",
    "        if d[str(group)][FIPS] < 0:\n",
    "            continue\n",
    "        else:\n",
    "            this_state = (CPS_dataset.gestfips==FIPS)\n",
    "            age_range = category[group]\n",
    "            \n",
    "            not_imputed = (CPS_dataset.impute==0)\n",
    "            \n",
    "            pool_index = CPS_dataset[this_state&age_range&non_current&not_imputed&targets].index\n",
    "            if len(pool_index)==0:\n",
    "                print ('there is nothing we could do you this sate', FIPS, 'at age range', group)\n",
    "                continue\n",
    "            \n",
    "            pool = DataFrame({'weight': CPS_dataset.marsupwt[pool_index], 'prob': probs[pool_index]},\n",
    "                            index=pool_index)\n",
    "            \n",
    "            pool = pool.sort_values(by='prob', ascending=False)\n",
    "            pool['cumsum_weight'] = pool['weight'].cumsum()\n",
    "            pool['distance'] = abs(pool.cumsum_weight-d[str(group)][FIPS])\n",
    "            min_index = pool.sort_values(by='distance')[:1].index\n",
    "            min_weight = int(pool.loc[min_index].cumsum_weight)\n",
    "            pool['impute'] = np.where(pool.cumsum_weight<=min_weight+10 , 1, 0)\n",
    "            CPS_dataset.loc[pool.index[pool['impute']==1], 'impute'] = 1\n",
    "            CPS_dataset.loc[pool.index[pool['impute']==1], 'ssi_impute'] = admin[str(group)+' mean'][FIPS] * 12\n",
    "        \n",
    "        print ('we need to impute', d[group][FIPS], 'for state', FIPS, 'In the end we get', \n",
    "                CPS_dataset.marsupwt[(CPS_dataset.impute==1)&this_state&age_range].sum())   "
   ]
  },
  {
   "cell_type": "code",
   "execution_count": 33,
   "metadata": {
    "collapsed": true
   },
   "outputs": [],
   "source": [
    "results = {}\n",
    "\n",
    "imputed = (CPS_dataset.impute == 1)\n",
    "has_val = (CPS_dataset.ssi_val != 0)\n",
    "no_val = (CPS_dataset.ssi_val == 0)\n",
    "\n",
    "for FIPS in admin.Fips:\n",
    "    this_state = (CPS_dataset.gestfips==FIPS)\n",
    "    \n",
    "    # sum up current recipients total and imputed totals\n",
    "    current_total = (CPS_dataset.ssi_val*CPS_dataset.marsupwt)[this_state&(CPS_dataset.fwsval<57500)].sum()\n",
    "    imputed_total = (CPS_dataset.ssi_impute*CPS_dataset.marsupwt)[this_state&imputed].sum()\n",
    "    on_file = (current_total + imputed_total)/1000000\n",
    "    \n",
    "    # w\n",
    "    federal_total = admin['State Total'][FIPS] * 55000000.0/admin['State Total'].sum()/1000\n",
    "    state_state = admin[\"State-administered Supplement 2010\"][FIPS] * 721/674/1000000\n",
    "    admin_total = federal_total + state_state\n",
    "    \n",
    "    adjust_ratio = admin_total / on_file\n",
    "    this_state_num = [admin['State'][FIPS], on_file, admin_total, adjust_ratio]\n",
    "    results[FIPS] = this_state_num\n",
    "    \n",
    "\n",
    "    CPS_dataset.ssi_impute = np.where(has_val&this_state, CPS_dataset.ssi_val * adjust_ratio, CPS_dataset.ssi_impute)\n",
    "    CPS_dataset.ssi_impute = np.where(no_val&this_state, CPS_dataset.ssi_impute * adjust_ratio, CPS_dataset.ssi_impute)\n",
    "\n",
    "CPS_dataset[\"ssi_participation\"] = np.zeros(len(CPS_dataset))\n",
    "CPS_dataset.ssi_participation = np.where(CPS_dataset.impute==1, 2, 0)\n",
    "CPS_dataset.ssi_participation = np.where(current&(CPS_dataset.fwsval<57500), 1, CPS_dataset.ssi_participation)\n",
    "CPS_dataset.ssi_impute = np.where(CPS_dataset.ssi_participation==0, 0, CPS_dataset.ssi_impute)\n",
    "\n",
    "r = DataFrame(results).transpose()\n",
    "r.columns=['State', 'Imputed', 'Admin', 'adjust ratio']\n",
    "r.to_csv('amount.csv', index=False)"
   ]
  },
  {
   "cell_type": "code",
   "execution_count": 34,
   "metadata": {
    "collapsed": false
   },
   "outputs": [
    {
     "data": {
      "text/plain": [
       "59585000000.00008"
      ]
     },
     "execution_count": 34,
     "metadata": {},
     "output_type": "execute_result"
    }
   ],
   "source": [
    "(CPS_dataset.marsupwt * CPS_dataset.ssi_impute)[CPS_dataset.ssi_participation!=0].sum()"
   ]
  },
  {
   "cell_type": "code",
   "execution_count": 35,
   "metadata": {
    "collapsed": false
   },
   "outputs": [
    {
     "data": {
      "text/plain": [
       "8321542.850000003"
      ]
     },
     "execution_count": 35,
     "metadata": {},
     "output_type": "execute_result"
    }
   ],
   "source": [
    "CPS_dataset.marsupwt[CPS_dataset.ssi_participation!=0].sum()"
   ]
  },
  {
   "cell_type": "code",
   "execution_count": 36,
   "metadata": {
    "collapsed": false
   },
   "outputs": [
    {
     "data": {
      "text/plain": [
       "6345993.43"
      ]
     },
     "execution_count": 36,
     "metadata": {},
     "output_type": "execute_result"
    }
   ],
   "source": [
    "CPS_dataset.marsupwt[(CPS_dataset.current_recipient==1)&(CPS_dataset.earned==0)].sum()"
   ]
  },
  {
   "cell_type": "code",
   "execution_count": 37,
   "metadata": {
    "collapsed": true
   },
   "outputs": [],
   "source": [
    "CPS_dataset.to_csv('SSI_Imputation.csv', \n",
    "                   columns=['peridnum', 'ssi_participation', 'ssi_impute', 'h_seq', 'wage', 'a_age', 'fwsval','marsupwt', 'probs'],\n",
    "                   index=False)\n"
   ]
  }
 ],
 "metadata": {
  "anaconda-cloud": {},
  "kernelspec": {
   "display_name": "Python 2",
   "language": "python",
   "name": "python2"
  },
  "language_info": {
   "codemirror_mode": {
    "name": "ipython",
    "version": 2
   },
   "file_extension": ".py",
   "mimetype": "text/x-python",
   "name": "python",
   "nbconvert_exporter": "python",
   "pygments_lexer": "ipython2",
   "version": "2.7.12"
  }
 },
 "nbformat": 4,
 "nbformat_minor": 1
}
