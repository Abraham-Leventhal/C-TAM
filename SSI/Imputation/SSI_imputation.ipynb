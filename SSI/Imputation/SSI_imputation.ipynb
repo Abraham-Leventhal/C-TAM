{
 "cells": [
  {
   "cell_type": "markdown",
   "metadata": {},
   "source": [
    "This script impute Supplemental Security Income (SSI) recipients and dollar benefit amount to match the aggregates with Social Security Administration (SSA) statistics for SSI. In this current version, we used 2014 CPS data and SSA [2014 annual reports on SSI](https://www.ssa.gov/policy/docs/statcomps/ssi_asr/). Please refer to the documentation in the same folder for more details on methodology and assumptions. The output this script is a personal level dataset that contains CPS personal level ID (PERIDNUM), individual participation indicator (SSI_participation, 0 - not a recipient, 1 - current recipient on file, 2 - imputed recipient), and benefit amount.\n",
    "\n",
    "Input: 2014 CPS (cpsmar2014t.csv), 2014 number of recipients by age and state in Dec 2014 (SSI_by_age_state.csv)\n",
    "\n",
    "Output: SSI_Imputation.csv\n",
    "\n",
    "Additional Source links: https://www.ssa.gov/policy/docs/statcomps/ssi_sc/2014/table02.html"
   ]
  },
  {
   "cell_type": "code",
   "execution_count": 1,
   "metadata": {
    "collapsed": true
   },
   "outputs": [],
   "source": [
    "import pandas as pd\n",
    "from pandas import DataFrame\n",
    "import numpy as np\n",
    "import random\n",
    "import statsmodels.discrete.discrete_model as sm"
   ]
  },
  {
   "cell_type": "markdown",
   "metadata": {},
   "source": [
    "Trim the dataset and only keep columns relevant to SSI augmentation"
   ]
  },
  {
   "cell_type": "code",
   "execution_count": 2,
   "metadata": {
    "collapsed": false
   },
   "outputs": [
    {
     "name": "stderr",
     "output_type": "stream",
     "text": [
      "/Users/Amy/anaconda/lib/python2.7/site-packages/IPython/core/interactiveshell.py:2902: DtypeWarning: Columns (5,23,24,29,83,265,282) have mixed types. Specify dtype option on import or set low_memory=False.\n",
      "  interactivity=interactivity, compiler=compiler, result=result)\n"
     ]
    }
   ],
   "source": [
    "CPS_dataset = pd.read_csv('/PATH_TO_RAW_CPS/cpsmar2014t.csv')"
   ]
  },
  {
   "cell_type": "code",
   "execution_count": 3,
   "metadata": {
    "collapsed": false
   },
   "outputs": [],
   "source": [
    "columns_to_keep = ['ssi_val', 'ssi_yn','ssikidyn', 'resnssi1', 'resnssi2', 'marsupwt', 'a_age', 'gestfips',\n",
    "                   'pedisdrs', 'pedisear', 'pediseye', 'pedisout', 'pedisphy', 'pedisrem',\n",
    "                   'dis_hp', 'rsnnotw', 'vet_typ1', 'pemlr', 'mcare', 'a_ftpt', 'filestat',\n",
    "                   'wsal_val', 'semp_val', 'frse_val', 'ss_val', 'rtm_val', 'oi_off', 'oi_val',\n",
    "                   'uc_yn', 'uc_val', 'int_yn', 'int_val', 'a_spouse', 'paw_yn', 'vet_yn', \n",
    "                   'ffpos', 'fh_seq', 'finc_ssi', 'ftot_r', 'ftotval', 'ptot_r', 'ptotval',\n",
    "                   'peridnum', 'h_seq', 'i_ssival', 'fwsval', 'wc_yn', 'ss_yn', \n",
    "                   'sur_yn', 'dis_yn', 'hed_yn', 'hcsp_yn', 'hfdval', 'mcare', 'mcaid']\n",
    "\n",
    "CPS_dataset = CPS_dataset[columns_to_keep]\n",
    "CPS_dataset.to_csv('CPSASEC_SSI.csv', columns=columns_to_keep, index=False)"
   ]
  },
  {
   "cell_type": "code",
   "execution_count": 4,
   "metadata": {
    "collapsed": false
   },
   "outputs": [],
   "source": [
    "CPS_dataset = pd.read_csv('/Users/Amy/Documents/SSI/CPSASEC_SSI.csv')"
   ]
  },
  {
   "cell_type": "markdown",
   "metadata": {},
   "source": [
    "# Converting age and SSI benefit to numeric values"
   ]
  },
  {
   "cell_type": "code",
   "execution_count": 5,
   "metadata": {
    "collapsed": false
   },
   "outputs": [],
   "source": [
    "# for now assuming ages are evenly distributed in that range\n",
    "# how to make sure there're 80 years old and 85 years old?\n",
    "CPS_dataset.a_age = np.where(CPS_dataset.a_age == \"80-84 years of age\", 80,\n",
    "                             CPS_dataset.a_age)\n",
    "CPS_dataset.a_age = np.where(CPS_dataset.a_age == \"85+ years of age\", 85,\n",
    "                             CPS_dataset.a_age)\n",
    "CPS_dataset.a_age = pd.to_numeric(CPS_dataset.a_age)"
   ]
  },
  {
   "cell_type": "code",
   "execution_count": 6,
   "metadata": {
    "collapsed": false
   },
   "outputs": [],
   "source": [
    "# all existing ssi_val are greater than 0 (min==1)\n",
    "CPS_dataset.ssi_val = np.where(CPS_dataset.ssi_val == \"None or not in universe\",'0', CPS_dataset.ssi_val)\n",
    "CPS_dataset.ssi_val = pd.to_numeric(CPS_dataset.ssi_val)"
   ]
  },
  {
   "cell_type": "markdown",
   "metadata": {},
   "source": [
    "# Create disability proxy indicator"
   ]
  },
  {
   "cell_type": "code",
   "execution_count": 7,
   "metadata": {
    "collapsed": false
   },
   "outputs": [],
   "source": [
    "a1 = (CPS_dataset.pedisdrs == 'Yes')\n",
    "a2 = (CPS_dataset.pedisear == 'Yes')\n",
    "a3 = (CPS_dataset.pediseye == 'Yes')\n",
    "a4 = (CPS_dataset.pedisout == 'Yes')\n",
    "a5 = (CPS_dataset.pedisphy == 'Yes')\n",
    "a6 = (CPS_dataset.pedisrem == 'Yes')\n",
    "disability = (a1|a2|a3|a4|a5|a6)"
   ]
  },
  {
   "cell_type": "code",
   "execution_count": 8,
   "metadata": {
    "collapsed": false
   },
   "outputs": [],
   "source": [
    "d1 = (CPS_dataset.dis_hp == 'Yes')\n",
    "d2 = (CPS_dataset.pemlr == 'Not in labor force - disabled')\n",
    "d3 = (CPS_dataset.rsnnotw == 'Ill or disabled')\n",
    "d4 = (CPS_dataset.vet_typ1 == 'Yes')\n",
    "d5 = (CPS_dataset.a_age < 65) & (CPS_dataset.mcare == 'Yes')\n",
    "work_disability = (d1|d2|d3|d4|d5)"
   ]
  },
  {
   "cell_type": "markdown",
   "metadata": {},
   "source": [
    "# Create SSI countable income proxy"
   ]
  },
  {
   "cell_type": "code",
   "execution_count": 9,
   "metadata": {
    "collapsed": true
   },
   "outputs": [],
   "source": [
    "def countable(earned, unearned, deemed=None):\n",
    "    if deemed is not None:\n",
    "        SSI_countable = earned + unearned + deemed\n",
    "    else:\n",
    "        SSI_countable = earned + unearned\n",
    "        \n",
    "    SSI_countable = np.where(SSI_countable > 0, SSI_countable, 0)\n",
    "    \n",
    "    # disgards\n",
    "    SSI_countable = np.where(SSI_countable>20*12, SSI_countable - 20*12, 0) # exclude $20 from most income items\n",
    "    SSI_countable = np.where((earned > 65*12)&(SSI_countable > 65*12), SSI_countable - 65*12, 0) # exclude he first $65 of earnings \n",
    "    SSI_countable = np.where((earned > 65*12)&(SSI_countable > 0.5*(earned - 65*12)), \n",
    "                             SSI_countable - 0.5*(earned - 65*12), 0) # one–half of earnings over $65 received in a month \n",
    "    \n",
    "    return SSI_countable"
   ]
  },
  {
   "cell_type": "code",
   "execution_count": 10,
   "metadata": {
    "collapsed": false
   },
   "outputs": [],
   "source": [
    "wage = pd.to_numeric(np.where(CPS_dataset.wsal_val!= 'None or not in universe', CPS_dataset.wsal_val, 0))\n",
    "self_employed1 = pd.to_numeric(np.where(CPS_dataset.semp_val!= 'None or not in universe', CPS_dataset.semp_val, 0))\n",
    "self_employed2 = pd.to_numeric(np.where(CPS_dataset.frse_val!= 'None or not in universe', CPS_dataset.frse_val, 0))\n",
    "earned = wage + self_employed1 + self_employed2"
   ]
  },
  {
   "cell_type": "code",
   "execution_count": 11,
   "metadata": {
    "collapsed": false
   },
   "outputs": [],
   "source": [
    "ss = pd.to_numeric(np.where(CPS_dataset.ss_val!='None or not in universe', CPS_dataset.ss_val, 0))\n",
    "pension = pd.to_numeric(np.where(CPS_dataset.rtm_val!='None or not in universe', CPS_dataset.rtm_val, 0))\n",
    "#too under-reported?\n",
    "disability = pd.to_numeric(np.where(CPS_dataset.oi_off=='State disability payments', CPS_dataset.oi_val, 0))\n",
    "unemploy = pd.to_numeric(np.where(CPS_dataset.uc_yn=='Yes', CPS_dataset.uc_val, 0))\n",
    "interest = pd.to_numeric(np.where(CPS_dataset.int_yn=='Yes', CPS_dataset.int_val, 0))\n",
    "unearned = ss + pension + disability + unemploy + interest"
   ]
  },
  {
   "cell_type": "code",
   "execution_count": 12,
   "metadata": {
    "collapsed": false
   },
   "outputs": [],
   "source": [
    "no_public_assistance = (CPS_dataset.paw_yn != 'Yes')\n",
    "not_married_HH = (CPS_dataset.filestat=='Single')|(CPS_dataset.filestat=='Nonfiler')\n",
    "student_under22 = (CPS_dataset.a_ftpt != 'Not in universe or children and')&(CPS_dataset.a_age < 22)\n",
    "under_18 = (CPS_dataset.a_age < 18)\n",
    "ineligible_children = np.where(no_public_assistance&(student_under22|under_18), 1, 0)"
   ]
  },
  {
   "cell_type": "code",
   "execution_count": 13,
   "metadata": {
    "collapsed": false
   },
   "outputs": [],
   "source": [
    "CPS_dataset['SSI_countable'] = countable(earned, unearned)"
   ]
  },
  {
   "cell_type": "code",
   "execution_count": 14,
   "metadata": {
    "collapsed": false
   },
   "outputs": [],
   "source": [
    "combined = np.where((disability==1)|(work_disability==1), 1, 0)\n",
    "aged = np.where(CPS_dataset.a_age>=65, 1, 0)"
   ]
  },
  {
   "cell_type": "code",
   "execution_count": 15,
   "metadata": {
    "collapsed": false
   },
   "outputs": [],
   "source": [
    "subfields = {'old_disabled': (combined==1)&(aged==1),\n",
    "             'young_disabled': (combined==1)&(aged==0),\n",
    "             'old_not_disabled': (combined==0)&(aged==1),\n",
    "             'young_not_disabled': (combined==0)&(aged==0)}"
   ]
  },
  {
   "cell_type": "code",
   "execution_count": 16,
   "metadata": {
    "collapsed": false
   },
   "outputs": [
    {
     "name": "stdout",
     "output_type": "stream",
     "text": [
      "group: young_disabled, benchmark: 429\n",
      "group: old_not_disabled, benchmark: 0\n",
      "group: old_disabled, benchmark: 0\n",
      "group: young_not_disabled, benchmark: 15607\n"
     ]
    }
   ],
   "source": [
    "low_income = np.zeros(len(CPS_dataset))\n",
    "for key in subfields:\n",
    "    benchmark = np.percentile(CPS_dataset.SSI_countable[CPS_dataset.index[(CPS_dataset.ssi_yn=='Yes')&subfields[key]]], 95)\n",
    "    low_income = np.where((CPS_dataset.SSI_countable <= benchmark) & subfields[key], 1, low_income)\n",
    "    print \"group: %s, benchmark: %d\" % (key, benchmark)"
   ]
  },
  {
   "cell_type": "code",
   "execution_count": 17,
   "metadata": {
    "collapsed": false
   },
   "outputs": [],
   "source": [
    "CPS_dataset['low_income'] = low_income\n",
    "CPS_dataset['ineligible_children'] = ineligible_children\n",
    "CPS_dataset['earned'] = earned\n",
    "CPS_dataset['unearned'] = unearned\n",
    "CPS_dataset['wage'] = wage"
   ]
  },
  {
   "cell_type": "markdown",
   "metadata": {},
   "source": [
    "# Defining SSI target records"
   ]
  },
  {
   "cell_type": "code",
   "execution_count": 18,
   "metadata": {
    "collapsed": false
   },
   "outputs": [],
   "source": [
    "SSI_target_pool = np.zeros(len(CPS_dataset))\n",
    "SSI_target_pool = np.where((low_income==1)&disability, 1, 0)\n",
    "SSI_target_pool = np.where((work_disability==1)&(low_income==1), 1, SSI_target_pool)\n",
    "SSI_target_pool = np.where((low_income==1)&(CPS_dataset.a_age<18), 1, SSI_target_pool)\n",
    "SSI_target_pool = np.where((low_income==1)&(CPS_dataset.a_age>=65), 1, SSI_target_pool)"
   ]
  },
  {
   "cell_type": "code",
   "execution_count": 19,
   "metadata": {
    "collapsed": true
   },
   "outputs": [],
   "source": [
    "CPS_dataset['current_recipient'] = np.where(((CPS_dataset.ssi_yn =='Yes')|(CPS_dataset.ssikidyn=='Received SSI')), 1, 0)\n",
    "SSI_target_pool = np.where(CPS_dataset.current_recipient==1, 1, SSI_target_pool)"
   ]
  },
  {
   "cell_type": "code",
   "execution_count": 20,
   "metadata": {
    "collapsed": false
   },
   "outputs": [],
   "source": [
    "SSI_target_pool = np.where(CPS_dataset.fwsval>57500, 0, SSI_target_pool)"
   ]
  },
  {
   "cell_type": "code",
   "execution_count": 21,
   "metadata": {
    "collapsed": false
   },
   "outputs": [],
   "source": [
    "CPS_dataset['SSI_target_pool'] = SSI_target_pool"
   ]
  },
  {
   "cell_type": "markdown",
   "metadata": {},
   "source": [
    "# import administrative totals"
   ]
  },
  {
   "cell_type": "code",
   "execution_count": 22,
   "metadata": {
    "collapsed": false
   },
   "outputs": [],
   "source": [
    "admin = pd.read_csv(\"/Users/Amy/Documents/SSI/SSI_by_age_state.csv\", \n",
    "                    dtype={'Under 18': np.float, '18-64':np.float, '65 or older': np.float,\n",
    "                           'Under 18 mean': np.float, '18-64 mean':np.float, '65 or older mean': np.float})\n",
    "admin.index = admin.Fips"
   ]
  },
  {
   "cell_type": "code",
   "execution_count": 23,
   "metadata": {
    "collapsed": false
   },
   "outputs": [],
   "source": [
    "# adjust targets and export adjusted targets to a CSV file\n",
    "state_benefit = {}\n",
    "state_recipients = {}\n",
    "for state in admin.Fips:\n",
    "    this_state = (CPS_dataset.gestfips==state)\n",
    "    CPS_total = (CPS_dataset.ssi_val * CPS_dataset.marsupwt)[this_state].sum()/1000000\n",
    "    federal_total = admin['State Total'][state]/1000\n",
    "    federal_total_adj = admin['State Total'][state] * 12.096/1000\n",
    "    \n",
    "    state_state = admin[\"State-administered Supplement 2010\"][state]/1000000\n",
    "    state_state_adj = admin[\"State-administered Supplement 2010\"][state] * 721/674/1000000\n",
    "    admin_total = federal_total_adj + state_state_adj\n",
    "    \n",
    "    temp = [admin['State'][state], CPS_total, federal_total, federal_total_adj, \n",
    "            state_state, state_state_adj, admin_total]\n",
    "    state_benefit[state] = temp\n",
    "    \n",
    "pre_augment_benefit = DataFrame(state_benefit).transpose()\n",
    "pre_augment_benefit.columns = ['State', 'CPS total', 'Federal Total', 'Federal Total after Adjustment',\n",
    "                               'State Total', 'State Total After adjustment', 'Admin Total']"
   ]
  },
  {
   "cell_type": "code",
   "execution_count": 24,
   "metadata": {
    "collapsed": false
   },
   "outputs": [],
   "source": [
    "pre_augment_benefit.to_csv('/Users/Amy/Documents/SSI/pre-blow-up.csv')"
   ]
  },
  {
   "cell_type": "code",
   "execution_count": 25,
   "metadata": {
    "collapsed": false
   },
   "outputs": [
    {
     "data": {
      "text/plain": [
       "6053051.16999999"
      ]
     },
     "execution_count": 25,
     "metadata": {},
     "output_type": "execute_result"
    }
   ],
   "source": [
    "CPS_dataset.marsupwt[CPS_dataset.ssi_yn=='Yes'].sum()"
   ]
  },
  {
   "cell_type": "code",
   "execution_count": 26,
   "metadata": {
    "collapsed": false
   },
   "outputs": [],
   "source": [
    "# caculate difference of SSA stats and CPS aggregates on recipients number\n",
    "# by state and age\n",
    "diff = {'Fips': [], 'Under 18':[], '18-64':[], '65 or older':[],\n",
    "        'Under 18 mean':[], '18-64 mean':[], '65 or older mean':[],\n",
    "       'Under 18 cps':[], '18-64 cps':[], '65 or older cps':[],\n",
    "       'Under 18 ssa':[], '18-64 ssa':[], '65 or older ssa':[]}\n",
    "diff['Fips'] = admin.Fips\n",
    "\n",
    "current = (CPS_dataset.current_recipient==1)\n",
    "category = {'Under 18': (CPS_dataset.a_age<18),\n",
    "            '18-64': (CPS_dataset.a_age>=18)&(CPS_dataset.a_age<65),\n",
    "            '65 or older': (CPS_dataset.a_age>=65)}\n",
    "\n",
    "augment_ratio = {'Under 18': 1.401/1.299,\n",
    "                 '18-64': 5.523/4.626,\n",
    "                 '65 or older': 2.344/2.122}\n",
    "\n",
    "for group in ['Under 18', '18-64', '65 or older']:\n",
    "    for FIPS in admin.Fips:\n",
    "        this_state = (CPS_dataset.gestfips==FIPS)\n",
    "        age_range = category[group]\n",
    "        current_tots = CPS_dataset.marsupwt[current&this_state&age_range].sum()\n",
    "        \n",
    "        valid_num = CPS_dataset.marsupwt[current&this_state&age_range].sum() + 0.0000001\n",
    "        current_mean = ((CPS_dataset.ssi_val*CPS_dataset.marsupwt)[current&this_state&age_range]).sum()/valid_num\n",
    "        \n",
    "        this_admin = augment_ratio[group] * float(admin[group][admin.Fips==FIPS])\n",
    "        diff[str(group) + ' cps'].append(current_tots)\n",
    "        diff[str(group) + ' ssa'].append(float(admin[group][admin.Fips==FIPS]))\n",
    "        diff[group].append(this_admin - current_tots)\n",
    "        diff[str(group + ' mean')].append(float(current_mean)/12)"
   ]
  },
  {
   "cell_type": "code",
   "execution_count": 27,
   "metadata": {
    "collapsed": true
   },
   "outputs": [],
   "source": [
    "d = DataFrame(diff)\n",
    "d.to_csv('recipients.csv', index=False)"
   ]
  },
  {
   "cell_type": "code",
   "execution_count": 28,
   "metadata": {
    "collapsed": false
   },
   "outputs": [],
   "source": [
    "CPS_dataset['ssi_indicator'] = np.where((CPS_dataset.ssi_yn=='Yes')|(CPS_dataset.ssikidyn=='Received SSI'), 1, 0)\n",
    "CPS_dataset['paw_yn'] = np.where(CPS_dataset.paw_yn=='Yes', 1, 0)\n",
    "CPS_dataset['wc_yn'] = np.where(CPS_dataset.wc_yn=='Yes', 1, 0)\n",
    "CPS_dataset['uc_yn'] = np.where(CPS_dataset.uc_yn=='Yes', 1, 0)\n",
    "CPS_dataset['ss_yn'] = np.where(CPS_dataset.ss_yn=='Yes', 1, 0)\n",
    "CPS_dataset['sur_yn'] = np.where(CPS_dataset.sur_yn=='Yes', 1, 0)\n",
    "CPS_dataset['dis_yn'] = np.where(CPS_dataset.dis_yn=='Yes', 1, 0)\n",
    "CPS_dataset['vet_yn'] = np.where(CPS_dataset.vet_yn=='Yes', 1, 0)\n",
    "CPS_dataset['hed_yn'] = np.where(CPS_dataset.hed_yn=='Yes', 1, 0)\n",
    "CPS_dataset['hcsp_yn'] = np.where(CPS_dataset.hcsp_yn=='Yes', 1, 0)\n",
    "CPS_dataset['hfdval'] = np.where(CPS_dataset.hfdval!='Not in universe', 1, 0)\n",
    "CPS_dataset['countable_income'] = CPS_dataset.SSI_countable\n",
    "CPS_dataset['mcare'] = np.where(CPS_dataset.mcare=='Yes', 1, 0)\n",
    "CPS_dataset['mcaid'] = np.where(CPS_dataset.mcaid=='Yes', 1, 0)\n",
    "\n",
    "SSI_disability = ((CPS_dataset.resnssi1!='NIU')&(CPS_dataset.resnssi1!='Other (adult or child)'))|((CPS_dataset.resnssi2!='NIU')&(CPS_dataset.resnssi2!='Other (adult or child)'))\n",
    "CPS_dataset['combined_disability'] = np.where(disability|work_disability|SSI_disability, 1, 0)"
   ]
  },
  {
   "cell_type": "code",
   "execution_count": 29,
   "metadata": {
    "collapsed": true
   },
   "outputs": [],
   "source": [
    "CPS_dataset['age_dummy18'] = np.where(CPS_dataset.a_age<18, 1, 0)\n",
    "CPS_dataset['age_dummy65'] = np.where(CPS_dataset.a_age>=65, 1, 0)"
   ]
  },
  {
   "cell_type": "code",
   "execution_count": 31,
   "metadata": {
    "collapsed": false
   },
   "outputs": [
    {
     "name": "stdout",
     "output_type": "stream",
     "text": [
      "Optimization terminated successfully.\n",
      "         Current function value: 0.029805\n",
      "         Iterations 12\n"
     ]
    }
   ],
   "source": [
    "CPS_dataset['intercept'] = np.ones(len(CPS_dataset))\n",
    "CPS_dataset['age18_X_disability'] = CPS_dataset.age_dummy18 * CPS_dataset.combined_disability\n",
    "CPS_dataset['age65_X_disability'] = CPS_dataset.age_dummy65 * CPS_dataset.combined_disability\n",
    "model = sm.Logit(endog= CPS_dataset.ssi_indicator, \n",
    "                 exog= CPS_dataset[['intercept','countable_income','combined_disability','uc_yn', 'ss_yn', 'wc_yn',\n",
    "                                    'paw_yn', 'vet_yn', 'sur_yn', 'hed_yn', 'hcsp_yn', 'hfdval', 'mcare', 'mcaid',\n",
    "                                    'age_dummy18','age_dummy65','age18_X_disability', 'age65_X_disability']])\n",
    "results = model.fit()"
   ]
  },
  {
   "cell_type": "code",
   "execution_count": 32,
   "metadata": {
    "collapsed": false,
    "scrolled": false
   },
   "outputs": [
    {
     "name": "stdout",
     "output_type": "stream",
     "text": [
      "                           Logit Regression Results                           \n",
      "==============================================================================\n",
      "Dep. Variable:          ssi_indicator   No. Observations:               139415\n",
      "Model:                          Logit   Df Residuals:                   139397\n",
      "Method:                           MLE   Df Model:                           17\n",
      "Date:                Mon, 15 May 2017   Pseudo R-squ.:                  0.6772\n",
      "Time:                        17:31:02   Log-Likelihood:                -4155.3\n",
      "converged:                       True   LL-Null:                       -12873.\n",
      "                                        LLR p-value:                     0.000\n",
      "=======================================================================================\n",
      "                          coef    std err          z      P>|z|      [95.0% Conf. Int.]\n",
      "---------------------------------------------------------------------------------------\n",
      "intercept              -9.1377      0.184    -49.634      0.000        -9.499    -8.777\n",
      "countable_income    -4.355e-05    7.8e-06     -5.583      0.000     -5.88e-05 -2.83e-05\n",
      "combined_disability     5.3380      0.164     32.460      0.000         5.016     5.660\n",
      "uc_yn                  -0.7786      0.244     -3.193      0.001        -1.257    -0.301\n",
      "ss_yn                  -1.6194      0.076    -21.382      0.000        -1.768    -1.471\n",
      "wc_yn                  -2.1539      0.489     -4.408      0.000        -3.111    -1.196\n",
      "paw_yn                 -0.4005      0.134     -2.994      0.003        -0.663    -0.138\n",
      "vet_yn                 -1.1384      0.275     -4.132      0.000        -1.678    -0.598\n",
      "sur_yn                 -0.7834      0.303     -2.590      0.010        -1.376    -0.191\n",
      "hed_yn                 -0.3711      0.127     -2.932      0.003        -0.619    -0.123\n",
      "hcsp_yn                 0.0788      0.120      0.656      0.512        -0.157     0.314\n",
      "hfdval                  0.3016      0.059      5.078      0.000         0.185     0.418\n",
      "mcare                   0.6082      0.085      7.179      0.000         0.442     0.774\n",
      "mcaid                   4.1083      0.094     43.480      0.000         3.923     4.293\n",
      "age_dummy18            -1.2735      0.244     -5.228      0.000        -1.751    -0.796\n",
      "age_dummy65             3.3369      0.212     15.708      0.000         2.921     3.753\n",
      "age18_X_disability      1.2371      0.275      4.493      0.000         0.697     1.777\n",
      "age65_X_disability     -2.8653      0.216    -13.267      0.000        -3.289    -2.442\n",
      "=======================================================================================\n"
     ]
    }
   ],
   "source": [
    "print results.summary()"
   ]
  },
  {
   "cell_type": "code",
   "execution_count": 36,
   "metadata": {
    "collapsed": true
   },
   "outputs": [],
   "source": [
    "probs = results.predict()"
   ]
  },
  {
   "cell_type": "code",
   "execution_count": 37,
   "metadata": {
    "collapsed": false,
    "scrolled": false
   },
   "outputs": [
    {
     "name": "stderr",
     "output_type": "stream",
     "text": [
      "/Users/Amy/anaconda/lib/python2.7/site-packages/ipykernel/__main__.py:28: FutureWarning: sort(columns=....) is deprecated, use sort_values(by=.....)\n",
      "/Users/Amy/anaconda/lib/python2.7/site-packages/ipykernel/__main__.py:31: FutureWarning: sort(columns=....) is deprecated, use sort_values(by=.....)\n",
      "/Users/Amy/anaconda/lib/python2.7/site-packages/ipykernel/__main__.py:34: SettingWithCopyWarning: \n",
      "A value is trying to be set on a copy of a slice from a DataFrame\n",
      "\n",
      "See the caveats in the documentation: http://pandas.pydata.org/pandas-docs/stable/indexing.html#indexing-view-versus-copy\n",
      "/Users/Amy/anaconda/lib/python2.7/site-packages/ipykernel/__main__.py:35: SettingWithCopyWarning: \n",
      "A value is trying to be set on a copy of a slice from a DataFrame\n",
      "\n",
      "See the caveats in the documentation: http://pandas.pydata.org/pandas-docs/stable/indexing.html#indexing-view-versus-copy\n"
     ]
    },
    {
     "name": "stdout",
     "output_type": "stream",
     "text": [
      "('we need to impute', 24307.570069284066, 'for state', 1, 'In the end we get', 24633.14)\n",
      "('we need to impute', 1356.7806004618938, 'for state', 2, 'In the end we get', 1352.51)\n",
      "('we need to impute', 18257.993256351037, 'for state', 4, 'In the end we get', 17211.53)\n",
      "('we need to impute', 12636.928752886837, 'for state', 5, 'In the end we get', 12303.449999999999)\n",
      "('we need to impute', 100907.57448036951, 'for state', 6, 'In the end we get', 100303.06000000004)\n",
      "('we need to impute', 7661.5727020785216, 'for state', 8, 'In the end we get', 7412.579999999999)\n",
      "('we need to impute', 3768.9590993071597, 'for state', 9, 'In the end we get', 3382.2999999999997)\n",
      "('we need to impute', 3731.977505773672, 'for state', 10, 'In the end we get', 3769.8099999999995)\n",
      "('we need to impute', 3120.1509930715933, 'for state', 11, 'In the end we get', 3388.27)\n",
      "('we need to impute', 84804.933371824474, 'for state', 12, 'In the end we get', 83976.99)\n",
      "('we need to impute', 38777.239214780602, 'for state', 13, 'In the end we get', 39022.81)\n",
      "('we need to impute', 1790.3464203233257, 'for state', 15, 'In the end we get', 1952.6399999999999)\n",
      "('we need to impute', 4819.6183371824482, 'for state', 16, 'In the end we get', 4629.45)\n",
      "('we need to impute', 41467.731639722864, 'for state', 17, 'In the end we get', 38574.88000000001)\n",
      "('we need to impute', 14405.130069284065, 'for state', 18, 'In the end we get', 12973.42)\n",
      "('we need to impute', 5176.9121016166282, 'for state', 19, 'In the end we get', 4771.24)\n",
      "('we need to impute', 9547.6547806004619, 'for state', 20, 'In the end we get', 9139.33)\n",
      "('we need to impute', 16950.951524249424, 'for state', 21, 'In the end we get', 16206.37)\n",
      "('we need to impute', 36070.378475750578, 'for state', 22, 'In the end we get', 35983.53999999999)\n",
      "('we need to impute', 2083.3605080831403, 'for state', 23, 'In the end we get', 1893.51)\n",
      "('we need to impute', 17901.399676674366, 'for state', 24, 'In the end we get', 19107.86)\n",
      "('we need to impute', 11937.566120092379, 'for state', 25, 'In the end we get', 12932.14)\n",
      "('we need to impute', 35995.504411085451, 'for state', 26, 'In the end we get', 35551.72)\n",
      "('we need to impute', 5889.0098845265584, 'for state', 27, 'In the end we get', 5531.44)\n",
      "('we need to impute', 18407.72478060046, 'for state', 28, 'In the end we get', 17033.33)\n",
      "('we need to impute', 1083.8930023094654, 'for state', 29, 'In the end we get', 3145.16)\n",
      "('we need to impute', 674.76274826789859, 'for state', 30, 'In the end we get', 580.56)\n",
      "('we need to impute', 1066.8225635103927, 'for state', 31, 'In the end we get', 1036.79)\n",
      "('we need to impute', 9878.0046651270204, 'for state', 32, 'In the end we get', 10466.54)\n",
      "('we need to impute', 1409.7712009237875, 'for state', 33, 'In the end we get', 1410.27)\n",
      "('we need to impute', 18282.147113163974, 'for state', 34, 'In the end we get', 17260.69)\n",
      "('we need to impute', 3031.5702078521936, 'for state', 35, 'In the end we get', 2702.5)\n",
      "('we need to impute', 81301.777413394913, 'for state', 36, 'In the end we get', 79583.06)\n",
      "('we need to impute', 28205.827413394923, 'for state', 37, 'In the end we get', 27638.290000000005)\n",
      "('we need to impute', 459.16498845265596, 'for state', 38, 'In the end we get', 316.86)\n",
      "('we need to impute', 32989.90378752887, 'for state', 39, 'In the end we get', 33896.020000000004)\n",
      "('we need to impute', 10014.517043879907, 'for state', 40, 'In the end we get', 8216.88)\n",
      "('we need to impute', 9097.5130254041578, 'for state', 41, 'In the end we get', 9113.55)\n",
      "('we need to impute', 51311.9774364896, 'for state', 42, 'In the end we get', 51694.49)\n",
      "('we need to impute', 5010.8129330254042, 'for state', 44, 'In the end we get', 4849.33)\n",
      "('we need to impute', 12408.85036951501, 'for state', 45, 'In the end we get', 12607.499999999998)\n",
      "('we need to impute', 2266.4863510392611, 'for state', 46, 'In the end we get', 2175.83)\n",
      "('we need to impute', 16200.779099307161, 'for state', 47, 'In the end we get', 17531.350000000002)\n",
      "('we need to impute', 134022.6844803695, 'for state', 48, 'In the end we get', 135171.61000000004)\n",
      "('we need to impute', 2984.3606466512706, 'for state', 49, 'In the end we get', 2521.07)\n",
      "('we need to impute', 1465.0651963048499, 'for state', 50, 'In the end we get', 1387.8200000000002)\n",
      "('we need to impute', 19454.526974595843, 'for state', 51, 'In the end we get', 19155.29)\n",
      "('we need to impute', 14126.076720554272, 'for state', 53, 'In the end we get', 14580.3)\n",
      "('we need to impute', 7781.7679676674361, 'for state', 54, 'In the end we get', 7835.88)\n",
      "('we need to impute', 9319.8859353348726, 'for state', 55, 'In the end we get', 9067.150000000001)\n",
      "('we need to impute', 212.33898383371832, 'for state', 56, 'In the end we get', 328.61)\n",
      "('we need to impute', 83220.347133592702, 'for state', 1, 'In the end we get', 83799.90000000001)\n",
      "('we need to impute', 6847.1783268482468, 'for state', 2, 'In the end we get', 6789.9)\n",
      "('we need to impute', 10160.801037613477, 'for state', 5, 'In the end we get', 11152.74)\n",
      "('we need to impute', 290543.40678339807, 'for state', 6, 'In the end we get', 291246.99)\n",
      "('we need to impute', 14278.78092088196, 'for state', 8, 'In the end we get', 13672.82)\n",
      "('we need to impute', 7124.3476394292957, 'for state', 9, 'In the end we get', 7854.65)\n",
      "('we need to impute', 3551.6411284046662, 'for state', 10, 'In the end we get', 3531.5899999999997)\n",
      "('we need to impute', 8997.3485343709453, 'for state', 11, 'In the end we get', 9035.650000000001)\n",
      "('we need to impute', 40985.927367055789, 'for state', 12, 'In the end we get', 39831.030000000006)\n",
      "('we need to impute', 58234.311348897507, 'for state', 13, 'In the end we get', 57823.36000000001)\n",
      "('we need to impute', 963.88779507133222, 'for state', 15, 'In the end we get', 1146.74)\n",
      "('we need to impute', 85628.740869001282, 'for state', 17, 'In the end we get', 86847.73)\n",
      "('we need to impute', 2650.5876394293009, 'for state', 19, 'In the end we get', 2486.38)\n",
      "('we need to impute', 50406.021945525281, 'for state', 21, 'In the end we get', 49028.58999999999)\n",
      "('we need to impute', 64780.509130998689, 'for state', 22, 'In the end we get', 63927.030000000006)\n",
      "('we need to impute', 18748.110739299605, 'for state', 24, 'In the end we get', 19417.33)\n",
      "('we need to impute', 37722.726472114111, 'for state', 25, 'In the end we get', 36867.869999999995)\n",
      "('we need to impute', 85278.886121919582, 'for state', 26, 'In the end we get', 86521.6)\n",
      "('we need to impute', 8985.9822178988106, 'for state', 27, 'In the end we get', 10072.59)\n",
      "('we need to impute', 23420.227652399466, 'for state', 29, 'In the end we get', 23156.879999999997)\n",
      "('we need to impute', 1238.653112840464, 'for state', 30, 'In the end we get', 1249.04)\n",
      "('we need to impute', 7594.268158236051, 'for state', 31, 'In the end we get', 7440.009999999999)\n",
      "('we need to impute', 17617.175654993505, 'for state', 32, 'In the end we get', 17330.469999999998)\n",
      "('we need to impute', 1054.5930479896233, 'for state', 33, 'In the end we get', 841.69)\n",
      "('we need to impute', 22962.325291828784, 'for state', 35, 'In the end we get', 23630.710000000003)\n",
      "('we need to impute', 57653.669351491611, 'for state', 36, 'In the end we get', 59168.80000000001)\n",
      "('we need to impute', 36560.010752269765, 'for state', 41, 'In the end we get', 36874.38)\n",
      "('we need to impute', 3440.699999999998, 'for state', 46, 'In the end we get', 3648.0600000000004)\n",
      "('we need to impute', 46706.066472114107, 'for state', 47, 'In the end we get', 45999.88)\n",
      "('we need to impute', 96829.195732814376, 'for state', 48, 'In the end we get', 95922.47)\n",
      "('we need to impute', 2681.164448767835, 'for state', 50, 'In the end we get', 2521.99)\n",
      "('we need to impute', 48776.422088197141, 'for state', 51, 'In the end we get', 51051.369999999995)\n",
      "('we need to impute', 60189.70553826198, 'for state', 53, 'In the end we get', 60489.97)\n",
      "('we need to impute', 15421.859182879351, 'for state', 54, 'In the end we get', 16967.000000000004)\n",
      "('we need to impute', 17739.026342412428, 'for state', 55, 'In the end we get', 16215.359999999999)\n",
      "('we need to impute', 7187.1443261074455, 'for state', 1, 'In the end we get', 6076.65)\n",
      "('we need to impute', 2330.8413006597552, 'for state', 2, 'In the end we get', 2308.1)\n",
      "('we need to impute', 17509.482469368522, 'for state', 4, 'In the end we get', 17277.66)\n",
      "('we need to impute', 12354.377785108387, 'for state', 5, 'In the end we get', 14161.84)\n",
      "('we need to impute', 316229.63278039574, 'for state', 6, 'In the end we get', 315073.67000000016)\n",
      "('we need to impute', 8295.4538831291266, 'for state', 8, 'In the end we get', 9915.03)\n",
      "('we need to impute', 8316.5709236569292, 'for state', 9, 'In the end we get', 8078.630000000001)\n",
      "('we need to impute', 549.70540056550453, 'for state', 10, 'In the end we get', 782.3299999999999)\n",
      "('we need to impute', 1866.9850612629598, 'for state', 11, 'In the end we get', 1890.12)\n",
      "('we need to impute', 115917.11013195099, 'for state', 12, 'In the end we get', 115244.09999999999)\n",
      "('we need to impute', 38474.568407163053, 'for state', 13, 'In the end we get', 37717.98)\n",
      "('we need to impute', 3665.1393025447696, 'for state', 15, 'In the end we get', 3837.04)\n",
      "('we need to impute', 704.66645617342101, 'for state', 16, 'In the end we get', 1604.51)\n",
      "('we need to impute', 47308.342497643738, 'for state', 17, 'In the end we get', 46221.469999999994)\n",
      "('we need to impute', 12016.583506126297, 'for state', 18, 'In the end we get', 11125.820000000002)\n",
      "('we need to impute', 4101.3636757775694, 'for state', 19, 'In the end we get', 4353.63)\n",
      "('we need to impute', 2143.6423845428844, 'for state', 20, 'In the end we get', 1406.3)\n",
      "('we need to impute', 15058.824382657876, 'for state', 21, 'In the end we get', 16153.24)\n",
      "('we need to impute', 20323.699839773803, 'for state', 22, 'In the end we get', 21458.86)\n",
      "('we need to impute', 3055.5817907634314, 'for state', 23, 'In the end we get', 3447.59)\n",
      "('we need to impute', 13846.505513666356, 'for state', 24, 'In the end we get', 14304.769999999999)\n",
      "('we need to impute', 14784.202855796422, 'for state', 25, 'In the end we get', 14699.89)\n",
      "('we need to impute', 26459.94377002828, 'for state', 26, 'In the end we get', 25492.04)\n",
      "('we need to impute', 13308.602959472199, 'for state', 27, 'In the end we get', 14075.51)\n",
      "('we need to impute', 15106.134769085769, 'for state', 28, 'In the end we get', 13332.33)\n",
      "('we need to impute', 5073.4665127238477, 'for state', 29, 'In the end we get', 3721.66)\n",
      "('we need to impute', 589.81733270499535, 'for state', 30, 'In the end we get', 830.09)\n",
      "('we need to impute', 10895.845447690859, 'for state', 32, 'In the end we get', 10608.039999999999)\n",
      "('we need to impute', 36860.076295947219, 'for state', 34, 'In the end we get', 36286.99999999999)\n",
      "('we need to impute', 11834.232243166825, 'for state', 35, 'In the end we get', 11354.17)\n",
      "('we need to impute', 94205.310348727653, 'for state', 36, 'In the end we get', 93651.35999999999)\n",
      "('we need to impute', 15113.927134778518, 'for state', 37, 'In the end we get', 16581.91)\n",
      "('we need to impute', 880.98925541941571, 'for state', 38, 'In the end we get', 983.41)\n",
      "('we need to impute', 2545.0133459000972, 'for state', 41, 'In the end we get', 2074.85)\n",
      "('we need to impute', 48222.478039585301, 'for state', 42, 'In the end we get', 47586.590000000004)\n",
      "('we need to impute', 5172.8367295004718, 'for state', 44, 'In the end we get', 5232.810000000001)\n",
      "('we need to impute', 7128.7821206409062, 'for state', 45, 'In the end we get', 6683.74)\n",
      "('we need to impute', 2278.484967012253, 'for state', 46, 'In the end we get', 2512.07)\n",
      "('we need to impute', 11560.81846371348, 'for state', 47, 'In the end we get', 13411.349999999999)\n",
      "('we need to impute', 91838.620706880334, 'for state', 48, 'In the end we get', 92474.32999999999)\n",
      "('we need to impute', 1377.5880584354391, 'for state', 49, 'In the end we get', 1434.27)\n",
      "('we need to impute', 2315.8150989632422, 'for state', 50, 'In the end we get', 2169.3100000000004)\n",
      "('we need to impute', 8516.8956833176235, 'for state', 51, 'In the end we get', 6355.33)\n",
      "('we need to impute', 7648.5859849198878, 'for state', 54, 'In the end we get', 8623.26)\n",
      "('we need to impute', 4581.6896983977385, 'for state', 55, 'In the end we get', 4954.34)\n",
      "('we need to impute', 460.21561734213009, 'for state', 56, 'In the end we get', 430.36)\n"
     ]
    }
   ],
   "source": [
    "CPS_dataset['impute'] = np.zeros(len(CPS_dataset))\n",
    "CPS_dataset['ssi_impute'] = np.zeros(len(CPS_dataset))\n",
    "\n",
    "non_current = (CPS_dataset.current_recipient == 0)\n",
    "current = (CPS_dataset.current_recipient == 1)\n",
    "targets = (CPS_dataset.SSI_target_pool==1)\n",
    "random.seed()\n",
    "\n",
    "for group in ['Under 18','18-64', '65 or older']:\n",
    "    for FIPS in admin.Fips:\n",
    "        \n",
    "        if d[str(group)][FIPS] < 0:\n",
    "            continue\n",
    "        else:\n",
    "            this_state = (CPS_dataset.gestfips==FIPS)\n",
    "            age_range = category[group]\n",
    "            \n",
    "            not_imputed = (CPS_dataset.impute==0)\n",
    "            \n",
    "            pool_index = CPS_dataset[this_state&age_range&non_current&not_imputed&targets].index\n",
    "            if len(pool_index)==0:\n",
    "                print ('there is nothing we could do you this sate', FIPS, 'at age range', group)\n",
    "                continue\n",
    "            \n",
    "            pool = DataFrame({'weight': CPS_dataset.marsupwt[pool_index], 'prob': probs[pool_index]},\n",
    "                            index=pool_index)\n",
    "            \n",
    "            pool = pool.sort(columns='prob', ascending=False)\n",
    "            pool['cumsum_weight'] = pool['weight'].cumsum()\n",
    "            pool['distance'] = abs(pool.cumsum_weight-d[str(group)][FIPS])\n",
    "            min_index = pool.sort(columns='distance')[:1].index\n",
    "            min_weight = int(pool.loc[min_index].cumsum_weight)\n",
    "            pool['impute'] = np.where(pool.cumsum_weight<=min_weight+10 , 1, 0)\n",
    "            CPS_dataset.impute[pool.index[pool['impute']==1]] = 1\n",
    "            CPS_dataset.ssi_impute[pool.index[pool['impute']==1]] = admin[str(group)+' mean'][FIPS] * 12\n",
    "        \n",
    "        print ('we need to impute', d[group][FIPS], 'for state', FIPS, 'In the end we get', \n",
    "                CPS_dataset.marsupwt[(CPS_dataset.impute==1)&this_state&age_range].sum())   "
   ]
  },
  {
   "cell_type": "code",
   "execution_count": 38,
   "metadata": {
    "collapsed": false
   },
   "outputs": [],
   "source": [
    "results = {}\n",
    "\n",
    "imputed = (CPS_dataset.impute == 1)\n",
    "has_val = (CPS_dataset.ssi_val != 0)\n",
    "no_val = (CPS_dataset.ssi_val == 0)\n",
    "\n",
    "for FIPS in admin.Fips:\n",
    "    this_state = (CPS_dataset.gestfips==FIPS)\n",
    "    \n",
    "    # sum up current recipients total and imputed totals\n",
    "    current_total = (CPS_dataset.ssi_val*CPS_dataset.marsupwt)[this_state&(CPS_dataset.fwsval<57500)].sum()\n",
    "    imputed_total = (CPS_dataset.ssi_impute*CPS_dataset.marsupwt)[this_state&imputed].sum()\n",
    "    on_file = (current_total + imputed_total)/1000000\n",
    "    \n",
    "    # w\n",
    "    federal_total = admin['State Total'][FIPS] * 55000000.0/admin['State Total'].sum()/1000\n",
    "    state_state = admin[\"State-administered Supplement 2010\"][FIPS] * 721/674/1000000\n",
    "    admin_total = federal_total + state_state\n",
    "    \n",
    "    adjust_ratio = admin_total / on_file\n",
    "    this_state_num = [admin['State'][FIPS], on_file, admin_total, adjust_ratio]\n",
    "    results[FIPS] = this_state_num\n",
    "    \n",
    "\n",
    "    CPS_dataset.ssi_impute = np.where(has_val&this_state, CPS_dataset.ssi_val * adjust_ratio, CPS_dataset.ssi_impute)\n",
    "    CPS_dataset.ssi_impute = np.where(no_val&this_state, CPS_dataset.ssi_impute * adjust_ratio, CPS_dataset.ssi_impute)\n",
    "\n",
    "CPS_dataset[\"ssi_participation\"] = np.zeros(len(CPS_dataset))\n",
    "CPS_dataset.ssi_participation = np.where(CPS_dataset.impute==1, 2, 0)\n",
    "CPS_dataset.ssi_participation = np.where(current&(CPS_dataset.fwsval<57500), 1, CPS_dataset.ssi_participation)\n",
    "CPS_dataset.ssi_impute = np.where(CPS_dataset.ssi_participation==0, 0, CPS_dataset.ssi_impute)\n",
    "\n",
    "r = DataFrame(results).transpose()\n",
    "r.columns=['State', 'Imputed', 'Admin', 'adjust ratio']\n",
    "r.to_csv('amount.csv', index=False)"
   ]
  },
  {
   "cell_type": "code",
   "execution_count": 39,
   "metadata": {
    "collapsed": false
   },
   "outputs": [
    {
     "data": {
      "text/plain": [
       "59585000000.00012"
      ]
     },
     "execution_count": 39,
     "metadata": {},
     "output_type": "execute_result"
    }
   ],
   "source": [
    "(CPS_dataset.marsupwt * CPS_dataset.ssi_impute)[CPS_dataset.ssi_participation!=0].sum()"
   ]
  },
  {
   "cell_type": "code",
   "execution_count": 40,
   "metadata": {
    "collapsed": false
   },
   "outputs": [
    {
     "data": {
      "text/plain": [
       "9345941.909999985"
      ]
     },
     "execution_count": 40,
     "metadata": {},
     "output_type": "execute_result"
    }
   ],
   "source": [
    "CPS_dataset.marsupwt[CPS_dataset.ssi_participation!=0].sum()"
   ]
  },
  {
   "cell_type": "code",
   "execution_count": 41,
   "metadata": {
    "collapsed": false
   },
   "outputs": [
    {
     "data": {
      "text/plain": [
       "5783271.0799999945"
      ]
     },
     "execution_count": 41,
     "metadata": {},
     "output_type": "execute_result"
    }
   ],
   "source": [
    "CPS_dataset.marsupwt[(CPS_dataset.current_recipient==1)&(CPS_dataset.earned==0)].sum()"
   ]
  },
  {
   "cell_type": "code",
   "execution_count": 42,
   "metadata": {
    "collapsed": false
   },
   "outputs": [],
   "source": [
    "CPS_dataset.to_csv('SSI_Imputation.csv', \n",
    "                   columns=['peridnum', 'ssi_participation', 'ssi_impute', 'h_seq', 'wage', 'a_age', 'fwsval','marsupwt'],\n",
    "                   index=False)"
   ]
  }
 ],
 "metadata": {
  "kernelspec": {
   "display_name": "Python 2",
   "language": "python",
   "name": "python2"
  },
  "language_info": {
   "codemirror_mode": {
    "name": "ipython",
    "version": 2
   },
   "file_extension": ".py",
   "mimetype": "text/x-python",
   "name": "python",
   "nbconvert_exporter": "python",
   "pygments_lexer": "ipython2",
   "version": "2.7.12"
  }
 },
 "nbformat": 4,
 "nbformat_minor": 0
}
