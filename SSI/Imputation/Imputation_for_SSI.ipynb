{
 "cells": [
  {
   "cell_type": "markdown",
   "metadata": {},
   "source": [
    "This script impute Supplemental Security Income (SSI) recipients and dollar benefit amount to match the aggregates with Social Security Administration (SSA) statistics for SSI. In this current version, we used 2014 CPS data and SSA [2014 annual reports on SSI](https://www.ssa.gov/policy/docs/statcomps/ssi_asr/). Please refer to the documentation in the same folder for more details on methodology and assumptions. The output this script is a personal level dataset that contains CPS personal level ID (PERIDNUM), individual participation indicator (SSI_participation, 0 - not a recipient, 1 - current recipient on file, 2 - imputed recipient), and benefit amount.\n",
    "\n",
    "Input: 2014 CPS (cpsmar2014t.csv), 2014 number of recipients by age and state in Dec 2014 (SSI_by_age_state.csv)\n",
    "\n",
    "Output: SSI_Imputation.csv\n",
    "\n",
    "Additional Source links: https://www.ssa.gov/policy/docs/statcomps/ssi_sc/2014/table02.html"
   ]
  },
  {
   "cell_type": "code",
   "execution_count": 2,
   "metadata": {
    "collapsed": true
   },
   "outputs": [],
   "source": [
    "import pandas as pd\n",
    "from pandas import DataFrame\n",
    "import numpy as np\n",
    "import random\n",
    "import statsmodels.formula.api as sm"
   ]
  },
  {
   "cell_type": "markdown",
   "metadata": {},
   "source": [
    "Trim the dataset and only keep columns relevant to SSI augmentation"
   ]
  },
  {
   "cell_type": "code",
   "execution_count": null,
   "metadata": {
    "collapsed": false
   },
   "outputs": [],
   "source": [
    "CPS_dataset = pd.read_csv('cpsmar2014t.csv')"
   ]
  },
  {
   "cell_type": "code",
   "execution_count": null,
   "metadata": {
    "collapsed": false
   },
   "outputs": [],
   "source": [
    "columns_to_keep = ['ssi_val', 'ssi_yn','ssikidyn', 'resnssi1', 'resnssi2', 'marsupwt', 'a_age', 'gestfips',\n",
    "                   'pedisdrs', 'pedisear', 'pediseye', 'pedisout', 'pedisphy', 'pedisrem',\n",
    "                   'dis_hp', 'rsnnotw', 'vet_typ1', 'pemlr', 'mcare', 'a_ftpt', 'filestat',\n",
    "                   'wsal_val', 'semp_val', 'frse_val', 'ss_val', 'rtm_val', 'oi_off', 'oi_val',\n",
    "                   'uc_yn', 'uc_val', 'int_yn', 'int_val', 'a_spouse', 'paw_yn', 'vet_yn', \n",
    "                   'ffpos', 'fh_seq', 'finc_ssi', 'ftot_r', 'ftotval', 'ptot_r', 'ptotval',\n",
    "                   'peridnum']\n",
    "\n",
    "CPS_dataset = CPS_dataset[columns_to_keep]\n",
    "CPS_dataset.to_csv('CPSASEC_SSI.csv', columns=columns_to_keep, index=False)"
   ]
  },
  {
   "cell_type": "code",
   "execution_count": 45,
   "metadata": {
    "collapsed": false
   },
   "outputs": [],
   "source": [
    "CPS_dataset = pd.read_csv('CPSASEC_SSI.csv')"
   ]
  },
  {
   "cell_type": "markdown",
   "metadata": {},
   "source": [
    "# Converting age and SSI benefit to numeric values"
   ]
  },
  {
   "cell_type": "code",
   "execution_count": 46,
   "metadata": {
    "collapsed": true
   },
   "outputs": [],
   "source": [
    "# for now assuming ages are evenly distributed in that range\n",
    "CPS_dataset.a_age = np.where(CPS_dataset.a_age == \"80-84 years of age\",\n",
    "                             random.randrange(80, 84),\n",
    "                             CPS_dataset.a_age)\n",
    "CPS_dataset.a_age = np.where(CPS_dataset.a_age == \"85+ years of age\",\n",
    "                             random.randrange(85, 95),\n",
    "                             CPS_dataset.a_age)\n",
    "CPS_dataset.a_age = pd.to_numeric(CPS_dataset.a_age)"
   ]
  },
  {
   "cell_type": "code",
   "execution_count": 47,
   "metadata": {
    "collapsed": false
   },
   "outputs": [],
   "source": [
    "# all existing ssi_val are greater than 0 (min==1)\n",
    "CPS_dataset.ssi_val = np.where(CPS_dataset.ssi_val == \"None or not in universe\",'0', CPS_dataset.ssi_val)\n",
    "CPS_dataset.ssi_val = pd.to_numeric(CPS_dataset.ssi_val)"
   ]
  },
  {
   "cell_type": "markdown",
   "metadata": {},
   "source": [
    "# Create disability proxy indicator"
   ]
  },
  {
   "cell_type": "code",
   "execution_count": 48,
   "metadata": {
    "collapsed": false
   },
   "outputs": [],
   "source": [
    "a1 = (CPS_dataset.pedisdrs == 'Yes')\n",
    "a2 = (CPS_dataset.pedisear == 'Yes')\n",
    "a3 = (CPS_dataset.pediseye == 'Yes')\n",
    "a4 = (CPS_dataset.pedisout == 'Yes')\n",
    "a5 = (CPS_dataset.pedisphy == 'Yes')\n",
    "a6 = (CPS_dataset.pedisrem == 'Yes')\n",
    "disability = (a1|a2|a3|a4|a5|a6)"
   ]
  },
  {
   "cell_type": "code",
   "execution_count": 49,
   "metadata": {
    "collapsed": false
   },
   "outputs": [],
   "source": [
    "d1 = (CPS_dataset.dis_hp == 'Yes')\n",
    "d2 = (CPS_dataset.pemlr == 'Not in labor force - disabled')\n",
    "d3 = (CPS_dataset.rsnnotw == 'Ill or disabled')\n",
    "d4 = (CPS_dataset.vet_typ1 == 'Yes')\n",
    "d5 = (CPS_dataset.a_age < 65) & (CPS_dataset.mcare == 'Yes')\n",
    "work_disability = (d1|d2|d3|d4|d5)"
   ]
  },
  {
   "cell_type": "markdown",
   "metadata": {},
   "source": [
    "# Create SSI countable income proxy"
   ]
  },
  {
   "cell_type": "code",
   "execution_count": 50,
   "metadata": {
    "collapsed": true
   },
   "outputs": [],
   "source": [
    "def countable(earned, unearned, deemed=None):\n",
    "    if deemed is not None:\n",
    "        SSI_countable = earned + unearned + deemed\n",
    "    else:\n",
    "        SSI_countable = earned + unearned\n",
    "        \n",
    "    SSI_countable = np.where(SSI_countable > 0, SSI_countable, 0)\n",
    "    \n",
    "    # disgards\n",
    "    SSI_countable = np.where(SSI_countable>20*12, SSI_countable - 20*12, 0) # exclude $20 from most income items\n",
    "    SSI_countable = np.where(earned > 65*12, SSI_countable - 65*12, 0) # exclude he first $65 of earnings \n",
    "    SSI_countable = np.where(earned > 65*12, SSI_countable - 0.5*(earned - 65*12), 0) # one–half of earnings over $65 received in a month \n",
    "    \n",
    "    return SSI_countable"
   ]
  },
  {
   "cell_type": "code",
   "execution_count": 51,
   "metadata": {
    "collapsed": false
   },
   "outputs": [],
   "source": [
    "wage = pd.to_numeric(np.where(CPS_dataset.wsal_val!= 'None or not in universe', CPS_dataset.wsal_val, 0))\n",
    "self_employed1 = pd.to_numeric(np.where(CPS_dataset.semp_val!= 'None or not in universe', CPS_dataset.semp_val, 0))\n",
    "self_employed2 = pd.to_numeric(np.where(CPS_dataset.frse_val!= 'None or not in universe', CPS_dataset.frse_val, 0))\n",
    "earned = wage + self_employed1 + self_employed2"
   ]
  },
  {
   "cell_type": "code",
   "execution_count": 52,
   "metadata": {
    "collapsed": false
   },
   "outputs": [],
   "source": [
    "ss = pd.to_numeric(np.where(CPS_dataset.ss_val!='None or not in universe', CPS_dataset.ss_val, 0))\n",
    "pension = pd.to_numeric(np.where(CPS_dataset.rtm_val!='None or not in universe', CPS_dataset.rtm_val, 0))\n",
    "#too under-reported?\n",
    "disability = pd.to_numeric(np.where(CPS_dataset.oi_off=='State disability payments', CPS_dataset.oi_val, 0))\n",
    "unemploy = pd.to_numeric(np.where(CPS_dataset.uc_yn=='Yes', CPS_dataset.uc_val, 0))\n",
    "interest = pd.to_numeric(np.where(CPS_dataset.int_yn=='Yes', CPS_dataset.int_val, 0))\n",
    "unearned = ss + pension + disability + unemploy + interest"
   ]
  },
  {
   "cell_type": "code",
   "execution_count": 53,
   "metadata": {
    "collapsed": false
   },
   "outputs": [],
   "source": [
    "no_public_assistance = (CPS_dataset.paw_yn != 'Yes')\n",
    "not_married_HH = (CPS_dataset.filestat=='Single')|(CPS_dataset.filestat=='Nonfiler')\n",
    "student_under22 = (CPS_dataset.a_ftpt != 'Not in universe or children and')&(CPS_dataset.a_age < 22)\n",
    "under_18 = (CPS_dataset.a_age < 18)\n",
    "ineligible_children = np.where(no_public_assistance&(student_under22|under_18), 1, 0)"
   ]
  },
  {
   "cell_type": "code",
   "execution_count": 54,
   "metadata": {
    "collapsed": false
   },
   "outputs": [],
   "source": [
    "SSI_countable = countable(earned, unearned)"
   ]
  },
  {
   "cell_type": "code",
   "execution_count": 55,
   "metadata": {
    "collapsed": false
   },
   "outputs": [],
   "source": [
    "combined = np.where((disability==1)|(work_disability==1), 1, 0)\n",
    "aged = np.where(CPS_dataset.a_age>=65, 1, 0)"
   ]
  },
  {
   "cell_type": "code",
   "execution_count": 56,
   "metadata": {
    "collapsed": false
   },
   "outputs": [],
   "source": [
    "subfields = {'old_disabled': combined&aged,\n",
    "             'young_disabled': combined&(1-aged),\n",
    "             'old_not_disabled': (1-combined)&aged,\n",
    "             'young_not_disabled': (1-combined)&(1-aged)}"
   ]
  },
  {
   "cell_type": "code",
   "execution_count": 57,
   "metadata": {
    "collapsed": false
   },
   "outputs": [
    {
     "name": "stdout",
     "output_type": "stream",
     "text": [
      "group: young_disabled, benchmark: 429\n",
      "group: old_not_disabled, benchmark: 0\n",
      "group: old_disabled, benchmark: 0\n",
      "group: young_not_disabled, benchmark: 15607\n"
     ]
    }
   ],
   "source": [
    "low_income = np.zeros(len(CPS_dataset))\n",
    "for key in subfields:\n",
    "    benchmark = np.percentile(SSI_countable[CPS_dataset.index[(CPS_dataset.ssi_yn=='Yes')&subfields[key]]], 95)\n",
    "    low_income = np.where((SSI_countable < benchmark) & subfields[key], 1, 0)\n",
    "    print \"group: %s, benchmark: %d\" % (key, benchmark)"
   ]
  },
  {
   "cell_type": "code",
   "execution_count": 58,
   "metadata": {
    "collapsed": false
   },
   "outputs": [],
   "source": [
    "CPS_dataset['low_income'] = low_income\n",
    "CPS_dataset['ineligible_children'] = ineligible_children\n",
    "CPS_dataset['earned'] = earned\n",
    "CPS_dataset['unearned'] = unearned"
   ]
  },
  {
   "cell_type": "markdown",
   "metadata": {},
   "source": [
    "# Defining SSI target records"
   ]
  },
  {
   "cell_type": "code",
   "execution_count": 59,
   "metadata": {
    "collapsed": true
   },
   "outputs": [],
   "source": [
    "SSI_target_pool = np.zeros(len(CPS_dataset))\n",
    "SSI_target_pool = np.where(low_income&disability, 1, 0)\n",
    "SSI_target_pool = np.where((work_disability&low_income), 1, SSI_target_pool)\n",
    "SSI_target_pool = np.where(low_income&(CPS_dataset.a_age<18), 1, SSI_target_pool)\n",
    "SSI_target_pool = np.where(low_income&(CPS_dataset.a_age>=65), 1, SSI_target_pool)"
   ]
  },
  {
   "cell_type": "code",
   "execution_count": 60,
   "metadata": {
    "collapsed": true
   },
   "outputs": [],
   "source": [
    "CPS_dataset['current_recipient'] = np.where((CPS_dataset.ssi_yn =='Yes')|(CPS_dataset.ssikidyn=='Received SSI'), 1, 0)\n",
    "SSI_target_pool = np.where(CPS_dataset.current_recipient==1, 1, SSI_target_pool)"
   ]
  },
  {
   "cell_type": "code",
   "execution_count": 61,
   "metadata": {
    "collapsed": false
   },
   "outputs": [],
   "source": [
    "CPS_dataset['SSI_target_pool'] = SSI_target_pool"
   ]
  },
  {
   "cell_type": "markdown",
   "metadata": {},
   "source": [
    "# import administrative totals"
   ]
  },
  {
   "cell_type": "code",
   "execution_count": 62,
   "metadata": {
    "collapsed": false
   },
   "outputs": [],
   "source": [
    "admin = pd.read_csv(\"SSI_by_age_state.csv\", \n",
    "                    dtype={'Under 18': np.float, '18-64':np.float, '65 or older': np.float,\n",
    "                           'Under 18 mean': np.float, '18-64 mean':np.float, '65 or older mean': np.float})\n",
    "admin.index = admin.Fips"
   ]
  },
  {
   "cell_type": "code",
   "execution_count": 63,
   "metadata": {
    "collapsed": false
   },
   "outputs": [],
   "source": [
    "# adjust targets and export adjusted targets to a CSV file\n",
    "state_benefit = {}\n",
    "state_recipients = {}\n",
    "for state in admin.Fips:\n",
    "    this_state = (CPS_dataset.gestfips==state)\n",
    "    CPS_total = (CPS_dataset.ssi_val * CPS_dataset.marsupwt)[this_state].sum()/1000000\n",
    "    federal_total = admin['State Total'][state]/1000\n",
    "    federal_total_adj = admin['State Total'][state] * 12.096/1000\n",
    "    \n",
    "    state_state = admin[\"State-administered Supplement 2010\"][state]/1000000\n",
    "    state_state_adj = admin[\"State-administered Supplement 2010\"][state] * 721/674/1000000\n",
    "    admin_total = federal_total_adj + state_state_adj\n",
    "    \n",
    "    temp = [admin['State'][state], CPS_total, federal_total, federal_total_adj, \n",
    "            state_state, state_state_adj, admin_total]\n",
    "    state_benefit[state] = temp\n",
    "    \n",
    "pre_augment_benefit = DataFrame(state_benefit).transpose()\n",
    "pre_augment_benefit.columns = ['State', 'CPS total', 'Federal Total', 'Federal Total after Adjustment',\n",
    "                               'State Total', 'State Total After adjustment', 'Admin Total']"
   ]
  },
  {
   "cell_type": "code",
   "execution_count": 64,
   "metadata": {
    "collapsed": false
   },
   "outputs": [],
   "source": [
    "pre_augment_benefit.to_csv('pre-blow-up.csv')"
   ]
  },
  {
   "cell_type": "code",
   "execution_count": 65,
   "metadata": {
    "collapsed": false
   },
   "outputs": [],
   "source": [
    "# caculate difference of SSA stats and CPS aggregates on recipients number\n",
    "# by state and age\n",
    "diff = {'Fips': [], 'Under 18':[], '18-64':[], '65 or older':[],\n",
    "        'Under 18 mean':[], '18-64 mean':[], '65 or older mean':[],\n",
    "       'Under 18 cps':[], '18-64 cps':[], '65 or older cps':[],\n",
    "       'Under 18 ssa':[], '18-64 ssa':[], '65 or older ssa':[]}\n",
    "diff['Fips'] = admin.Fips\n",
    "\n",
    "current = (CPS_dataset.current_recipient==1)\n",
    "category = {'Under 18': (CPS_dataset.a_age<18),\n",
    "            '18-64': (CPS_dataset.a_age>=18)&(CPS_dataset.a_age<65),\n",
    "            '65 or older': (CPS_dataset.a_age>=65)}\n",
    "\n",
    "augment_ratio = {'Under 18': 1.401/1.299,\n",
    "                 '18-64': 5.523/4.626,\n",
    "                 '65 or older': 2.344/2.122}\n",
    "\n",
    "for group in ['Under 18', '18-64', '65 or older']:\n",
    "    for FIPS in admin.Fips:\n",
    "        this_state = (CPS_dataset.gestfips==FIPS)\n",
    "        age_range = category[group]\n",
    "        current_tots = CPS_dataset.marsupwt[current&this_state&age_range].sum()\n",
    "        \n",
    "        valid_num = CPS_dataset.marsupwt[current&this_state&age_range].sum() + 0.0000001\n",
    "        current_mean = ((CPS_dataset.ssi_val*CPS_dataset.marsupwt)[current&this_state&age_range]).sum()/valid_num\n",
    "        \n",
    "        this_admin = augment_ratio[group] * float(admin[group][admin.Fips==FIPS])\n",
    "        diff[str(group) + ' cps'].append(current_tots)\n",
    "        diff[str(group) + ' ssa'].append(float(admin[group][admin.Fips==FIPS]))\n",
    "        diff[group].append(this_admin - current_tots)\n",
    "        diff[str(group + ' mean')].append(float(current_mean)/12)"
   ]
  },
  {
   "cell_type": "code",
   "execution_count": 66,
   "metadata": {
    "collapsed": true
   },
   "outputs": [],
   "source": [
    "d = DataFrame(diff)\n",
    "d.to_csv('recipients.csv', index=False)"
   ]
  },
  {
   "cell_type": "code",
   "execution_count": 67,
   "metadata": {
    "collapsed": false
   },
   "outputs": [],
   "source": [
    "CPS_dataset['ssi_indicator'] = np.where((CPS_dataset.ssi_yn=='Yes')|(CPS_dataset.ssikidyn=='Received SSI'), 1, 0)\n",
    "CPS_dataset['countable_income'] = SSI_countable\n",
    "\n",
    "SSI_disability = ((CPS_dataset.resnssi1!='NIU')&(CPS_dataset.resnssi1!='Other (adult or child)'))|((CPS_dataset.resnssi2!='NIU')&(CPS_dataset.resnssi2!='Other (adult or child)'))\n",
    "CPS_dataset['combined_disability'] = np.where(disability|work_disability|SSI_disability, 1, 0)\n",
    "\n",
    "model = sm.ols(formula='ssi_indicator ~ countable_income + combined_disability + a_age', \n",
    "               data=CPS_dataset)\n",
    "results = model.fit()"
   ]
  },
  {
   "cell_type": "code",
   "execution_count": 68,
   "metadata": {
    "collapsed": true
   },
   "outputs": [],
   "source": [
    "probs = results.fittedvalues"
   ]
  },
  {
   "cell_type": "code",
   "execution_count": 69,
   "metadata": {
    "collapsed": false,
    "scrolled": false
   },
   "outputs": [
    {
     "name": "stderr",
     "output_type": "stream",
     "text": [
      "/Users/Amy/anaconda/lib/python2.7/site-packages/ipykernel/__main__.py:25: FutureWarning: sort(columns=....) is deprecated, use sort_values(by=.....)\n",
      "/Users/Amy/anaconda/lib/python2.7/site-packages/ipykernel/__main__.py:28: FutureWarning: sort(columns=....) is deprecated, use sort_values(by=.....)\n",
      "/Users/Amy/anaconda/lib/python2.7/site-packages/ipykernel/__main__.py:31: SettingWithCopyWarning: \n",
      "A value is trying to be set on a copy of a slice from a DataFrame\n",
      "\n",
      "See the caveats in the documentation: http://pandas.pydata.org/pandas-docs/stable/indexing.html#indexing-view-versus-copy\n"
     ]
    },
    {
     "name": "stdout",
     "output_type": "stream",
     "text": [
      "('we need to impute', 24307.570069284066, 'for state', 1)\n",
      "('Method1: regression gives', 25182.159999999996)\n",
      "('we need to impute', 1356.7806004618938, 'for state', 2)\n",
      "('Method1: regression gives', 1256.38)\n",
      "('we need to impute', 18257.993256351037, 'for state', 4)\n",
      "('Method1: regression gives', 17422.33)\n",
      "('we need to impute', 12636.928752886837, 'for state', 5)\n",
      "('Method1: regression gives', 11745.17)\n",
      "('we need to impute', 100907.57448036951, 'for state', 6)\n",
      "('Method1: regression gives', 100702.62)\n",
      "('we need to impute', 7661.5727020785216, 'for state', 8)\n",
      "('Method1: regression gives', 8380.79)\n",
      "('we need to impute', 3768.9590993071597, 'for state', 9)\n",
      "('Method1: regression gives', 3382.2999999999997)\n",
      "('we need to impute', 3731.977505773672, 'for state', 10)\n",
      "('Method1: regression gives', 3687.86)\n",
      "('we need to impute', 3120.1509930715933, 'for state', 11)\n",
      "('Method1: regression gives', 3279.9)\n",
      "('we need to impute', 84804.933371824474, 'for state', 12)\n",
      "('Method1: regression gives', 84504.79999999997)\n",
      "('we need to impute', 38777.239214780602, 'for state', 13)\n",
      "('Method1: regression gives', 41195.55)\n",
      "('we need to impute', 1790.3464203233257, 'for state', 15)\n",
      "('Method1: regression gives', 1756.6599999999999)\n",
      "('we need to impute', 4819.6183371824482, 'for state', 16)\n",
      "('Method1: regression gives', 3865.17)\n",
      "('we need to impute', 41467.731639722864, 'for state', 17)\n",
      "('Method1: regression gives', 40240.740000000005)\n",
      "('we need to impute', 14405.130069284065, 'for state', 18)\n",
      "('Method1: regression gives', 16265.17)\n",
      "('we need to impute', 5176.9121016166282, 'for state', 19)\n",
      "('Method1: regression gives', 5195.52)\n",
      "('we need to impute', 9547.6547806004619, 'for state', 20)\n",
      "('Method1: regression gives', 9065.63)\n",
      "('we need to impute', 16950.951524249424, 'for state', 21)\n",
      "('Method1: regression gives', 15524.050000000001)\n",
      "('we need to impute', 36070.378475750578, 'for state', 22)\n",
      "('Method1: regression gives', 35764.67)\n",
      "('we need to impute', 2083.3605080831403, 'for state', 23)\n",
      "('Method1: regression gives', 2099.72)\n",
      "('we need to impute', 17901.399676674366, 'for state', 24)\n",
      "('Method1: regression gives', 18818.28)\n",
      "('we need to impute', 11937.566120092379, 'for state', 25)\n",
      "('Method1: regression gives', 13114.810000000001)\n",
      "('we need to impute', 35995.504411085451, 'for state', 26)\n",
      "('Method1: regression gives', 34540.270000000004)\n",
      "('we need to impute', 5889.0098845265584, 'for state', 27)\n",
      "('Method1: regression gives', 5469.28)\n",
      "('we need to impute', 18407.72478060046, 'for state', 28)\n",
      "('Method1: regression gives', 17578.05)\n",
      "('we need to impute', 1083.8930023094654, 'for state', 29)\n",
      "('Method1: regression gives', 3145.16)\n",
      "('we need to impute', 674.76274826789859, 'for state', 30)\n",
      "('Method1: regression gives', 580.56)\n",
      "('we need to impute', 1066.8225635103927, 'for state', 31)\n",
      "('Method1: regression gives', 1036.79)\n",
      "('we need to impute', 9878.0046651270204, 'for state', 32)\n",
      "('Method1: regression gives', 10479.48)\n",
      "('we need to impute', 1409.7712009237875, 'for state', 33)\n",
      "('Method1: regression gives', 1410.27)\n",
      "('we need to impute', 18282.147113163974, 'for state', 34)\n",
      "('Method1: regression gives', 18833.42)\n",
      "('we need to impute', 3031.5702078521936, 'for state', 35)\n",
      "('Method1: regression gives', 2702.5)\n",
      "('we need to impute', 81301.777413394913, 'for state', 36)\n",
      "('Method1: regression gives', 81700.42999999998)\n",
      "('we need to impute', 28205.827413394923, 'for state', 37)\n",
      "('Method1: regression gives', 27769.2)\n",
      "('we need to impute', 459.16498845265596, 'for state', 38)\n",
      "('Method1: regression gives', 346.54)\n",
      "('we need to impute', 32989.90378752887, 'for state', 39)\n",
      "('Method1: regression gives', 31577.61)\n",
      "('we need to impute', 10014.517043879907, 'for state', 40)\n",
      "('Method1: regression gives', 9633.83)\n",
      "('we need to impute', 9097.5130254041578, 'for state', 41)\n",
      "('Method1: regression gives', 8885.9)\n",
      "('we need to impute', 51311.9774364896, 'for state', 42)\n",
      "('Method1: regression gives', 52640.229999999996)\n",
      "('we need to impute', 5010.8129330254042, 'for state', 44)\n",
      "('Method1: regression gives', 5279.2699999999995)\n",
      "('we need to impute', 12408.85036951501, 'for state', 45)\n",
      "('Method1: regression gives', 12607.499999999998)\n",
      "('we need to impute', 2266.4863510392611, 'for state', 46)\n",
      "('Method1: regression gives', 2097.48)\n",
      "('we need to impute', 16200.779099307161, 'for state', 47)\n",
      "('Method1: regression gives', 17531.350000000002)\n",
      "('we need to impute', 134022.6844803695, 'for state', 48)\n",
      "('Method1: regression gives', 134371.44000000003)\n",
      "('we need to impute', 2984.3606466512706, 'for state', 49)\n",
      "('Method1: regression gives', 3707.4900000000002)\n",
      "('we need to impute', 1465.0651963048499, 'for state', 50)\n",
      "('Method1: regression gives', 1487.5900000000001)\n",
      "('we need to impute', 19454.526974595843, 'for state', 51)\n",
      "('Method1: regression gives', 22487.530000000002)\n",
      "('we need to impute', 14126.076720554272, 'for state', 53)\n",
      "('Method1: regression gives', 13693.380000000001)\n",
      "('we need to impute', 7781.7679676674361, 'for state', 54)\n",
      "('Method1: regression gives', 7610.99)\n",
      "('we need to impute', 9319.8859353348726, 'for state', 55)\n",
      "('Method1: regression gives', 8710.279999999999)\n",
      "('we need to impute', 212.33898383371832, 'for state', 56)\n",
      "('Method1: regression gives', 124.03)\n",
      "('we need to impute', 83220.347133592702, 'for state', 1)\n",
      "('Method1: regression gives', 82015.73)\n",
      "('we need to impute', 6847.1783268482468, 'for state', 2)\n",
      "('Method1: regression gives', 6889.490000000001)\n",
      "('we need to impute', -429.73070038914739, 'for state', 4)\n",
      "('we need to impute', 10160.801037613477, 'for state', 5)\n",
      "('Method1: regression gives', 8916.7)\n",
      "('we need to impute', 290543.40678339807, 'for state', 6)\n",
      "('Method1: regression gives', 291005.4899999999)\n",
      "('we need to impute', 14278.78092088196, 'for state', 8)\n",
      "('Method1: regression gives', 12741.519999999999)\n",
      "('we need to impute', 7124.3476394292957, 'for state', 9)\n",
      "('Method1: regression gives', 8198.82)\n",
      "('we need to impute', 3551.6411284046662, 'for state', 10)\n",
      "('Method1: regression gives', 3347.2500000000005)\n",
      "('we need to impute', 8997.3485343709453, 'for state', 11)\n",
      "('Method1: regression gives', 8804.07)\n",
      "('we need to impute', 40985.927367055789, 'for state', 12)\n",
      "('Method1: regression gives', 41064.219999999994)\n",
      "('we need to impute', 58234.311348897507, 'for state', 13)\n",
      "('Method1: regression gives', 59350.69)\n",
      "('we need to impute', 963.88779507133222, 'for state', 15)\n",
      "('Method1: regression gives', 958.75)\n",
      "('we need to impute', -1555.1436316472136, 'for state', 16)\n",
      "('we need to impute', 85628.740869001282, 'for state', 17)\n",
      "('Method1: regression gives', 85723.45999999999)\n",
      "('we need to impute', -10128.85075226982, 'for state', 18)\n",
      "('we need to impute', 2650.5876394293009, 'for state', 19)\n",
      "('Method1: regression gives', 2169.45)\n",
      "('we need to impute', -2452.2535019455318, 'for state', 20)\n",
      "('we need to impute', 50406.021945525281, 'for state', 21)\n",
      "('Method1: regression gives', 49538.39)\n",
      "('we need to impute', 64780.509130998689, 'for state', 22)\n",
      "('Method1: regression gives', 70356.42)\n",
      "('we need to impute', -109.89337224385963, 'for state', 23)\n",
      "('we need to impute', 18748.110739299605, 'for state', 24)\n",
      "('Method1: regression gives', 18646.09)\n",
      "('we need to impute', 37722.726472114111, 'for state', 25)\n",
      "('Method1: regression gives', 36162.18)\n",
      "('we need to impute', 85278.886121919582, 'for state', 26)\n",
      "('Method1: regression gives', 85520.10999999999)\n",
      "('we need to impute', 8985.9822178988106, 'for state', 27)\n",
      "('Method1: regression gives', 9601.18)\n",
      "('we need to impute', -4972.5438521400793, 'for state', 28)\n",
      "('we need to impute', 23420.227652399466, 'for state', 29)\n",
      "('Method1: regression gives', 22005.17)\n",
      "('we need to impute', 1238.653112840464, 'for state', 30)\n",
      "('Method1: regression gives', 1822.71)\n",
      "('we need to impute', 7594.268158236051, 'for state', 31)\n",
      "('Method1: regression gives', 7950.92)\n",
      "('we need to impute', 17617.175654993505, 'for state', 32)\n",
      "('Method1: regression gives', 17338.440000000002)\n",
      "('we need to impute', 1054.5930479896233, 'for state', 33)\n",
      "('Method1: regression gives', 831.79)\n",
      "('we need to impute', -15160.635382619963, 'for state', 34)\n",
      "('we need to impute', 22962.325291828784, 'for state', 35)\n",
      "('Method1: regression gives', 22712.599999999995)\n",
      "('we need to impute', 57653.669351491611, 'for state', 36)\n",
      "('Method1: regression gives', 58441.55)\n",
      "('we need to impute', -10603.371258106403, 'for state', 37)\n",
      "('we need to impute', -40.521387808043073, 'for state', 38)\n",
      "('we need to impute', -11636.50767833984, 'for state', 39)\n",
      "('we need to impute', -28136.76365758758, 'for state', 40)\n",
      "('we need to impute', 36560.010752269765, 'for state', 41)\n",
      "('Method1: regression gives', 37113.40000000001)\n",
      "('we need to impute', -7276.4496757458546, 'for state', 42)\n",
      "('we need to impute', -2263.591297016872, 'for state', 44)\n",
      "('we need to impute', -353.68848249030998, 'for state', 45)\n",
      "('we need to impute', 3440.699999999998, 'for state', 46)\n",
      "('Method1: regression gives', 3268.5200000000004)\n",
      "('we need to impute', 46706.066472114107, 'for state', 47)\n",
      "('Method1: regression gives', 46421.18000000001)\n",
      "('we need to impute', 96829.195732814376, 'for state', 48)\n",
      "('Method1: regression gives', 96923.61)\n",
      "('we need to impute', -4323.6290272373553, 'for state', 49)\n",
      "('we need to impute', 2681.164448767835, 'for state', 50)\n",
      "('Method1: regression gives', 2797.98)\n",
      "('we need to impute', 48776.422088197141, 'for state', 51)\n",
      "('Method1: regression gives', 47240.42000000001)\n",
      "('we need to impute', 60189.70553826198, 'for state', 53)\n",
      "('Method1: regression gives', 59548.21)\n",
      "('we need to impute', 15421.859182879351, 'for state', 54)\n",
      "('Method1: regression gives', 15695.03)\n",
      "('we need to impute', 17739.026342412428, 'for state', 55)\n",
      "('Method1: regression gives', 15262.289999999999)\n",
      "('we need to impute', -1047.7490661478614, 'for state', 56)\n",
      "('we need to impute', 7187.1443261074455, 'for state', 1)\n",
      "('Method1: regression gives', 9244.09)\n",
      "('we need to impute', 2330.8413006597552, 'for state', 2)\n",
      "('Method1: regression gives', 2522.01)\n",
      "('we need to impute', 17509.482469368522, 'for state', 4)\n",
      "('Method1: regression gives', 16575.15)\n",
      "('we need to impute', 12354.377785108387, 'for state', 5)\n",
      "('Method1: regression gives', 12694.51)\n",
      "('we need to impute', 316229.63278039574, 'for state', 6)\n",
      "('Method1: regression gives', 316506.77000000014)\n",
      "('we need to impute', 8295.4538831291266, 'for state', 8)\n",
      "('Method1: regression gives', 7573.030000000001)\n",
      "('we need to impute', 8316.5709236569292, 'for state', 9)\n",
      "('Method1: regression gives', 7959.4)\n",
      "('we need to impute', 549.70540056550453, 'for state', 10)\n",
      "('Method1: regression gives', 497.67999999999995)\n",
      "('we need to impute', 1866.9850612629598, 'for state', 11)\n",
      "('Method1: regression gives', 1770.46)\n",
      "('we need to impute', 115917.11013195099, 'for state', 12)\n",
      "('Method1: regression gives', 116047.93000000001)\n",
      "('we need to impute', 38474.568407163053, 'for state', 13)\n",
      "('Method1: regression gives', 39445.79)\n",
      "('we need to impute', 3665.1393025447696, 'for state', 15)\n",
      "('Method1: regression gives', 3097.59)\n",
      "('we need to impute', 704.66645617342101, 'for state', 16)\n",
      "('Method1: regression gives', 1118.31)\n",
      "('we need to impute', 47308.342497643738, 'for state', 17)\n",
      "('Method1: regression gives', 46456.200000000004)\n",
      "('we need to impute', 12016.583506126297, 'for state', 18)\n",
      "('Method1: regression gives', 10106.2)\n",
      "('we need to impute', 4101.3636757775694, 'for state', 19)\n",
      "('Method1: regression gives', 3393.16)\n",
      "('we need to impute', 2143.6423845428844, 'for state', 20)\n",
      "('Method1: regression gives', 2972.44)\n",
      "('we need to impute', 15058.824382657876, 'for state', 21)\n",
      "('Method1: regression gives', 16374.63)\n",
      "('we need to impute', 20323.699839773803, 'for state', 22)\n",
      "('Method1: regression gives', 19267.120000000003)\n",
      "('we need to impute', 3055.5817907634314, 'for state', 23)\n",
      "('Method1: regression gives', 3269.29)\n",
      "('we need to impute', 13846.505513666356, 'for state', 24)\n",
      "('Method1: regression gives', 13880.969999999998)\n",
      "('we need to impute', 14784.202855796422, 'for state', 25)\n",
      "('Method1: regression gives', 15120.23)\n",
      "('we need to impute', 26459.94377002828, 'for state', 26)\n",
      "('Method1: regression gives', 25834.39)\n",
      "('we need to impute', 13308.602959472199, 'for state', 27)\n",
      "('Method1: regression gives', 12645.42)\n",
      "('we need to impute', 15106.134769085769, 'for state', 28)\n",
      "('Method1: regression gives', 15595.8)\n",
      "('we need to impute', 5073.4665127238477, 'for state', 29)\n",
      "('Method1: regression gives', 6283.68)\n",
      "('we need to impute', 589.81733270499535, 'for state', 30)\n",
      "('Method1: regression gives', 1150.98)\n",
      "('we need to impute', -1787.2387087653151, 'for state', 31)\n",
      "('we need to impute', 10895.845447690859, 'for state', 32)\n",
      "('Method1: regression gives', 10513.09)\n",
      "('we need to impute', -16.444618284637272, 'for state', 33)\n",
      "('we need to impute', 36860.076295947219, 'for state', 34)\n",
      "('Method1: regression gives', 38345.51)\n",
      "('we need to impute', 11834.232243166825, 'for state', 35)\n",
      "('Method1: regression gives', 12049.730000000001)\n",
      "('we need to impute', 94205.310348727653, 'for state', 36)\n",
      "('Method1: regression gives', 95447.55)\n",
      "('we need to impute', 15113.927134778518, 'for state', 37)\n",
      "('Method1: regression gives', 14332.619999999999)\n",
      "('we need to impute', 880.98925541941571, 'for state', 38)\n",
      "('Method1: regression gives', 894.53)\n",
      "('we need to impute', -588.55852026389766, 'for state', 39)\n",
      "('we need to impute', -867.44540999057244, 'for state', 40)\n",
      "('we need to impute', 2545.0133459000972, 'for state', 41)\n",
      "('Method1: regression gives', 3816.48)\n",
      "('we need to impute', 48222.478039585301, 'for state', 42)\n",
      "('Method1: regression gives', 46254.39)\n",
      "('we need to impute', 5172.8367295004718, 'for state', 44)\n",
      "('Method1: regression gives', 5511.71)\n",
      "('we need to impute', 7128.7821206409062, 'for state', 45)\n",
      "('Method1: regression gives', 8762.11)\n",
      "('we need to impute', 2278.484967012253, 'for state', 46)\n",
      "('Method1: regression gives', 2562.62)\n",
      "('we need to impute', 11560.81846371348, 'for state', 47)\n",
      "('Method1: regression gives', 10153.849999999999)\n",
      "('we need to impute', 91838.620706880334, 'for state', 48)\n",
      "('Method1: regression gives', 91605.76999999996)\n",
      "('we need to impute', 1377.5880584354391, 'for state', 49)\n",
      "('Method1: regression gives', 2097.98)\n",
      "('we need to impute', 2315.8150989632422, 'for state', 50)\n",
      "('Method1: regression gives', 2298.8199999999997)\n",
      "('we need to impute', 8516.8956833176235, 'for state', 51)\n",
      "('Method1: regression gives', 7529.219999999999)\n",
      "('we need to impute', -9159.6524882186641, 'for state', 53)\n",
      "('we need to impute', 7648.5859849198878, 'for state', 54)\n",
      "('Method1: regression gives', 8379.0)\n",
      "('we need to impute', 4581.6896983977385, 'for state', 55)\n",
      "('Method1: regression gives', 4059.4100000000003)\n",
      "('we need to impute', 460.21561734213009, 'for state', 56)\n",
      "('Method1: regression gives', 437.3)\n"
     ]
    },
    {
     "name": "stderr",
     "output_type": "stream",
     "text": [
      "/Users/Amy/anaconda/lib/python2.7/site-packages/ipykernel/__main__.py:32: SettingWithCopyWarning: \n",
      "A value is trying to be set on a copy of a slice from a DataFrame\n",
      "\n",
      "See the caveats in the documentation: http://pandas.pydata.org/pandas-docs/stable/indexing.html#indexing-view-versus-copy\n"
     ]
    }
   ],
   "source": [
    "CPS_dataset['impute'] = np.zeros(len(CPS_dataset))\n",
    "CPS_dataset['ssi_impute'] = np.zeros(len(CPS_dataset))\n",
    "\n",
    "non_current = (CPS_dataset.current_recipient == 0)\n",
    "current = (CPS_dataset.current_recipient == 1)\n",
    "random.seed()\n",
    "\n",
    "for group in ['Under 18','18-64', '65 or older']:\n",
    "    for FIPS in admin.Fips:\n",
    "        \n",
    "        print ('we need to impute', d[group][FIPS], 'for state', FIPS)\n",
    "        \n",
    "        if d[str(group)][FIPS] < 0:\n",
    "            continue\n",
    "        else:\n",
    "            this_state = (CPS_dataset.gestfips==FIPS)\n",
    "            age_range = category[group]\n",
    "            \n",
    "            not_imputed = (CPS_dataset.impute==0)\n",
    "            \n",
    "            pool_index = CPS_dataset[this_state&age_range&not_imputed&non_current].index\n",
    "            pool = DataFrame({'weight': CPS_dataset.marsupwt[pool_index], 'prob': probs[pool_index]},\n",
    "                            index=pool_index)\n",
    "            \n",
    "            pool = pool.sort(columns='prob', ascending=False)\n",
    "            pool['cumsum_weight'] = pool['weight'].cumsum()\n",
    "            pool['distance'] = abs(pool.cumsum_weight-d[str(group)][FIPS])\n",
    "            min_index = pool.sort(columns='distance')[:1].index\n",
    "            min_weight = int(pool.loc[min_index].cumsum_weight)\n",
    "            pool['impute'] = np.where(pool.cumsum_weight<=min_weight+10 , 1, 0)\n",
    "            CPS_dataset.impute[pool.index[pool['impute']==1]] = 1\n",
    "            CPS_dataset.ssi_impute[pool.index[pool['impute']==1]] = admin[str(group)+' mean'][FIPS] * 12\n",
    "            \n",
    "            #if group == 'Under 18':\n",
    "            #    CPS_dataset.ssi_impute[(current)&age_range&this_state] = admin[str(group)+' mean'][FIPS] * 12\n",
    "        \n",
    "        print ('Method1: regression gives', \n",
    "                CPS_dataset.marsupwt[(CPS_dataset.impute==1)&this_state&age_range].sum())   "
   ]
  },
  {
   "cell_type": "code",
   "execution_count": 71,
   "metadata": {
    "collapsed": false
   },
   "outputs": [],
   "source": [
    "results = {}\n",
    "\n",
    "imputed = (CPS_dataset.impute == 1)\n",
    "has_val = (CPS_dataset.ssi_val != 0)\n",
    "no_val = (CPS_dataset.ssi_val == 0)\n",
    "\n",
    "for FIPS in admin.Fips:\n",
    "    this_state = (CPS_dataset.gestfips==FIPS)\n",
    "    \n",
    "    # sum up current recipients total and imputed totals\n",
    "    current_total = (CPS_dataset.ssi_val*CPS_dataset.marsupwt)[this_state].sum()\n",
    "    imputed_total = (CPS_dataset.ssi_impute*CPS_dataset.marsupwt)[this_state&imputed].sum()\n",
    "    on_file = (current_total + imputed_total)/1000000\n",
    "    \n",
    "    # w\n",
    "    federal_total = admin['State Total'][FIPS] * 12.096/1000\n",
    "    state_state = admin[\"State-administered Supplement 2010\"][FIPS] * 721/674/1000000\n",
    "    admin_total = federal_total + state_state\n",
    "    \n",
    "    adjust_ratio = admin_total / on_file\n",
    "    this_state_num = [admin['State'][FIPS], on_file, admin_total, adjust_ratio]\n",
    "    results[FIPS] = this_state_num\n",
    "    \n",
    "\n",
    "    CPS_dataset.ssi_impute = np.where(has_val&this_state, CPS_dataset.ssi_val * adjust_ratio, CPS_dataset.ssi_impute)\n",
    "    CPS_dataset.ssi_impute = np.where(no_val&this_state, CPS_dataset.ssi_impute * adjust_ratio, CPS_dataset.ssi_impute)\n",
    "\n",
    "CPS_dataset[\"ssi_participation\"] = np.zeros(len(CPS_dataset))\n",
    "ssi_participation = np.where(CPS_dataset.impute==1, 2, 0)\n",
    "ssi_participation = np.where(has_val, 1, CPS_dataset.ssi_participation)\n",
    "\n",
    "\n",
    "r = DataFrame(results).transpose()\n",
    "r.columns=['State', 'Imputed', 'Admin', 'adjust ratio']\n",
    "r.to_csv('amount.csv', index=False)"
   ]
  },
  {
   "cell_type": "code",
   "execution_count": 72,
   "metadata": {
    "collapsed": false
   },
   "outputs": [],
   "source": [
    "CPS_dataset.to_csv('SSI_Imputation.csv', \n",
    "                   columns=['peridnum', 'ssi_participation', 'ssi_impute'],\n",
    "                   index=False)"
   ]
  }
 ],
 "metadata": {
  "kernelspec": {
   "display_name": "Python 2",
   "language": "python",
   "name": "python2"
  },
  "language_info": {
   "codemirror_mode": {
    "name": "ipython",
    "version": 2
   },
   "file_extension": ".py",
   "mimetype": "text/x-python",
   "name": "python",
   "nbconvert_exporter": "python",
   "pygments_lexer": "ipython2",
   "version": "2.7.11"
  }
 },
 "nbformat": 4,
 "nbformat_minor": 0
}
