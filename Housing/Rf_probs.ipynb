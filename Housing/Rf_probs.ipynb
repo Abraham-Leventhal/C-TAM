{
 "cells": [
  {
   "cell_type": "code",
   "execution_count": 1,
   "metadata": {
    "collapsed": true
   },
   "outputs": [],
   "source": [
    "import pandas as pd\n",
    "from pandas import DataFrame\n",
    "import numpy as np\n",
    "import random\n",
    "import statsmodels.discrete.discrete_model as sm\n",
    "import matplotlib.pyplot as plt\n",
    "from sklearn.ensemble import RandomForestClassifier as rf\n"
   ]
  },
  {
   "cell_type": "code",
   "execution_count": 2,
   "metadata": {
    "collapsed": false
   },
   "outputs": [],
   "source": [
    "def Init_CPS_Vars(CPS):\n",
    "\n",
    "    '''\n",
    "        Variables within the CPS that we use:\n",
    "\n",
    "    ssi_val     Supplemental Security income amount received\n",
    "    ssi_yn      Supplemental Security income received\n",
    "    ssikidyn    Supplemental Security income, child received\n",
    "    rednssi1    Supplemental Security income, reason 1\n",
    "    rednssi2    Supplemental Security income, reason 2\n",
    "    marsupwt    March supplement final weight\n",
    "    a_age       Age\n",
    "    a_spouse    Marital Status\n",
    "    fownu18     Non-married children under 18 in household\n",
    "    gestfips    FIPS State Code\n",
    "    pedisdrs    Disability, dressing or bathing\n",
    "    pedisear    Disability, hearing\n",
    "    pediseye    Disability, seeing\n",
    "    pedisout    Disability, doctor visits, shopping alone\n",
    "    pedisphy    Disability, walking, climbing stairs\n",
    "    pedisrem    Disability, remembering\n",
    "    dis_hp      Health problem or a disability which prevents working\n",
    "    rsnnotw     Reason for not working\n",
    "    vet_typ1    Veterans payments, type 1\n",
    "    pemlr       Monthly labor force recode\n",
    "    mcare       Medicare coverage\n",
    "    wsal_val    Total wage and salary earnings value\n",
    "    semp_val    Own business self-employment earnings, total value\n",
    "    frse_val    Farm self-employment earnings, total value\n",
    "    ss_val      Social Security payments received, value\n",
    "    rtm_val     Retirement income received, total amount\n",
    "    oi_off      Income sources, other\n",
    "    oi_val      Income, other (amount)\n",
    "    uc_yn       Unemployment compensation benefits received\n",
    "    uc_val      Unemployment compensation benefits value\n",
    "    int_yn      Interest received\n",
    "    int_val     Interest income received, amount+\n",
    "    ffpos       Record type and sequence indicator (similar numbers\n",
    "            indicate in same family)\n",
    "    fh_seq      Household sequence number (similar number indicate same Household)\n",
    "    finc_ssi    Supplemental Security benefits (Family)\n",
    "    ftot_r      Total family income\n",
    "    ftotval     Total family income\n",
    "    ptot_r      Person income, total\n",
    "    ptotval     Person income, total\n",
    "    peridnum    Unique Person identifier\n",
    "    '''\n",
    "    # These lists contain the column names that contain the missing data\n",
    "    Noneornot = ['ssi_val', 'csp_val', 'rnt_val', 'div_val', 'vet_val', 'wsal_val', 'semp_val', 'frse_val', 'ss_val', 'rtm_val', 'oi_val', 'uc_val', 'int_val', 'ftotval', 'ptotval', 'hwsval', 'pearnval', 'htotval']\n",
    "    NotInUniv = ['ssi_yn', 'dis_hp', 'rsnnotw', 'vet_typ1', 'uc_yn', 'int_yn', 'ptot_r', 'paw_yn', 'earner', 'hfdval']\n",
    "    NIU = ['ssikidyn', 'resnssi1', 'resnssi2', 'pedisdrs', 'pedisear', 'pediseye', 'pedisout', 'pedisphy', 'pedisrem', 'pemlr', 'oi_off']\n",
    "    # Add variables that indicate which entries of which columns contain missing values\n",
    "    for col in Noneornot:\n",
    "        CPS[col + '_missing_NoneIn'] = np.where(CPS[col] == 'None or not in universe', 1, 0)\n",
    "    for col in NotInUniv:\n",
    "        CPS[col + '_missing_NotIn'] = np.where(CPS[col] == 'Not in universe', 1, 0)\n",
    "    for col in NIU:\n",
    "        CPS[col + '_missing_NIU'] = np.where(CPS[col] == 'NIU', 1, 0)\n",
    "    \n",
    "    # Setting missing values equal to zero after adding binary variable\n",
    "    CPS = CPS.replace({'None or not in universe' : 0.}, regex = True)\n",
    "    CPS = CPS.replace({'Not in universe' : 0.}, regex = True)\n",
    "    CPS = CPS.replace({'NIU' : 0.}, regex = True)\n",
    "    CPS = CPS.replace({'Did not receive SSI' : 0.}, regex = True)\n",
    "    CPS = CPS.replace({'Received SSI' : 1.}, regex = True)\n",
    "    CPS = CPS.replace({'No' : 0.}, regex = True)\n",
    "    # Creating unearned income variable\n",
    "    CPS_unearned = (CPS[['fssval' ,'fretval' ,'foival' , 'fucval' , 'fintval', 'frntval', 'fdivval', 'fvetval', 'fcspval']].astype(float)).copy()\n",
    "    unearned_income = CPS_unearned.sum(axis = 1)\n",
    "    # Creating earned income variable\n",
    "    CPS_earned = (CPS[['fwsval' ,'fseval','ffrval']].astype(float)).copy()\n",
    "    earned_income = CPS_earned.sum(axis = 1)\n",
    "    # Determining current recipients of SSI benefit\n",
    "    CPS['current_recipient'] = np.where((CPS.ssi_yn =='Yes'), 1, 0)\n",
    "    CPS = CPS.replace({'Yes' : 1.}, regex = True)\n",
    "\n",
    "    CPS['fssival'] = (CPS['fssival'].astype(float)).copy()\n",
    "    CPS['earned_income'] = earned_income\n",
    "    CPS['unearned_income'] = unearned_income\n",
    "    # Below is a list of variables that are categorical but represented as strings\n",
    "    cols = ['a_ftpt', 'filestat', 'peridnum', 'ptot_r','ftot_r', 'pemlr', 'resnssi1', 'resnssi2', 'a_maritl', 'fownu18', 'oi_off', 'rsnnotw', 'pedisdrs', 'earner', 'prdtrace','hea', 'earner']\n",
    "    for col in cols:#Iterating through all of these categorical strings and converting to numbers below\n",
    "        CPS[col] = CPS[col].astype('category')\n",
    "\n",
    "    cat_columns = CPS.select_dtypes(['category']).columns\n",
    "    CPS[cat_columns] = CPS[cat_columns].apply(lambda x: x.cat.codes)\n",
    "\n",
    "    return CPS\n",
    "\n",
    "CPS = pd.read_csv('cpsmar2014t.csv')\n",
    "CPS = Init_CPS_Vars(CPS)\n",
    "\n",
    "CPS.a_age = np.where(CPS.a_age == \"80-84 years of age\",\n",
    "                     np.mean(np.arange(80,85)),\n",
    "                     CPS.a_age)\n",
    "CPS.a_age = np.where(CPS.a_age == \"85+ years of age\",\n",
    "                     np.mean(np.arange(85,96)),\n",
    "                     CPS.a_age)\n",
    "CPS.a_age = pd.to_numeric(CPS.a_age)\n",
    "CPS['80_84__missing'] = np.where(CPS['a_age'] == np.mean(np.arange(80,85)), 1, 0)\n",
    "CPS['85_95__missing'] = np.where(CPS['a_age'] == np.mean(np.arange(85,86)), 1, 0)\n",
    "\n",
    "key1 = CPS.columns.to_series().groupby(CPS.dtypes).groups.keys()[1]\n",
    "cols =  CPS.columns.to_series().groupby(CPS.dtypes).groups[key1].values\n",
    "for col in cols:\n",
    "    CPS[col] = CPS[col].astype('category')\n",
    "CPS[cols] = CPS[cols].apply(lambda x: x.cat.codes)\n",
    "CPS = CPS.fillna(0) \n",
    "\n",
    "CPS_unearned = (CPS[['fssval' ,'fretval' ,'foival' , 'fucval' , 'fintval', 'frntval', 'fdivval', 'fvetval', 'fcspval']].astype(float)).copy()\n",
    "unearned_income = CPS_unearned.sum(axis = 1)\n",
    "# Creating earned income variable\n",
    "CPS_earned = (CPS[['fwsval' ,'fseval','ffrval']].astype(float)).copy()\n",
    "earned_income = CPS_earned.sum(axis = 1)\n",
    "# Determining current recipients of SSI benefit\n",
    "\n",
    "CPS['fam_earned_income'] = earned_income\n",
    "CPS['fam_unearned_income'] = unearned_income\n",
    "CPS.to_pickle('CPS_family.pickle')\n",
    "\n",
    "\n",
    "# CPS_dataset = pd.read_pickle('CPS_family.pickle')\n",
    "CPS_dataset = CPS.copy()"
   ]
  },
  {
   "cell_type": "code",
   "execution_count": 3,
   "metadata": {
    "collapsed": false
   },
   "outputs": [],
   "source": [
    "#Removing those who receive hlorent, but who have no subsequent fhoussub value to describe it\n",
    "CPS_dataset.hlorent = np.where((CPS_dataset.hlorent == 1) & (CPS_dataset.fhoussub == 0),\n",
    "     0, CPS_dataset.hlorent)\n",
    "CPS_dataset.hpublic = np.where((CPS_dataset.hpublic == 1) & (CPS_dataset.fhoussub == 0),\n",
    "     0, CPS_dataset.hpublic)\n",
    "CPS_dataset['housing'] = np.where((CPS_dataset.hpublic == 1) | (CPS_dataset.hlorent == 1),\n",
    "     1, 0)\n",
    "CPS_dataset = CPS_dataset.drop(['hpublic', 'hlorent'],1)\n",
    "\n",
    "#Earned income\n",
    "p_earned = CPS_dataset.wsal_val + CPS_dataset.semp_val + CPS_dataset.frse_val #individual earned income\n",
    "CPS_dataset['p_earned'] = p_earned\n",
    "\n",
    "\n",
    "#Unearned income\n",
    "p_unearned = CPS_dataset.ss_val + CPS_dataset.rtm_val + CPS_dataset.div_val + \\\n",
    "    CPS_dataset.oi_off + CPS_dataset.uc_yn + CPS_dataset.int_yn\n",
    "CPS_dataset['p_unearned'] = p_unearned\n",
    "\n",
    "#Net Income\n",
    "CPS_dataset['family_net_income'] = p_earned + p_unearned\n",
    "\n",
    "#disabled (check reg if categorical or binary is better after the sum)\n",
    "CPS_dataset['disability'] = np.zeros(len(CPS_dataset))\n",
    "CPS_dataset.disability = np.where(CPS_dataset.pedisdrs == 1, 1, CPS_dataset.disability)\n",
    "CPS_dataset.disability = np.where(CPS_dataset.pedisear == 1, 1, CPS_dataset.disability)\n",
    "CPS_dataset.disability = np.where(CPS_dataset.pediseye == 1, 1, CPS_dataset.disability)\n",
    "CPS_dataset.disability = np.where(CPS_dataset.pedisout == 1, 1, CPS_dataset.disability)\n",
    "CPS_dataset.disability = np.where(CPS_dataset.pedisphy == 1, 1, CPS_dataset.disability)\n",
    "CPS_dataset.disability = np.where(CPS_dataset.pedisrem == 1, 1, CPS_dataset.disability)\n",
    "\n",
    "\n",
    "\n",
    "# #State residency of family and weights\n",
    "\n",
    "CPS_dataset_mean = CPS_dataset.groupby(['fh_seq', 'ffpos']).mean()\n",
    "CPS_dataset_sum = CPS_dataset.groupby(['fh_seq', 'ffpos']).sum()\n",
    "CPS_dataset2 = pd.merge(CPS_dataset_mean, CPS_dataset_sum, left_index = True, right_index = True, how = 'inner',\\\n",
    "                       suffixes = ('_mean', '_sum'))\n",
    "\n",
    "CPS = CPS_dataset2\n",
    "# CPS_dataset2.to_pickle('use_df_hlo_rf.pickle')"
   ]
  },
  {
   "cell_type": "code",
   "execution_count": 6,
   "metadata": {
    "collapsed": false
   },
   "outputs": [
    {
     "name": "stdout",
     "output_type": "stream",
     "text": [
      "[ 0.00302948  0.00040607  0.         ...,  0.0015772   0.00626436\n",
      "  0.00121395] ['hefaminc_mean' 'h_respnm_mean' 'h_year_mean' ..., 'p_unearned_sum'\n",
      " 'family_net_income_sum' 'disability_sum']\n",
      "score: 0.962217043941\n"
     ]
    }
   ],
   "source": [
    "# CPS = pd.read_pickle('use_df_hlo_rf.pickle')\n",
    "Rf = rf(n_estimators = 200, min_samples_leaf = 6, max_depth = 10) # Creating Random Forest \n",
    "CPS_use = CPS.drop('peridnum_mean', 1)\n",
    "CPS_use = CPS.drop('peridnum_sum', 1)\n",
    "\n",
    "#Splitting data into training and test sets\n",
    "train = CPS_use.sample(frac=0.8, random_state=1)\n",
    "train_x = train.copy()\n",
    "train_x = train_x.drop(['hunits_sum', 'hhpos_sum', 'h_seq_sum', 'hrecord_sum', 'ph_seq_sum',\\\n",
    "                        'housing_sum','fhoussub_sum', 'hssival_sum', 'hunits_mean', 'hhpos_mean',\\\n",
    "                        'h_seq_mean', 'hrecord_mean', 'ph_seq_mean','housing_mean','fhoussub_mean',\\\n",
    "                        'hssival_mean', 'hsup_wgt_mean', 'fsup_wgt_mean', 'marsupwt_mean',\\\n",
    "                        'hsup_wgt_sum', 'marsupwt_sum', 'fsup_wgt_sum','htotval_mean', 'peridnum_mean',\\\n",
    "                        'h_idnum1_sum', 'h_idnum1_mean','htotval_sum','hfdval_sum'],1)\n",
    "\n",
    "\n",
    "\n",
    "test_x = CPS_use.loc[~CPS_use.index.isin(train_x.index)]\n",
    "test_y = test_x['housing_mean']\n",
    "test_x = test_x.drop(['hunits_sum', 'hhpos_sum', 'h_seq_sum', 'hrecord_sum', 'ph_seq_sum',\\\n",
    "                        'housing_sum','fhoussub_sum', 'hssival_sum', 'hunits_mean', 'hhpos_mean',\\\n",
    "                        'h_seq_mean', 'hrecord_mean', 'ph_seq_mean','housing_mean','fhoussub_mean',\\\n",
    "                        'hssival_mean', 'hsup_wgt_mean', 'fsup_wgt_mean', 'marsupwt_mean',\\\n",
    "                        'hsup_wgt_sum', 'marsupwt_sum', 'fsup_wgt_sum','htotval_mean', 'peridnum_mean',\\\n",
    "                        'h_idnum1_sum', 'h_idnum1_mean','htotval_sum','hfdval_sum'],1)\n",
    "\n",
    "\n",
    "# Fitting the Random Forest model to the training set\n",
    "Rf.fit(train_x, train['housing_mean'])\n",
    "print Rf.feature_importances_, train_x.columns.values\n",
    "predictions = Rf.predict(test_x)\n",
    "print 'score:', Rf.score(test_x, test_y) # Printing Random Forest accuracy\n",
    "fimp = Rf.feature_importances_\n",
    "colvals = train_x.columns.values"
   ]
  },
  {
   "cell_type": "code",
   "execution_count": 5,
   "metadata": {
    "collapsed": false
   },
   "outputs": [
    {
     "name": "stdout",
     "output_type": "stream",
     "text": [
      "[855 850 851 ..., 658 657 652]\n",
      "['hprop_val_sum', 'prop_tax_sum', 'housret_sum', 'prop_tax_mean', 'hprop_val_mean', 'f_mv_fs_sum', 'housret_mean', 'f_mv_fs_mean', 'hfoodno_sum', 'hfdval_mean', 'ffngcaid_sum', 'hfoodsp_mean', 'hfdval_missing_NotIn_mean', 'ffngcaid_mean', 'hfoodsp_sum', 'p_mvcaid_mean', 'hwsval_mean', 'ftotval_mean', 'mon_mean', 'agi_mean', 'hearnval_mean', 'hearnval_sum', 'caid_mean', 'hpctcut_mean', 'ptotval_sum', 'family_net_income_sum', 'ffngcare_sum', 'ffngcare_mean', 'hpctcut_sum', 'p_mvcaid_sum', 'hfdval_missing_NotIn_sum', 'hfoodno_mean', 'fam_Countable_Income_mean', 'mcaid_mean', 'Countable_Income_sum', 'hnumfam_mean', 'hpres_mort_mean', 'hengval_sum', 'ftotval_sum', 'mon_sum', 'fearnval_mean', 'hengval_mean', 'filestat_sum', 'pothval_mean', 'hpres_mort_sum', 'hothval_mean', 'h_numper_mean', 'hengast_mean', 'hnumfam_sum', 'fam_earned_income_mean', 'povll_sum', 'fam_Countable_Income_sum', 'prdtrace_mean', 'ptotval_mean', 'hwsval_sum', 'hefaminc_mean', 'pothval_sum', 'fmoop_sum', 'a_age_mean', 'h_numper_sum', 'povll_mean', 'agi_sum', 'fothval_sum', 'marg_tax_mean', 'hhi_yn_sum', 'pearnval_mean', 'family_net_income_mean', 'hengast_sum', 'hothval_sum', 'earned_income_mean', 'ern_val_mean', 'fearnval_sum', 'fedtax_ac_sum', 'tax_inc_sum', 'prdtrace_sum', 'hefaminc_sum', 'a_age_sum', 'earned_income_sum', 'fothval_mean', 'caid_sum', 'ern_val_sum', 'moop_sum', 'hhi_yn_mean', 'p_earned_sum', 'ffoodreq_mean', 'mcaid_sum', 'hhinc_mean', 'gtcbsa_mean', 'unearned_income_sum', 'prswkxpns_sum', 'pearnval_sum', 'ffoodreq_sum', 'fmoop_mean', 'a_fnlwgt_mean', 'Countable_Income_mean', 'fedtax_bc_sum', 'hhinc_sum', 'moop_mean', 'i_phipval_mean', 'ssi_yn_mean', 'a_lineno_mean', 'a_fnlwgt_sum', 'fam_unearned_income_sum', 'gestfips_mean', 'p_unearned_mean', 'ftot_r_sum', 'marg_tax_sum', 'hwsval_missing_NoneIn_mean', 'fheadidx_mean', 'fmed_val_sum', 'hwsval_missing_NoneIn_sum', 'occup_sum', 'hssval_sum', 'ssi_val_missing_NoneIn_mean', 'ss_val_mean', 'ptot_r_sum', 'gtcbsa_sum', 'fam_earned_income_sum', 'paw_val_mean', 'hi_yn_mean', 'pxlnmom_mean', 'fhousreq_sum', 'fssval_sum', 'ftot_r_mean', 'fica_sum', 'a_lineno_sum', 'gtcsa_sum', 'fedtax_bc_mean', 'fam_unearned_income_mean', 'p_unearned_sum', 'hrswk_sum', 'pefntvty_mean', 'gestfips_sum', 'ptot_r_mean', 'fotc_val_sum', 'unearned_income_mean', 'pehruslt_mean', 'phf_seq_mean', 'potc_val_sum', 'ffposold_mean', 'tax_inc_mean', 'potc_val_mean', 'p_mvcare_mean', 'gtcsa_mean', 'hssval_mean', 'a_uslhrs_sum', 'fwifeidx_mean', 'pmed_val_sum', 'SSI_target_pool_mean', 'a_hrs1_sum', 'wsal_val_sum', 'flastidx_sum', 'fotc_val_mean', 'ffposold_sum', 'a_hga_mean', 'fl_665_mean', 'a_hga_sum', 'dis_hp_mean', 'resnssi1_missing_NIU_sum', 'ssi_val_sum', 'fssival_sum', 'p_mvcare_sum', 'fedtax_ac_mean', 'fssval_mean', 'filestat_mean', 'hrswk_mean', 'ss_val_sum', 'ssi_val_missing_NoneIn_sum', 'pmed_val_mean', 'hea_sum', 'ssi_yn_sum', 'pefntvty_sum', 'pemntvty_mean', 'fwsval_mean', 'fmed_val_mean', 'fhousreq_mean', 'flastidx_mean', 'prdisflg_mean', 'ssi_val_mean', 'fica_mean', 'pxlnmom_sum', 'h_mis_sum', 'disability_mean', 'fl_665_sum', 'i_phipval_sum', 'peioocc_sum', 'h_idnum2_sum', 'a_dtocc_sum', 'peioind_sum', 'gtco_sum', 'statetax_ac_sum', 'perlis_mean', 'a_sex_mean', 'pemntvty_sum', 'resnssi1_missing_NIU_mean', 'a_hrs1_mean', 'ppposold_mean', 'fkind_sum', 'statetax_ac_mean', 'prdisflg_sum', 'gtco_mean', 'phf_seq_sum', 'pehruslt_sum', 'industry_mean', 'prswkxpns_mean', 'industry_sum', 'fpovcut_sum', 'hinc_ws_mean', 'rsnnotw_missing_NotIn_mean', 'paw_val_sum', 'pppos_mean', 'penatvty_sum', 'pedisphy_mean', 'hssi_yn_sum', 'wsal_val_mean', 'hrnumwic_sum', 'hrnumwic_mean', 'hinc_ws_sum', 'occup_mean', 'a_dtind_sum', 'a_dtind_mean', 'peioind_mean', 'a_lfsr_mean', 'fpawval_sum', 'p_earned_mean', 'fheadidx_sum', 'fwifeidx_sum', 'hea_mean', 'wemocg_sum', 'peioocc_mean', 'wemind_mean', 'eit_cred_mean', 'h_mis_mean', 'h_livqrt_sum', 'perlis_sum', 'mcare_mean', 'ss_val_missing_NoneIn_mean', 'resnssi1_mean', 'poccu2_sum', 'ern_yn_mean', 'f_mv_sl_sum', 'finc_ssi_mean', 'fssival_mean', 'weind_sum', 'SSI_target_pool_sum', 'ppposold_sum', 'fhip_val_sum', 'fwsval_sum', 'a_maritl_mean', 'fpovcut_mean', 'h_livqrt_mean', 'cov_hi_sum', 'famlis_sum', 'statetax_bc_mean', 'paw_yn_sum', 'hmcaid_sum', 'h_idnum2_mean', 'current_recipient_mean', 'fhip_val_mean', 'penatvty_mean', 'hi_yn_sum', 'fpawval_mean', 'eit_cred_sum', 'wemind_sum', 'a_maritl_sum', 'wemocg_mean', 'fhusbidx_sum', 'f_mv_sl_mean', 'pelnmom_mean', 'pxmomtyp_sum', 'phip_val_sum', 'finc_ssi_sum', 'a_dtocc_mean', 'statetax_bc_sum', 'a_uslhrs_mean', 'resnssi1_sum', 'weind_mean', 'a_parent_mean', 'fkind_mean', 'pecohab_sum', 'workyn_mean', 'phip_val_mean', 'paw_yn_mean', 'pxdadtyp_mean', 'fspouidx_sum', 'poccu2_mean', 'a_spouse_mean', 'famlis_mean', 'disability_sum', 'fmlasidx_mean', 'pemlr_mean', 'pelnmom_sum', 'a_ernlwt_mean', 'care_mean', 'pxmomtyp_mean', 'rsnnotw_mean', 'emcontrb_mean', 'finc_paw_sum', 'h_respnm_sum', 'pppos_sum', 'hss_yn_sum', 'pf_seq_sum', 'hiown_sum', 'frsppct_mean', 'prcitshp_sum', 'cov_hi_mean', 'workyn_sum', 'hmcaid_mean', 'a_ernlwt_sum', 'pf_seq_mean', 'fmlasidx_sum', 'dep_stat_mean', 'pxafever_sum', 'hpawval_mean', 'rsnnotw_sum', 'hmcare_mean', 'pelndad_mean', 'wrk_ck_mean', 'a_famnum_mean', 'a_sex_sum', 'dis_hp_sum', 'pedisrem_mean', 'p_stat_mean', 'pedisphy_sum', 'pecohab_mean', 'a_hrspay_sum', 'pxdadtyp_sum', 'int_val_sum', 'fpctcut_mean', 'fpctcut_sum', 'pelndad_sum', 'a_wkslk_sum', 'ch_mc_sum', 'hh5to18_sum', 'pxdiseye_mean', 'prcitshp_mean', 'pedisout_mean', 'earner_sum', 'a_spouse_sum', 'ptweeks_sum', 'h_telhhd_sum', 'hi_mean', 'actc_crd_sum', 'fhusbidx_mean', 'ch_mc_mean', 'a_hrspay_mean', 'migsame_sum', 'a_ftpt_mean', 'ptweeks_mean', 'pxafever_mean', 'hflunno_sum', 'pehspnon_mean', 'fspanish_mean', 'hpawval_sum', 'actc_crd_mean', 'pehspnon_sum', 'hintval_sum', 'pedisdrs_mean', 'hintval_mean', 'a_wkslk_mean', 'p_stat_sum', 'hiown_mean', 'ss_val_missing_NoneIn_sum', 'wkswork_sum', 'frelu18_sum', 'dis_cs_sum', 'fintval_mean', 'ss_yn_mean', 'hflunno_mean', 'a_enrlw_mean', 'pearnval_missing_NoneIn_mean', 'lkweeks_mean', 'fintval_sum', 'current_recipient_sum', 'pxdisdrs_mean', 'ptotval_missing_NoneIn_mean', 'pxdisphy_mean', 'wkswork_mean', 'prpertyp_mean', 'pxdisout_mean', 'fspouidx_mean', 'finc_ss_sum', 'hunder15_sum', 'hfinval_mean', 'ss_yn_sum', 'pemlr_missing_NIU_mean', 'wsal_val_missing_NoneIn_mean', 'ws_val_sum', 'fpersons_mean', 'a_lfsr_sum', 'mcare_sum', 'care_sum', 'emcontrb_sum', 'migsame_mean', 'wsal_yn_mean', 'pedisrem_missing_NIU_mean', 'int_yn_sum', 'wsal_yn_sum', 'ssikidyn_missing_NIU_mean', 'pxdisdrs_sum', 'dis_hp_missing_NotIn_mean', 'rsnnotw_missing_NotIn_sum', 'int_val_mean', 'pediseye_missing_NIU_mean', 'lkweeks_sum', 'hunder18_sum', 'pedisout_sum', 'frsppct_sum', 'pemlr_sum', 'hmcare_sum', 'fownu18_sum', 'h_telint_sum', 'fspanish_sum', 'care_val_sum', 'pxdisrem_mean', 'ret_val1_mean', 'hpaw_yn_mean', 'pxnatvty_sum', 'dep_stat_sum', 'ffinval_sum', 'h_hhnum_sum', 'pedisphy_missing_NIU_mean', 'pedisear_missing_NIU_mean', 'hcspval_mean', 'hpaw_yn_sum', 'otyp_4_sum', 'semp_val_missing_NoneIn_sum', 'a_parent_sum', 'ftotval_missing_NoneIn_sum', 'pedisdrs_sum', 'wsal_val_missing_NoneIn_sum', 'rtm_val_missing_NoneIn_sum', 'paw_yn_missing_NotIn_mean', 'frelu6_sum', 'ws_val_mean', 'fcspval_mean', 'pxdisphy_sum', 'hedval_sum', 'pxdisrem_sum', 'int_val_missing_NoneIn_sum', 'pedisrem_sum', 'hcspval_sum', 'ptotval_missing_NoneIn_sum', 'hunder18_mean', 'ret_val1_sum', 'ssikidyn_missing_NIU_sum', 'oi_val_missing_NoneIn_sum', 'hucval_sum', 'a_ftpt_sum', 'ern_yn_sum', 'hfinval_sum', 'a_wantjb_mean', 'int_yn_missing_NotIn_mean', 'care_val_mean', 'int_val_missing_NoneIn_mean', 'hfoodmo_mean', 'gtindvpc_sum', 'h_telint_mean', 'pearnval_missing_NoneIn_sum', 'fownu6_sum', 'gtindvpc_mean', 'h_telhhd_mean', 'fedval_mean', 'hh5to18_mean', 'hiemp_mean', 'fedval_sum', 'ssi_yn_missing_NotIn_mean', 'oi_off_missing_NIU_sum', 'oth_mean', 'pedisdrs_missing_NIU_mean', 'hseval_mean', 'csp_val_mean', 'fcspval_sum', 'hssi_yn_mean', 'pxdisout_sum', 'csp_yn_mean', 'finc_ss_mean', 'penplan_mean', 'prpertyp_sum', 'hcsp_yn_sum', 'a_enrlw_sum', 'hfoodmo_sum', 'fpersons_sum', 'ffinval_mean', 'cov_gh_mean', 'ptot_r_missing_NotIn_mean', 'finc_paw_mean', 'cov_gh_sum', 'fucval_mean', 'uc_val_mean', 'earner_mean', 'finc_ws_sum', 'hint_yn_sum', 'frelu18_mean', 'fownu6_mean', 'hhotno_sum', 'dis_cs_mean', 'ptot_r_missing_NotIn_sum', 'fownu18_mean', 'int_yn_missing_NotIn_sum', 'ctc_crd_mean', 'oth_sum', 'ssi_yn_missing_NotIn_sum', 'hfin_yn_sum', 'pedisout_missing_NIU_sum', 'int_yn_mean', 'peafever_mean', 'csp_val_sum', 'pediseye_mean', 'uc_val_sum', 'othstper_sum', 'a_uslft_mean', 'otyp_4_mean', 'a_famnum_sum', 'h_year_sum', 'ihsflg_mean', 'uc_yn_missing_NotIn_mean', 'hedval_mean', 'csp_val_missing_NoneIn_sum', 'pxdiseye_sum', 'hretval_mean', 'ret_yn_mean', 'rtm_val_mean', 'pedisout_missing_NIU_mean', 'uc_val_missing_NoneIn_sum', 'pxmntvty_mean', 'priv_sum', 'pedisphy_missing_NIU_sum', 'pedisear_missing_NIU_sum', 'othstper_mean', 'champ_mean', 'foival_sum', 'lkstrch_mean', 'div_val_missing_NoneIn_sum', 'finc_oi_sum', 'penplan_sum', 'wageotr_mean', 'ed_val_sum', 'vet_typ1_missing_NotIn_sum', 'hint_yn_mean', 'finc_int_sum', 'pxmntvty_sum', 'ftotval_missing_NoneIn_mean', 'hi_sum', 'hfin_yn_mean', 'rtm_val_sum', 'csp_val_missing_NoneIn_mean', 'hed_yn_sum', 'pedisear_sum', 'rnt_val_missing_NoneIn_sum', 'h_telavl_sum', 'hdisval_mean', 'hinc_se_sum', 'fucval_sum', 'hhotno_mean', 'hoival_sum', 'resnssi2_missing_NIU_sum', 'vet_val_missing_NoneIn_sum', 'pxfntvty_sum', 'hss_yn_mean', 'finc_fin_mean', 'finc_fin_sum', 'ern_otr_sum', 'ihsflg_sum', 'earner_missing_NotIn_sum', 'fin_val_sum', 'pchip_mean', 'priv_mean', 'hretval_sum', 'earner_missing_NotIn_mean', 'paidccyn_sum', 'fin_val_mean', 'a_hrlywk_mean', 'hilin1_mean', 'h_respnm_mean', 'a_grswk_mean', 'h_hhnum_mean', 'fretval_sum', '80_84__missing_mean', 'hucval_mean', 'uc_yn_missing_NotIn_sum', 'hunder15_mean', 'pedisdrs_missing_NIU_sum', 'chelsew_yn_mean', 'oi_yn_mean', 'penincl_mean', 'peafever_sum', 'ctc_crd_sum', 'hchamp_sum', 'pedisear_mean', 'ptyn_mean', 'penincl_sum', 'paw_yn_missing_NotIn_sum', 'wageotr_sum', 'fretval_mean', 'phmemprs_mean', 'pxfntvty_mean', 'dis_hp_missing_NotIn_sum', 'a_hrlywk_sum', 'pxinusyr_mean', 'paw_mon_sum', 'nwlkwk_sum', 'hilin1_sum', 'dis_yn_sum', 'ed_val_mean', 'hcsp_yn_mean', 'otyp_1_sum', 'dephi_mean', 'fsurval_mean', 'fseval_sum', 'oi_off_sum', 'fin_yn_sum', 'hinc_uc_mean', 'finc_ed_sum', 'hseval_sum', 'h_telavl_mean', 'champ_sum', 'a_wantjb_sum', 'oed_typ1_mean', 'nwlook_mean', 'pemlr_missing_NIU_sum', 'uc_val_missing_NoneIn_mean', 'dephi_sum', 'pedisrem_missing_NIU_sum', 'wrk_ck_sum', 'dsab_val_sum', 'ern_otr_mean', 'wc_val_mean', 'ed_yn_mean', 'a_grswk_sum', 'pediseye_missing_NIU_sum', 'finc_int_mean', 'finc_csp_sum', 'sur_val1_sum', 'oi_off_missing_NIU_mean', 'hiemp_sum', 'fin_yn_mean', 'hinc_uc_sum', 'finc_dis_mean', 'frelu6_mean', 'semp_val_mean', 'oed_typ1_sum', 'oi_val_sum', 'pediseye_sum', 'hdivval_sum', 'fseval_mean', 'hvetval_sum', 'foival_mean', 'depriv_mean', 'paidccyn_mean', 'dis_val1_sum', 'out_sum', 'fwcval_sum', 'hoival_mean', 'uc_yn_mean', 'finc_uc_sum', 'paw_mon_mean', 'finc_uc_mean', 'csp_yn_sum', 'hdis_yn_mean', 'div_val_mean', 'nwlkwk_mean', 'hsurval_mean', 'hvet_yn_sum', 'se_val_mean', 'hoi_yn_sum', 'finc_csp_mean', 'nwlook_sum', 'uc_yn_sum', 'ed_yn_sum', 'phmemprs_sum', 'hsurval_sum', 'seotr_mean', 'otyp_3_mean', 'finc_ws_mean', 'fdisval_sum', 'pxnatvty_mean', 'pchip_sum', 'hdiv_yn_mean', 'vet_val_missing_NoneIn_mean', 'hret_yn_sum', 'dis_val1_mean', 'ssikidyn_sum', 'htotval_missing_NoneIn_mean', 'rtm_val_missing_NoneIn_mean', 'div_yn_mean', 'fsurval_sum', 'srvs_val_mean', 'hdis_yn_sum', 'pxinusyr_sum', 'pilin1_mean', 'out_mean', 'lkstrch_sum', 'a_uslft_sum', 'dsab_val_mean', 'otyp_1_mean', 'chelsew_yn_sum', 'finc_ed_mean', 'hsur_yn_sum', 'depriv_sum', 'finc_sur_sum', 'fed_ret_mean', 'hvet_yn_mean', 'ptyn_sum', 'hwcval_sum', 'oi_val_missing_NoneIn_mean', 'vet_typ1_mean', 'finc_sur_mean', 'hed_yn_mean', 'hwcval_mean', 'rnt_val_sum', 'seotr_sum', 'finc_ret_sum', 'hrntval_mean', 'frse_yn_mean', 'sur_val1_mean', 'hret_yn_mean', 'fdivval_sum', 'srvs_val_sum', 'fwcval_mean', 'finc_se_sum', '80_84__missing_sum', 'wc_val_sum', 'frse_val_mean', 'hdivval_mean', 'div_val_sum', 'dis_yn_mean', 'finc_fr_sum', 'fdivval_mean', 'vet_yn_sum', 'finc_wc_sum', 'se_val_sum', 'frntval_mean', 'finc_oi_mean', 'hdiv_yn_sum', 'fed_ret_sum', 'finc_dis_sum', 'oed_typ2_mean', 'hdisval_sum', 'hinc_wc_sum', 'hrntval_sum', 'sur_yn_mean', 'semp_yn_mean', 'frntval_sum', 'vet_qva_mean', 'otyp_3_sum', 'hchamp_mean', 'finc_ret_mean', 'frse_val_missing_NoneIn_sum', 'finc_wc_mean', 'oi_yn_sum', 'fvetval_mean', 'vet_val_sum', 'pilin1_sum', 'wc_yn_mean', 'hinc_se_mean', 'resnssi2_missing_NIU_mean', 'div_val_missing_NoneIn_mean', 'hvetval_mean', 'hfrval_sum', 'frse_val_sum', 'finc_vet_sum', 'vet_yn_mean', 'frmotr_sum', 'ffrval_mean', 'hinc_fr_sum', 'finc_alm_mean', 'finc_fr_mean', 'ffrval_sum', 'finc_vet_mean', 'finc_div_sum', 'oi_val_mean', 'chsp_yn_mean', 'wtemp_mean', 'hfrval_mean', 'ret_yn_sum', 'losewks_sum', 'finc_se_mean', 'sur_yn_sum', 'hiout_mean', 'htotval_missing_NoneIn_sum', 'fdisval_mean', 'chsp_val_sum', 'hrnt_yn_mean', 'pout_sum', 'vet_val_mean', 'hilin2_mean', 'frm_val_sum', 'fvetval_sum', 'vet_typ1_missing_NotIn_mean', 'vet_typ4_mean', 'losewks_mean', 'a_payabs_sum', 'pout_mean', 'oed_typ3_mean', 'chsp_yn_sum', 'semp_yn_sum', 'a_payabs_mean', 'a_unmem_sum', 'div_yn_sum', 'chsp_val_mean', 'rnt_val_missing_NoneIn_mean', 'frse_val_missing_NoneIn_mean', 'rnt_yn_sum', 'hinc_fr_mean', 'semp_val_missing_NoneIn_mean', 'oed_typ3_sum', 'hinc_wc_mean', 'frm_val_mean', 'frmotr_mean', 'otyp_5_sum', 'hiout_sum', 'frse_yn_sum', 'oi_off_mean', 'oed_typ2_sum', 'rnt_yn_mean', 'wtemp_sum', 'ssikidyn_mean', 'semp_val_sum', 'vet_typ1_sum', 'otyp_5_mean', 'finc_rnt_sum', 'rnt_val_mean', 'vet_typ5_sum', 'vet_typ3_mean', 'vet_qva_sum', 'vet_typ5_mean', 'otyp_2_mean', 'otyp_2_sum', 'hoi_yn_mean', 'hrnt_yn_sum', 'hsur_yn_mean', 'finc_rnt_mean', 'a_clswkr_mean', 'a_whenlj_mean', 'tcernval_sum', 'tpotc_val_sum', 'div_non_mean', 'dis_val2_mean', 'tcwsval_sum', 'tcseval_sum', 'alm_val_mean', 'alm_yn_mean', 'h1telint_mean', 'ret_val2_mean', 'ret_sc1_mean', 'ret_sc2_mean', 'a_whyabs_mean', 'ahiper_mean', 'a_untype_mean', 'precord_mean', 'a_herntf_sum', 'gtcbsasz_mean', 'gtcbsast_mean', 'h1telavl_mean', 'gestcen_mean', 'h1telhhd_mean', 'gereg_mean', 'falmval_mean', 'tdiv_val_sum', 'othstyp1_mean', 'h_tenure_mean', 'h_typebc_mean', 'othstyp2_mean', 'finc_div_mean', 'h_month_mean', 'h_type_mean', 'othstyp3_mean', '85_95__missing_sum', 'h_hhtype_mean', 'h_year_mean', 'othstyp4_mean', 'othstyp5_mean', 'othstyp6_mean', 'gtmetsta_mean', 'i_potcval_sum', 'pov_univ_mean', 'i_pmedval_sum', 'wicyn_mean', 'a_werntf_sum', 'i_chelsewyn_sum', 'i_chspyn_sum', 'htop5pct_mean', 'i_chspval_sum', 'hipaid_mean', 'perrp_mean', 'hityp_mean', 'a_exprrp_mean', 'tpmed_val_sum', 'frspov_mean', 'dis_sc1_mean', 'hflunch_mean', 'i_fhipval_mean', 'hhotlun_mean', 'tchsp_val_sum', 'h1tenure_mean', 'paid_mean', 'prityp_mean', 'pilin2_mean', 'dis_sc2_mean', 'resnssi2_mean', 'a_nlflj_mean', 'ptrsn_mean', 'i_hengas_mean', 'tfin_val_sum', 'a_hscol_mean', 'i_hengva_mean', 'age1_mean', 'parent_mean', 'prwkstat_mean', 'prptrea_mean', 'prdisc_mean', 'peabsrsn_mean', 'prnlfsch_mean', 'tint_val_sum', 'hhdfmx_mean', 'famrel_mean', 'hhdrel_mean', 'a_pfrel_mean', 'wkcheck_mean', 'lknone_mean', 'a_famrel_mean', 'a_famtyp_mean', 'pyrsn_mean', 'a_uncov_mean', 'tretval2_sum', 'hrcheck_mean', 'hrhtype_mean', 'i_hfoodm_mean', 'pruntype_mean', 'i_hfoodn_mean', 'i_hpubli_mean', 'a_explf_mean', 'a_wksch_mean', 'a_civlf_mean', 'a_ftlf_mean', 'a_mjind_mean', 'a_mjocc_mean', 'i_hflunc_mean', 'tcsp_val_sum', 'peio1cow_mean', 'prcow1_mean', 'i_hflunn_mean', 'talm_val_sum', 'i_hfdval_mean', 'halmval_mean', 'ted_val_sum', 'i_hloren_mean', 'peafwhn4_mean', 'peafwhn3_mean', 'peafwhn2_mean', 'peafwhn1_mean', 'i_hfoods_mean', 'peinusyr_mean', 'pedadtyp_mean', 'pemomtyp_mean', 'a_unmem_mean', 'wexp_mean', 'ftype_mean', 'wewkrs_mean', 'i_propval_mean', 'subuc_mean', 'strkuc_mean', 'hrwicyn_mean', 'wc_type_mean', 'tcare_val_mean', 'i_hhotlu_mean', 'tdisval2_sum', 'resnss1_mean', 'resnss2_mean', 'sskidyn_mean', 'tdisval1_sum', 'tsurval2_sum', 'hhstatus_mean', 'a_wkstat_mean', 'paw_typ_mean', 'i_careval_mean', 'tsurval1_sum', 'vet_typ2_mean', 'prerelg_mean', 'sur_sc1_mean', 'sur_sc2_mean', 'sur_val2_mean', 'frecord_mean', 'tcffmval_sum', 'i_hhotno_mean', 'prdasian_mean', 'thprop_val_mean', 'mig_st_mean', 'welknw_mean', 'weuemp_mean', 'prdthsp_mean', 'clwk_mean', 'weclw_mean', 'i_hunits_mean', 'ljcw_mean', 'noemp_mean', 'nxtres_mean', 'mig_cbst_mean', 'mig_reg_mean', 'mig_dscp_mean', 'hrpaidcc_mean', 'gediv_mean', 'mig_div_mean', 'mig_mtr1_mean', 'mig_mtr3_mean', 'mig_mtr4_mean', 'toi_val_sum', 'ern_srce_mean', 'tretval1_sum', 'trnt_val_sum', 'tphip_val_sum', 'h1livqrt_mean', 'halm_yn_mean', 'i_pyrsn_sum', 'ahityp1_mean', 'i_ssval_sum', 'a_explf_sum', 'a_wkstat_sum', 'a_untype_sum', 'a_hscol_sum', 'a_uncov_sum', 'i_wcval_sum', 'prerelg_sum', 'a_nlflj_sum', 'a_whenlj_sum', 'a_clswkr_sum', 'a_whyabs_sum', 'i_ssyn_sum', 'prdasian_sum', 'a_civlf_sum', 'peinusyr_sum', 'resnssa_sum', 'peafwhn4_sum', 'peafwhn3_sum', 'peafwhn2_sum', 'peafwhn1_sum', 'pedadtyp_sum', 'pemomtyp_sum', 'age1_sum', 'parent_sum', 'hhdfmx_sum', 'famrel_sum', 'a_wksch_sum', 'a_ftlf_sum', 'mig_st_sum', 'hrcheck_sum', 'mig_cbst_sum', 'nxtres_sum', 'noemp_sum', 'i_wcyn_sum', 'ljcw_sum', 'weclw_sum', 'clwk_sum', 'weuemp_sum', 'welknw_sum', 'wewkrs_sum', 'wexp_sum', 'ptrsn_sum', 'i_wctyp_sum', 'a_mjind_sum', 'pyrsn_sum', 'lknone_sum', 'wkcheck_sum', 'prnlfsch_sum', 'peabsrsn_sum', 'prdisc_sum', 'prptrea_sum', 'prwkstat_sum', 'pruntype_sum', 'prcow1_sum', 'peio1cow_sum', 'a_mjocc_sum', 'hhdrel_sum', 'a_pfrel_sum', 'a_famrel_sum', 'i_disvl2_sum', 'ftype_sum', 'frecord_sum', 'i_dissc2_sum', 'i_careval_sum', 'tcare_val_sum', 'hrwicyn_sum', 'i_propval_sum', 'thprop_val_sum', 'i_disvl1_sum', 'hrpaidcc_sum', 'i_hunits_sum', 'hrhtype_sum', 'i_retyn_sum', 'a_famtyp_sum', 'i_hengva_sum', 'i_hengas_sum', 'i_hfoodm_sum', 'i_hfoodn_sum', 'i_hfdval_sum', 'i_hfoods_sum', 'i_hloren_sum', 'i_hpubli_sum', 'i_hflunn_sum', 'i_hflunc_sum', 'i_hhotno_sum', 'i_hhotlu_sum', 'i_dissc1_sum', 'i_discs_sum', 'frspov_sum', 'i_dishp_sum', 'prdthsp_sum', 'i_ssiyn_sum', 'sskidyna_sum', 'i_ssival_sum', 'perrp_sum', 'a_exprrp_sum', 'resnssia_sum', 'precord_sum', 'i_fhipval_sum', 'i_pawyn_sum', 'ssikdyna_sum', 'i_pawtyp_sum', 'i_pawmo_sum', 'i_pawval_sum', 'i_vetyn_sum', 'i_vettyp_sum', 'i_vetqva_sum', 'i_vetval_sum', 'i_suryn_sum', 'i_sursc1_sum', 'i_sursc2_sum', 'i_survl1_sum', 'falmval_sum', 'finc_alm_sum', 'i_survl2_sum', 'mig_reg_sum', 'mig_dscp_sum', 'ahityp2_mean', 'i_ptrsn_sum', 'pxrace1_sum', 'axhga_sum', 'axsex_sum', 'axspouse_sum', 'axmaritl_sum', 'axage_sum', 'axrrp_sum', 'i_hrswk_sum', 'i_hrchk_sum', 'i_ptyn_sum', 'paidcyna_sum', 'i_ptwks_sum', 'i_ljcw_sum', 'pxcohab_sum', 'i_indus_sum', 'i_occup_sum', 'i_noemp_sum', 'i_nxtres_sum', 'i_mig1_sum', 'ch_hi_sum', 'ahityp6_sum', 'ahityp5_sum', 'ahityp4_sum', 'ahityp3_sum', 'ahityp2_sum', 'ahityp1_sum', 'pxhspnon_sum', 'i_phmemp_sum', 'gediv_sum', 'axenrlw_sum', 'i_lkweek_sum', 'i_losewk_sum', 'i_wkchk_sum', 'i_wkswk_sum', 'i_rsnnot_sum', 'i_nwlkwk_sum', 'i_nwlook_sum', 'i_wtemp_sum', 'i_workyn_sum', 'axlfsr_sum', 'axftpt_sum', 'axhscol_sum', 'axuncov_sum', 'pxlndad_sum', 'axunmem_sum', 'axhrlywk_sum', 'axuslhrs_sum', 'axnlflj_sum', 'axclswkr_sum', 'axpayabs_sum', 'axwhyabs_sum', 'axhrs_sum', 'prhernal_sum', 'prwernal_sum', 'pxdisear_sum', 'pxafwhn1_sum', 'ahiper_sum', 'i_mig2_sum', 'othstyp6_sum', 'resnss2_sum', 'dis_sc1_sum', 'sur_val2_sum', 'sur_sc2_sum', 'sur_sc1_sum', 'vet_typ4_sum', 'vet_typ3_sum', 'vet_typ2_sum', 'paw_typ_sum', 'resnssi2_sum', 'i_seval_sum', 'i_frmyn_sum', 'sskidyn_sum', 'resnss1_sum', 'othstyp5_sum', 'i_frmval_sum', 'wc_type_sum', 'wc_yn_sum', 'strkuc_sum', 'subuc_sum', 'i_ucyn_sum', 'i_ucval_sum', 'ern_srce_sum', 'mig_mtr4_sum', 'mig_mtr3_sum', 'mig_mtr1_sum', 'mig_div_sum', 'dis_sc2_sum', 'dis_val2_sum', 'ret_sc1_sum', 'ret_sc2_sum', 'othstyp4_sum', 'othstyp3_sum', 'othstyp2_sum', 'othstyp1_sum', 'i_mig3_sum', 'i_disyn_sum', 'pilin2_sum', 'prityp_sum', 'paid_sum', 'hilin2_sum', 'hityp_sum', 'hipaid_sum', 'i_ernyn_sum', 'i_ernsrc_sum', 'i_ernval_sum', 'wicyn_sum', 'pov_univ_sum', 'i_retsc2_sum', 'i_wsyn_sum', 'i_wsval_sum', 'i_seyn_sum', 'alm_val_sum', 'alm_yn_sum', 'div_non_sum', 'ret_val2_sum', 'h1telint_sum', 'h1telavl_sum', 'h1telhhd_sum', 'i_retsc2_mean', 'i_ssyn_mean', 'i_wcval_mean', 'i_wctyp_mean', 'i_wcyn_mean', 'i_ucval_mean', 'i_ucyn_mean', 'i_frmval_mean', 'i_frmyn_mean', 'i_seval_mean', 'i_seyn_mean', 'i_wsval_mean', 'i_wsyn_mean', 'i_ernval_mean', 'resnssa_mean', 'i_ernsrc_mean', 'i_ernyn_mean', 'i_disyn_mean', 'i_mig3_mean', 'i_mig2_mean', 'i_mig1_mean', 'i_nxtres_mean', 'i_noemp_mean', 'i_occup_mean', 'i_indus_mean', 'i_ljcw_mean', 'i_ptrsn_mean', 'i_ssval_mean', 'i_ssiyn_mean', 'h1livqrt_sum', 'i_sursc2_mean', 'i_retvl2_mean', 'i_retvl1_mean', 'i_retsc1_mean', 'i_retyn_mean', 'i_disvl2_mean', 'i_disvl1_mean', 'i_dissc2_mean', 'i_dissc1_mean', 'i_discs_mean', 'i_dishp_mean', 'i_survl2_mean', 'i_survl1_mean', 'i_sursc1_mean', 'sskidyna_mean', 'i_suryn_mean', 'i_vetval_mean', 'i_vetqva_mean', 'i_vettyp_mean', 'i_vetyn_mean', 'i_pawval_mean', 'i_pawmo_mean', 'i_pawtyp_mean', 'ssikdyna_mean', 'i_pawyn_mean', 'resnssia_mean', 'i_ssival_mean', 'i_ptwks_mean', 'i_ptyn_mean', 'i_hrchk_mean', 'i_ostper_sum', 'pxlndad_mean', 'i_oth_sum', 'pxcohab_mean', 'pxhspnon_mean', 'pxrace1_mean', 'axhga_mean', 'axsex_mean', 'axspouse_mean', 'axmaritl_mean', 'axage_mean', 'axrrp_mean', 'i_otyp_sum', 'i_ostyp_sum', 'i_hrswk_mean', 'paidcyna_mean', 'i_hea_sum', 'iahiper_sum', 'iahityp_sum', 'i_pchip_sum', 'i_penpla_sum', 'i_peninc_sum', 'ch_hi_mean', 'ahityp6_mean', 'ahityp5_mean', 'ahityp4_mean', 'ahityp3_mean', 'pxafwhn1_mean', 'pxdisear_mean', 'prwernal_mean', 'prhernal_mean', 'i_phmemp_mean', 'i_pyrsn_mean', 'i_lkstr_mean', 'i_lkweek_mean', 'i_losewk_mean', 'i_wkchk_mean', 'i_wkswk_mean', 'i_rsnnot_mean', 'i_nwlkwk_mean', 'i_nwlook_mean', 'i_wtemp_mean', 'i_workyn_mean', 'axlfsr_mean', 'axftpt_mean', 'axhscol_mean', 'axenrlw_mean', 'axuncov_mean', 'axunmem_mean', 'axhrlywk_mean', 'axuslhrs_mean', 'axnlflj_mean', 'axclswkr_mean', 'axpayabs_mean', 'axwhyabs_mean', 'axhrs_mean', 'i_intyn_mean', 'i_intval_mean', 'i_divyn_mean', 'i_hiout_sum', 'h_month_sum', 'h_type_sum', 'i_almyn_sum', 'i_almval_sum', 'h_hhtype_sum', 'i_finyn_sum', 'i_finval_sum', 'i_oival_sum', 'wicyna_sum', 'i_hi_sum', 'i_dephi_sum', 'i_paid_sum', 'i_priv_sum', 'tcsp_val_mean', '85_95__missing_mean', 'i_depriv_sum', 'i_pout_sum', 'i_out_sum', 'i_care_sum', 'i_caid_sum', 'tchsp_val_mean', 'tpmed_val_mean', 'tpotc_val_mean', 'tphip_val_mean', 'toi_val_mean', 'tfin_val_mean', 'i_cspval_sum', 'h_typebc_sum', 'h_tenure_sum', 'gereg_sum', 'h1tenure_sum', 'i_retsc1_sum', 'htop5pct_sum', 'hhstatus_sum', 'i_retvl1_sum', 'i_retvl2_sum', 'i_intyn_sum', 'i_intval_sum', 'halmval_sum', 'halm_yn_sum', 'i_divyn_sum', 'i_divval_sum', 'i_rntyn_sum', 'i_rntval_sum', 'i_edyn_sum', 'i_edtyp1_sum', 'hflunch_sum', 'hhotlun_sum', 'i_edtyp2_sum', 'gtcbsasz_sum', 'gtmetsta_sum', 'gtcbsast_sum', 'i_oedval_sum', 'i_cspyn_sum', 'gestcen_sum', 'talm_val_mean', 'ted_val_mean', 'i_divval_mean', 'wicyna_mean', 'i_lkstr_sum', 'i_mon_mean', 'i_caid_mean', 'i_care_mean', 'i_out_mean', 'i_pout_mean', 'i_depriv_mean', 'i_priv_mean', 'i_hiout_mean', 'i_paid_mean', 'i_dephi_mean', 'i_hi_mean', 'i_oival_mean', 'trnt_val_mean', 'i_finval_mean', 'i_finyn_mean', 'i_almval_mean', 'i_almyn_mean', 'i_cspval_mean', 'i_cspyn_mean', 'i_oedval_mean', 'i_edtyp2_mean', 'i_edtyp1_mean', 'i_edyn_mean', 'i_rntval_mean', 'i_rntyn_mean', 'i_otyp_mean', 'i_ostper_mean', 'i_ostyp_mean', 'i_hea_mean', 'tdiv_val_mean', 'tint_val_mean', 'tretval2_mean', 'tretval1_mean', 'tdisval2_mean', 'tdisval1_mean', 'tsurval2_mean', 'tsurval1_mean', 'tcffmval_mean', 'tcseval_mean', 'tcwsval_mean', 'tcernval_mean', 'a_herntf_mean', 'a_werntf_mean', 'i_chelsewyn_mean', 'i_chspyn_mean', 'i_chspval_mean', 'i_pmedval_mean', 'i_potcval_mean', 'i_mon_sum', 'i_peninc_mean', 'i_penpla_mean', 'i_pchip_mean', 'iahityp_mean', 'iahiper_mean', 'i_oth_mean']\n",
      "[ 0.02938202  0.02744629  0.02708912 ...,  0.          0.          0.        ]\n"
     ]
    }
   ],
   "source": [
    "features = Rf.feature_importances_\n",
    "maxes = np.argsort(features)[::-1]\n",
    "print maxes\n",
    "print list(train_x[maxes].columns.values)\n",
    "print features[maxes]"
   ]
  },
  {
   "cell_type": "code",
   "execution_count": 6,
   "metadata": {
    "collapsed": false
   },
   "outputs": [
    {
     "name": "stdout",
     "output_type": "stream",
     "text": [
      "[[ 1.          0.        ]\n",
      " [ 1.          0.        ]\n",
      " [ 0.9827619   0.0172381 ]\n",
      " ..., \n",
      " [ 1.          0.        ]\n",
      " [ 0.99733333  0.00266667]\n",
      " [ 1.          0.        ]]\n"
     ]
    }
   ],
   "source": [
    "get_probs = CPS_use.copy()\n",
    "get_probs = get_probs.drop(['hunits_sum', 'hhpos_sum', 'h_seq_sum', 'hrecord_sum', 'ph_seq_sum',\\\n",
    "                        'housing_sum','fhoussub_sum', 'hssival_sum', 'hunits_mean', 'hhpos_mean',\\\n",
    "                        'h_seq_mean', 'hrecord_mean', 'ph_seq_mean','housing_mean','fhoussub_mean',\\\n",
    "                        'hssival_mean', 'hsup_wgt_mean', 'fsup_wgt_mean', 'marsupwt_mean',\\\n",
    "                        'hsup_wgt_sum', 'marsupwt_sum', 'fsup_wgt_sum','htotval_mean', 'peridnum_mean',\\\n",
    "                        'h_idnum1_sum', 'h_idnum1_mean','htotval_sum','hfdval_sum'],1)\n",
    "\n",
    "prediction_vec = Rf.predict_proba(get_probs)\n",
    "print prediction_vec"
   ]
  },
  {
   "cell_type": "code",
   "execution_count": 7,
   "metadata": {
    "collapsed": false
   },
   "outputs": [],
   "source": [
    "np.savetxt('rf_probs.csv', prediction_vec)"
   ]
  }
 ],
 "metadata": {
  "kernelspec": {
   "display_name": "Python 2",
   "language": "python",
   "name": "python2"
  },
  "language_info": {
   "codemirror_mode": {
    "name": "ipython",
    "version": 2
   },
   "file_extension": ".py",
   "mimetype": "text/x-python",
   "name": "python",
   "nbconvert_exporter": "python",
   "pygments_lexer": "ipython2",
   "version": "2.7.11"
  }
 },
 "nbformat": 4,
 "nbformat_minor": 0
}
