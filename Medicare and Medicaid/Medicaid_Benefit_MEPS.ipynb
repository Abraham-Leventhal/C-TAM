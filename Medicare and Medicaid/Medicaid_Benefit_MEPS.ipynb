{
 "cells": [
  {
   "cell_type": "markdown",
   "metadata": {},
   "source": [
    "This script matched MEPS medicaid benefit amount in 2014 to CPS individual records marked as beneficiaries by age, gender, income and census region. Please refer to the description in current directory for more details on methodology. The input donor micro dataset is from Medical Expenditure Panel Survey (MEPS), 2014 full year consolidated file, which contains individual level Medicare benefits. The output is a CPS-based file, with personal level ID from both CPS and MEPS, and match benefit amount."
   ]
  },
  {
   "cell_type": "code",
   "execution_count": null,
   "metadata": {
    "collapsed": true
   },
   "outputs": [],
   "source": [
    "import pandas as pd\n",
    "import numpy as np\n",
    "import random"
   ]
  },
  {
   "cell_type": "code",
   "execution_count": null,
   "metadata": {
    "collapsed": true
   },
   "outputs": [],
   "source": [
    "PATH = 'WORKING DIRECTORY PATH'"
   ]
  },
  {
   "cell_type": "code",
   "execution_count": null,
   "metadata": {
    "collapsed": false
   },
   "outputs": [],
   "source": [
    "# h171.csv is the MEPS 2014 full year consolidated file\n",
    "# available from MEPS website\n",
    "raw_MEPS = pd.read_csv(str(PATH + 'h171.csv'))"
   ]
  },
  {
   "cell_type": "code",
   "execution_count": null,
   "metadata": {
    "collapsed": false
   },
   "outputs": [],
   "source": [
    "# variables for matching process\n",
    "id_for_analysis = ['DUPERSID','PANEL', 'WAGEP14X', 'REGION14', 'PERWT14F', 'SEX','AGE14X', 'TOTMCD14']\n",
    "MEPS_medicaid = raw_MEPS[id_for_analysis]"
   ]
  },
  {
   "cell_type": "code",
   "execution_count": null,
   "metadata": {
    "collapsed": false
   },
   "outputs": [],
   "source": [
    "# Keep MEPS records with positive medicaid benefits\n",
    "MEPS_medicaid['yes_to_md'] = np.where(MEPS_medicaid.TOTMCD14!=0, 1, 0)\n",
    "MEPS_medicaid = MEPS_medicaid[MEPS_medicaid.yes_to_md==1]"
   ]
  },
  {
   "cell_type": "code",
   "execution_count": null,
   "metadata": {
    "collapsed": false
   },
   "outputs": [],
   "source": [
    "# adjust variable value formats, preparing for the match\n",
    "MEPS_medicaid.SEX = np.where(MEPS_medicaid.SEX=='2 FEMALE', 'Female', 'Male')\n",
    "MEPS_medicaid.REGION14 = MEPS_medicaid.REGION14.str.split(' ', expand=True, n = 1).get(1).values\n",
    "MEPS_medicaid.REGION14 = MEPS_medicaid.REGION14.str.capitalize()"
   ]
  },
  {
   "cell_type": "code",
   "execution_count": null,
   "metadata": {
    "collapsed": false
   },
   "outputs": [],
   "source": [
    "# import CPS dataset and keep relevant variables\n",
    "CPS = pd.read_csv('../../Dropbox/asec2014_pubuse.csv')\n",
    "medicaid_columns = ['mcaid','peridnum','marsupwt', 'wsal_val', 'a_age', 'a_sex', 'gereg']\n",
    "CPS = CPS[medicaid_columns]"
   ]
  },
  {
   "cell_type": "code",
   "execution_count": null,
   "metadata": {
    "collapsed": false
   },
   "outputs": [],
   "source": [
    "# adjust variables to prepare for the match\n",
    "CPS.wsal_val = np.where(CPS.wsal_val==\"None or not in universe\", 0, CPS.wsal_val)\n",
    "CPS.wsal_val = pd.to_numeric(CPS.wsal_val)\n",
    "\n",
    "# replacing range of certain age with specific number\n",
    "# assigns random number in the range as actual age, not relevant in the match\n",
    "CPS.a_age = np.where(CPS.a_age == \"80-84 years of age\", random.randrange(80, 84), CPS.a_age)\n",
    "CPS.a_age = np.where(CPS.a_age == \"85+ years of age\", random.randrange(85, 95), CPS.a_age)\n",
    "CPS.a_age = pd.to_numeric(CPS.a_age)"
   ]
  },
  {
   "cell_type": "code",
   "execution_count": null,
   "metadata": {
    "collapsed": false
   },
   "outputs": [],
   "source": [
    "CPS['MEPS_ID'] = np.zeros(len(CPS))"
   ]
  },
  {
   "cell_type": "code",
   "execution_count": null,
   "metadata": {
    "collapsed": true
   },
   "outputs": [],
   "source": [
    "# keep individuals who claim receiving medicaid\n",
    "CPS = CPS[CPS.mcaid=='Yes']"
   ]
  },
  {
   "cell_type": "code",
   "execution_count": null,
   "metadata": {
    "collapsed": false
   },
   "outputs": [],
   "source": [
    "len(CPS)"
   ]
  },
  {
   "cell_type": "code",
   "execution_count": null,
   "metadata": {
    "collapsed": true
   },
   "outputs": [],
   "source": [
    "Region = ['Northeast', 'South', 'Midwest', 'West']\n",
    "Gender = ['Male', 'Female']"
   ]
  },
  {
   "cell_type": "code",
   "execution_count": null,
   "metadata": {
    "collapsed": true
   },
   "outputs": [],
   "source": [
    "random.seed(1)"
   ]
  },
  {
   "cell_type": "code",
   "execution_count": null,
   "metadata": {
    "collapsed": false,
    "scrolled": false
   },
   "outputs": [],
   "source": [
    "for this_area in Region:\n",
    "    for this_gender in Gender:\n",
    "        subset_CPS = CPS[(CPS.gereg==this_area)*(CPS.a_sex==this_gender)]\n",
    "        MEPS_donor = MEPS_medicaid[(MEPS_medicaid.REGION14==this_area)*(MEPS_medicaid.SEX==this_gender)]\n",
    "        \n",
    "        for i, record in subset_CPS.iterrows():\n",
    "            age_range = [record.a_age - 2, record.a_age + 2]\n",
    "            income_range = [record.wsal_val - 100, record.wsal_val + 100]\n",
    "            \n",
    "            f1 = (MEPS_donor.AGE14X >= age_range[0])\n",
    "            f2 = (MEPS_donor.AGE14X <= age_range[1])\n",
    "            f3 = (MEPS_donor.WAGEP14X >= income_range[0])\n",
    "            f4 = (MEPS_donor.WAGEP14X <= income_range[1])\n",
    "            pool = MEPS_donor[f1 * f2 * f3 * f4]\n",
    "            \n",
    "            number_donors = len(pool)\n",
    "            if number_donors < 1:\n",
    "                # release income constraints and find the person w/ closest income\n",
    "                pool = MEPS_donor[f1 * f2]\n",
    "                number_donors = len(pool)\n",
    "                \n",
    "                if number_donors < 1:\n",
    "                    if record.a_age < 85:\n",
    "                        print 'dont have anyone in this age range'\n",
    "                        print age_range\n",
    "                        continue\n",
    "                    else:\n",
    "                        pool = MEPS_donor[MEPS_donor.AGE14X==85]\n",
    "\n",
    "                closest_wage = min(pool.WAGEP14X, key=lambda x:abs(x-record.wsal_val))\n",
    "                CPS.MEPS_ID[CPS.peridnum==record.peridnum] = pool.DUPERSID[pool.WAGEP14X==closest_wage].values[0]    \n",
    "\n",
    "            else:\n",
    "                row_number = random.randint(1, number_donors) - 1\n",
    "                index = pool.DUPERSID.index[row_number]\n",
    "                CPS.MEPS_ID[CPS.peridnum==record.peridnum] = pool.DUPERSID.loc[index] "
   ]
  },
  {
   "cell_type": "code",
   "execution_count": null,
   "metadata": {
    "collapsed": false
   },
   "outputs": [],
   "source": [
    "CPS.marsupwt[CPS.MEPS_ID!=0].sum()"
   ]
  },
  {
   "cell_type": "code",
   "execution_count": null,
   "metadata": {
    "collapsed": false
   },
   "outputs": [],
   "source": [
    "CPS['DUPERSID'] = CPS.MEPS_ID\n",
    "CPS = pd.merge(CPS, MEPS_medicaid, on='DUPERSID', how='left')"
   ]
  },
  {
   "cell_type": "code",
   "execution_count": null,
   "metadata": {
    "collapsed": false
   },
   "outputs": [],
   "source": [
    "Matched_total = (CPS.marsupwt*CPS.TOTMCD14)[CPS.MEPS_ID!=0].sum()/1000000000"
   ]
  },
  {
   "cell_type": "code",
   "execution_count": null,
   "metadata": {
    "collapsed": true
   },
   "outputs": [],
   "source": [
    "Medicaid_total_noninstitutional = 468.00 - 18.10 - 116.20 * 45 / 77\n",
    "ratio = Medicaid_total_noninstitutional/Matched_total"
   ]
  },
  {
   "cell_type": "code",
   "execution_count": null,
   "metadata": {
    "collapsed": false
   },
   "outputs": [],
   "source": [
    "CPS[\"MedicaidX\"] = np.zeros(len(CPS))\n",
    "CPS.MedicaidX = CPS.TOTMCD14 * ratio"
   ]
  },
  {
   "cell_type": "code",
   "execution_count": null,
   "metadata": {
    "collapsed": true
   },
   "outputs": [],
   "source": [
    "CPS[['peridnum', 'DUPERSID', 'MedicaidX']].to_csv('medicaid14.csv', index=False)"
   ]
  }
 ],
 "metadata": {
  "anaconda-cloud": {},
  "kernelspec": {
   "display_name": "Python [default]",
   "language": "python",
   "name": "python2"
  },
  "language_info": {
   "codemirror_mode": {
    "name": "ipython",
    "version": 2
   },
   "file_extension": ".py",
   "mimetype": "text/x-python",
   "name": "python",
   "nbconvert_exporter": "python",
   "pygments_lexer": "ipython2",
   "version": "2.7.13"
  }
 },
 "nbformat": 4,
 "nbformat_minor": 0
}
