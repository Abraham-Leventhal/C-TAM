{
 "cells": [
  {
   "cell_type": "markdown",
   "metadata": {},
   "source": [
    "This script matched MEPS medicaid benefit amount in 2014 to CPS individual records marked as beneficiaries by age, gender, income and census region. Please refer to the description in current directory for more details on methodology. The input donor micro dataset is from Medical Expenditure Panel Survey (MEPS), 2014 full year consolidated file, which contains individual level Medicare benefits. The output is a CPS-based file, with personal level ID from both CPS and MEPS, and match benefit amount."
   ]
  },
  {
   "cell_type": "code",
   "execution_count": 1,
   "metadata": {
    "collapsed": true
   },
   "outputs": [],
   "source": [
    "import pandas as pd\n",
    "import numpy as np\n",
    "import random"
   ]
  },
  {
   "cell_type": "code",
   "execution_count": 2,
   "metadata": {
    "collapsed": true
   },
   "outputs": [],
   "source": [
    "PATH = 'WORKING DIRECTORY PATH'"
   ]
  },
  {
   "cell_type": "code",
   "execution_count": 3,
   "metadata": {
    "collapsed": false
   },
   "outputs": [
    {
     "name": "stderr",
     "output_type": "stream",
     "text": [
      "/Users/Amy/anaconda/lib/python2.7/site-packages/IPython/core/interactiveshell.py:2902: DtypeWarning: Columns (1322,1403,1436,1522,1605,1620,1621,1627,1636,1687,1737,1744,1747,1748,1756,1759,1765,1772,1775,1776,1779,1782,1793,1807) have mixed types. Specify dtype option on import or set low_memory=False.\n",
      "  interactivity=interactivity, compiler=compiler, result=result)\n"
     ]
    }
   ],
   "source": [
    "# h171.csv is the MEPS 2014 full year consolidated file\n",
    "# available from MEPS website\n",
    "raw_MEPS = pd.read_csv(str(PATH + 'h171.csv'))"
   ]
  },
  {
   "cell_type": "code",
   "execution_count": 4,
   "metadata": {
    "collapsed": false
   },
   "outputs": [],
   "source": [
    "# variables for matching process\n",
    "id_for_analysis = ['DUPERSID','PANEL', 'WAGEP14X', 'REGION14', 'PERWT14F', 'SEX','AGE14X', 'TOTMCD14']\n",
    "MEPS_medicaid = raw_MEPS[id_for_analysis]"
   ]
  },
  {
   "cell_type": "code",
   "execution_count": 6,
   "metadata": {
    "collapsed": false
   },
   "outputs": [
    {
     "name": "stderr",
     "output_type": "stream",
     "text": [
      "/Users/Amy/anaconda/lib/python2.7/site-packages/ipykernel/__main__.py:1: SettingWithCopyWarning: \n",
      "A value is trying to be set on a copy of a slice from a DataFrame.\n",
      "Try using .loc[row_indexer,col_indexer] = value instead\n",
      "\n",
      "See the caveats in the documentation: http://pandas.pydata.org/pandas-docs/stable/indexing.html#indexing-view-versus-copy\n",
      "  if __name__ == '__main__':\n"
     ]
    }
   ],
   "source": [
    "# Keep MEPS records with positive medicaid benefits\n",
    "MEPS_medicaid['yes_to_md'] = np.where(MEPS_medicaid.TOTMCD14!=0, 1, 0)\n",
    "MEPS_medicaid = MEPS_medicaid[MEPS_medicaid.yes_to_md==1]"
   ]
  },
  {
   "cell_type": "code",
   "execution_count": 8,
   "metadata": {
    "collapsed": false
   },
   "outputs": [],
   "source": [
    "# adjust variable value formats, preparing for the match\n",
    "MEPS_medicaid.SEX = np.where(MEPS_medicaid.SEX=='2 FEMALE', 'Female', 'Male')\n",
    "MEPS_medicaid.REGION14 = MEPS_medicaid.REGION14.str.split(' ', expand=True, n = 1).get(1).values\n",
    "MEPS_medicaid.REGION14 = MEPS_medicaid.REGION14.str.capitalize()"
   ]
  },
  {
   "cell_type": "code",
   "execution_count": 15,
   "metadata": {
    "collapsed": false
   },
   "outputs": [],
   "source": [
    "# import CPS dataset and keep relevant variables\n",
    "CPS = pd.read_csv('/Users/Amy/Dropbox/OSPC - Shared/CPS/cpsmar2014t.csv')\n",
    "medicaid_columns = ['mcaid','peridnum','marsupwt', 'wsal_val', 'a_age', 'a_sex', 'gereg']\n",
    "CPS = CPS[medicaid_columns]"
   ]
  },
  {
   "cell_type": "code",
   "execution_count": 17,
   "metadata": {
    "collapsed": false
   },
   "outputs": [],
   "source": [
    "# adjust variables to prepare for the match\n",
    "CPS.wsal_val = np.where(CPS.wsal_val==\"None or not in universe\", 0, CPS.wsal_val)\n",
    "CPS.wsal_val = pd.to_numeric(CPS.wsal_val)\n",
    "\n",
    "# replacing range of certain age with specific number\n",
    "# assigns random number in the range as actual age, not relevant in the match\n",
    "CPS.a_age = np.where(CPS.a_age == \"80-84 years of age\", random.randrange(80, 84), CPS.a_age)\n",
    "CPS.a_age = np.where(CPS.a_age == \"85+ years of age\", random.randrange(85, 95), CPS.a_age)\n",
    "CPS.a_age = pd.to_numeric(CPS.a_age)"
   ]
  },
  {
   "cell_type": "code",
   "execution_count": 19,
   "metadata": {
    "collapsed": false
   },
   "outputs": [],
   "source": [
    "CPS['MEPS_ID'] = np.zeros(len(CPS))"
   ]
  },
  {
   "cell_type": "code",
   "execution_count": 20,
   "metadata": {
    "collapsed": true
   },
   "outputs": [],
   "source": [
    "# keep individuals who claim receiving medicaid\n",
    "CPS = CPS[CPS.mcaid=='Yes']"
   ]
  },
  {
   "cell_type": "code",
   "execution_count": 21,
   "metadata": {
    "collapsed": false
   },
   "outputs": [
    {
     "data": {
      "text/plain": [
       "26117"
      ]
     },
     "execution_count": 21,
     "metadata": {},
     "output_type": "execute_result"
    }
   ],
   "source": [
    "len(CPS)"
   ]
  },
  {
   "cell_type": "code",
   "execution_count": 22,
   "metadata": {
    "collapsed": true
   },
   "outputs": [],
   "source": [
    "Region = ['Northeast', 'South', 'Midwest', 'West']\n",
    "Gender = ['Male', 'Female']"
   ]
  },
  {
   "cell_type": "code",
   "execution_count": 23,
   "metadata": {
    "collapsed": true
   },
   "outputs": [],
   "source": [
    "random.seed(1)"
   ]
  },
  {
   "cell_type": "code",
   "execution_count": 24,
   "metadata": {
    "collapsed": false,
    "scrolled": false
   },
   "outputs": [
    {
     "name": "stderr",
     "output_type": "stream",
     "text": [
      "/Users/Amy/anaconda/lib/python2.7/site-packages/pandas/computation/expressions.py:190: UserWarning: evaluating in Python space because the '*' operator is not supported by numexpr for the bool dtype, use '&' instead\n",
      "  unsupported[op_str]))\n",
      "/Users/Amy/anaconda/lib/python2.7/site-packages/ipykernel/__main__.py:36: SettingWithCopyWarning: \n",
      "A value is trying to be set on a copy of a slice from a DataFrame\n",
      "\n",
      "See the caveats in the documentation: http://pandas.pydata.org/pandas-docs/stable/indexing.html#indexing-view-versus-copy\n",
      "/Users/Amy/anaconda/lib/python2.7/site-packages/ipykernel/__main__.py:31: SettingWithCopyWarning: \n",
      "A value is trying to be set on a copy of a slice from a DataFrame\n",
      "\n",
      "See the caveats in the documentation: http://pandas.pydata.org/pandas-docs/stable/indexing.html#indexing-view-versus-copy\n"
     ]
    }
   ],
   "source": [
    "for this_area in Region:\n",
    "    for this_gender in Gender:\n",
    "        subset_CPS = CPS[(CPS.gereg==this_area)*(CPS.a_sex==this_gender)]\n",
    "        MEPS_donor = MEPS_medicaid[(MEPS_medicaid.REGION14==this_area)*(MEPS_medicaid.SEX==this_gender)]\n",
    "        \n",
    "        for i, record in subset_CPS.iterrows():\n",
    "            age_range = [record.a_age - 2, record.a_age + 2]\n",
    "            income_range = [record.wsal_val - 100, record.wsal_val + 100]\n",
    "            \n",
    "            f1 = (MEPS_donor.AGE14X >= age_range[0])\n",
    "            f2 = (MEPS_donor.AGE14X <= age_range[1])\n",
    "            f3 = (MEPS_donor.WAGEP14X >= income_range[0])\n",
    "            f4 = (MEPS_donor.WAGEP14X <= income_range[1])\n",
    "            pool = MEPS_donor[f1 * f2 * f3 * f4]\n",
    "            \n",
    "            number_donors = len(pool)\n",
    "            if number_donors < 1:\n",
    "                # release income constraints and find the person w/ closest income\n",
    "                pool = MEPS_donor[f1 * f2]\n",
    "                number_donors = len(pool)\n",
    "                \n",
    "                if number_donors < 1:\n",
    "                    if record.a_age < 85:\n",
    "                        print 'dont have anyone in this age range'\n",
    "                        print age_range\n",
    "                        continue\n",
    "                    else:\n",
    "                        pool = MEPS_donor[MEPS_donor.AGE14X==85]\n",
    "\n",
    "                closest_wage = min(pool.WAGEP14X, key=lambda x:abs(x-record.wsal_val))\n",
    "                CPS.MEPS_ID[CPS.peridnum==record.peridnum] = pool.DUPERSID[pool.WAGEP14X==closest_wage].values[0]    \n",
    "\n",
    "            else:\n",
    "                row_number = random.randint(1, number_donors) - 1\n",
    "                index = pool.DUPERSID.index[row_number]\n",
    "                CPS.MEPS_ID[CPS.peridnum==record.peridnum] = pool.DUPERSID.loc[index] "
   ]
  },
  {
   "cell_type": "code",
   "execution_count": 25,
   "metadata": {
    "collapsed": false
   },
   "outputs": [
    {
     "data": {
      "text/plain": [
       "54080496.60000048"
      ]
     },
     "execution_count": 25,
     "metadata": {},
     "output_type": "execute_result"
    }
   ],
   "source": [
    "CPS.marsupwt[CPS.MEPS_ID!=0].sum()"
   ]
  },
  {
   "cell_type": "code",
   "execution_count": 26,
   "metadata": {
    "collapsed": false
   },
   "outputs": [],
   "source": [
    "CPS['DUPERSID'] = CPS.MEPS_ID\n",
    "CPS = pd.merge(CPS, MEPS_medicaid, on='DUPERSID', how='left')"
   ]
  },
  {
   "cell_type": "code",
   "execution_count": 30,
   "metadata": {
    "collapsed": false
   },
   "outputs": [],
   "source": [
    "Matched_total = (CPS.marsupwt*CPS.TOTMCD14)[CPS.MEPS_ID!=0].sum()/1000000000"
   ]
  },
  {
   "cell_type": "code",
   "execution_count": 31,
   "metadata": {
    "collapsed": true
   },
   "outputs": [],
   "source": [
    "Medicaid_total_noninstitutional = 468.00 - 18.10 - 116.20 * 45 / 77\n",
    "ratio = Medicaid_total_noninstitutional/Matched_total"
   ]
  },
  {
   "cell_type": "code",
   "execution_count": 33,
   "metadata": {
    "collapsed": false
   },
   "outputs": [],
   "source": [
    "CPS[\"MedicaidX\"] = np.zeros(len(CPS))\n",
    "CPS.MedicaidX = CPS.TOTMCD14 * ratio"
   ]
  },
  {
   "cell_type": "code",
   "execution_count": 34,
   "metadata": {
    "collapsed": true
   },
   "outputs": [],
   "source": [
    "CPS[['peridnum', 'DUPERSID', 'MedicaidX']].to_csv('medicaid14.csv', index=False)"
   ]
  }
 ],
 "metadata": {
  "kernelspec": {
   "display_name": "Python 2",
   "language": "python",
   "name": "python2"
  },
  "language_info": {
   "codemirror_mode": {
    "name": "ipython",
    "version": 2
   },
   "file_extension": ".py",
   "mimetype": "text/x-python",
   "name": "python",
   "nbconvert_exporter": "python",
   "pygments_lexer": "ipython2",
   "version": "2.7.11"
  }
 },
 "nbformat": 4,
 "nbformat_minor": 0
}
