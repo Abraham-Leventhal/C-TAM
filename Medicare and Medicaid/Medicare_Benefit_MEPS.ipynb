{
 "cells": [
  {
   "cell_type": "markdown",
   "metadata": {},
   "source": [
    "This script matched MEPS medicare benefit amount in 2014 to CPS individual records marked as beneficiaries by age, gender, income and census region. Please refer to the description in current directory for more details on methodology. The input donor micro dataset is from Medical Expenditure Panel Survey (MEPS), 2014 full year consolidated file, which contains individual level Medicare benefits. The output is a CPS-based file, with personal level ID from both CPS and MEPS, and match benefit amount."
   ]
  },
  {
   "cell_type": "code",
   "execution_count": 61,
   "metadata": {
    "collapsed": true
   },
   "outputs": [],
   "source": [
    "import pandas as pd\n",
    "import numpy as np\n",
    "import random"
   ]
  },
  {
   "cell_type": "code",
   "execution_count": 62,
   "metadata": {
    "collapsed": true
   },
   "outputs": [],
   "source": [
    "PATH = 'WORKING DIRECTORY PATH'"
   ]
  },
  {
   "cell_type": "code",
   "execution_count": 63,
   "metadata": {
    "collapsed": false
   },
   "outputs": [],
   "source": [
    "# h171.csv is the MEPS 2014 full year consolidated file\n",
    "# available from MEPS website\n",
    "raw_MEPS = pd.read_csv(str(PATH + 'h171.csv'))\n",
    "\n",
    "id_for_analysis = ['DUPERSID','PANEL', 'WAGEP14X', 'REGION14', 'PERWT14F', 'SEX','AGE14X', 'TOTMCR14']\n",
    "MEPS_medicare = raw_MEPS[id_for_analysis]"
   ]
  },
  {
   "cell_type": "code",
   "execution_count": 64,
   "metadata": {
    "collapsed": false
   },
   "outputs": [
    {
     "name": "stderr",
     "output_type": "stream",
     "text": [
      "/Users/andersonfrailey/anaconda/lib/python2.7/site-packages/ipykernel/__main__.py:2: SettingWithCopyWarning: \n",
      "A value is trying to be set on a copy of a slice from a DataFrame.\n",
      "Try using .loc[row_indexer,col_indexer] = value instead\n",
      "\n",
      "See the caveats in the documentation: http://pandas.pydata.org/pandas-docs/stable/indexing.html#indexing-view-versus-copy\n",
      "  from ipykernel import kernelapp as app\n"
     ]
    }
   ],
   "source": [
    "# Keep records with positive medicare expenses\n",
    "MEPS_medicare['yes_to_mc'] = np.where(MEPS_medicare.TOTMCR14!=0, 1, 0)\n",
    "MEPS_medicare = MEPS_medicare[MEPS_medicare.yes_to_mc==1]"
   ]
  },
  {
   "cell_type": "code",
   "execution_count": 65,
   "metadata": {
    "collapsed": false
   },
   "outputs": [],
   "source": [
    "# Adjust MEPS variable to prepare for the match\n",
    "MEPS_medicare.SEX = np.where(MEPS_medicare.SEX=='2 FEMALE', 'Female', 'Male')\n",
    "\n",
    "MEPS_medicare.REGION14 = MEPS_medicare.REGION14.str.split(' ', expand=True, n = 1).get(1).values\n",
    "MEPS_medicare.REGION14 = MEPS_medicare.REGION14.str.capitalize()"
   ]
  },
  {
   "cell_type": "code",
   "execution_count": 66,
   "metadata": {
    "collapsed": false
   },
   "outputs": [],
   "source": [
    "# Import CPS\n",
    "CPS = pd.read_csv('../../Dropbox/asec2014_pubuse.csv')\n",
    "medicare_columns = ['mcare','peridnum','marsupwt', 'wsal_val', 'a_age', 'a_sex', 'gereg']\n",
    "CPS = CPS[medicare_columns]"
   ]
  },
  {
   "cell_type": "code",
   "execution_count": 67,
   "metadata": {
    "collapsed": false
   },
   "outputs": [],
   "source": [
    "# prepare variables for the match\n",
    "CPS.wsal_val = np.where(CPS.wsal_val==\"None or not in universe\", 0, CPS.wsal_val)\n",
    "CPS.wsal_val = pd.to_numeric(CPS.wsal_val)\n",
    "\n",
    "CPS.a_age = np.where(CPS.a_age == \"80-84 years of age\", random.randrange(80, 84), CPS.a_age)\n",
    "CPS.a_age = np.where(CPS.a_age == \"85+ years of age\", random.randrange(85, 95), CPS.a_age)\n",
    "CPS.a_age = pd.to_numeric(CPS.a_age)"
   ]
  },
  {
   "cell_type": "code",
   "execution_count": 68,
   "metadata": {
    "collapsed": false
   },
   "outputs": [],
   "source": [
    "CPS['MEPS_ID'] = np.zeros(len(CPS))"
   ]
  },
  {
   "cell_type": "code",
   "execution_count": 69,
   "metadata": {
    "collapsed": true
   },
   "outputs": [],
   "source": [
    "# Keep medicare recipients only\n",
    "CPS = CPS[CPS.mcare=='Yes']"
   ]
  },
  {
   "cell_type": "code",
   "execution_count": 70,
   "metadata": {
    "collapsed": false
   },
   "outputs": [
    {
     "data": {
      "text/plain": [
       "18216"
      ]
     },
     "execution_count": 70,
     "metadata": {},
     "output_type": "execute_result"
    }
   ],
   "source": [
    "len(CPS)"
   ]
  },
  {
   "cell_type": "code",
   "execution_count": 71,
   "metadata": {
    "collapsed": true
   },
   "outputs": [],
   "source": [
    "Region = ['Northeast', 'South', 'Midwest', 'West']\n",
    "Gender = ['Male', 'Female']"
   ]
  },
  {
   "cell_type": "code",
   "execution_count": 72,
   "metadata": {
    "collapsed": true
   },
   "outputs": [],
   "source": [
    "random.seed(1)"
   ]
  },
  {
   "cell_type": "code",
   "execution_count": 73,
   "metadata": {
    "collapsed": false,
    "scrolled": false
   },
   "outputs": [
    {
     "name": "stderr",
     "output_type": "stream",
     "text": [
      "/Users/andersonfrailey/anaconda/lib/python2.7/site-packages/ipykernel/__main__.py:36: SettingWithCopyWarning: \n",
      "A value is trying to be set on a copy of a slice from a DataFrame\n",
      "\n",
      "See the caveats in the documentation: http://pandas.pydata.org/pandas-docs/stable/indexing.html#indexing-view-versus-copy\n",
      "/Users/andersonfrailey/anaconda/lib/python2.7/site-packages/ipykernel/__main__.py:31: SettingWithCopyWarning: \n",
      "A value is trying to be set on a copy of a slice from a DataFrame\n",
      "\n",
      "See the caveats in the documentation: http://pandas.pydata.org/pandas-docs/stable/indexing.html#indexing-view-versus-copy\n"
     ]
    },
    {
     "name": "stdout",
     "output_type": "stream",
     "text": [
      "dont have anyone in this age range\n",
      "[-2, 2]\n",
      "dont have anyone in this age range\n",
      "[-1, 3]\n",
      "dont have anyone in this age range\n",
      "[9, 13]\n",
      "dont have anyone in this age range\n",
      "[10, 14]\n",
      "dont have anyone in this age range\n",
      "[24, 28]\n",
      "dont have anyone in this age range\n",
      "[24, 28]\n",
      "dont have anyone in this age range\n",
      "[24, 28]\n",
      "dont have anyone in this age range\n",
      "[24, 28]\n",
      "dont have anyone in this age range\n",
      "[24, 28]\n",
      "dont have anyone in this age range\n",
      "[24, 28]\n",
      "dont have anyone in this age range\n",
      "[10, 14]\n",
      "dont have anyone in this age range\n",
      "[10, 14]\n"
     ]
    }
   ],
   "source": [
    "for this_area in Region:\n",
    "    for this_gender in Gender:\n",
    "        subset_CPS = CPS[(CPS.gereg==this_area)*(CPS.a_sex==this_gender)]\n",
    "        MEPS_donor = MEPS_medicare[(MEPS_medicare.REGION14==this_area)*(MEPS_medicare.SEX==this_gender)]\n",
    "        \n",
    "        for i, record in subset_CPS.iterrows():\n",
    "            age_range = [record.a_age - 2, record.a_age + 2]\n",
    "            income_range = [record.wsal_val - 100, record.wsal_val + 100]\n",
    "            \n",
    "            f1 = (MEPS_donor.AGE14X >= age_range[0])\n",
    "            f2 = (MEPS_donor.AGE14X <= age_range[1])\n",
    "            f3 = (MEPS_donor.WAGEP14X >= income_range[0])\n",
    "            f4 = (MEPS_donor.WAGEP14X <= income_range[1])\n",
    "            pool = MEPS_donor[f1 * f2 * f3 * f4]\n",
    "            \n",
    "            number_donors = len(pool)\n",
    "            if number_donors < 1:\n",
    "                # release income constraints and find the person w/ closest income\n",
    "                pool = MEPS_donor[f1 * f2]\n",
    "                number_donors = len(pool)\n",
    "                \n",
    "                if number_donors < 1:\n",
    "                    if record.a_age < 85:\n",
    "                        print 'dont have anyone in this age range'\n",
    "                        print age_range\n",
    "                        continue\n",
    "                    else:\n",
    "                        pool = MEPS_donor[MEPS_donor.AGE14X==85]\n",
    "\n",
    "                closest_wage = min(pool.WAGEP14X, key=lambda x:abs(x-record.wsal_val))\n",
    "                CPS.MEPS_ID[CPS.peridnum==record.peridnum] = pool.DUPERSID[pool.WAGEP14X==closest_wage].values[0]    \n",
    "\n",
    "            else:\n",
    "                row_number = random.randint(1, number_donors) - 1\n",
    "                index = pool.DUPERSID.index[row_number]\n",
    "                CPS.MEPS_ID[CPS.peridnum==record.peridnum] = pool.DUPERSID.loc[index] "
   ]
  },
  {
   "cell_type": "code",
   "execution_count": 74,
   "metadata": {
    "collapsed": false
   },
   "outputs": [
    {
     "data": {
      "text/plain": [
       "48956575.720000215"
      ]
     },
     "execution_count": 74,
     "metadata": {},
     "output_type": "execute_result"
    }
   ],
   "source": [
    "CPS.marsupwt[CPS.MEPS_ID!=0].sum()"
   ]
  },
  {
   "cell_type": "code",
   "execution_count": 75,
   "metadata": {
    "collapsed": false
   },
   "outputs": [],
   "source": [
    "CPS['DUPERSID'] = CPS.MEPS_ID\n",
    "CPS = pd.merge(CPS, MEPS_medicare, on='DUPERSID', how='left')"
   ]
  },
  {
   "cell_type": "code",
   "execution_count": 76,
   "metadata": {
    "collapsed": false
   },
   "outputs": [
    {
     "data": {
      "text/plain": [
       "414.00183597926963"
      ]
     },
     "execution_count": 76,
     "metadata": {},
     "output_type": "execute_result"
    }
   ],
   "source": [
    "(CPS.marsupwt*CPS.TOTMCR14)[CPS.MEPS_ID!=0].sum()/1000000000"
   ]
  },
  {
   "cell_type": "code",
   "execution_count": 77,
   "metadata": {
    "collapsed": true
   },
   "outputs": [],
   "source": [
    "# scaler  576/417\n",
    "ratio = 516.0000/417.0000"
   ]
  },
  {
   "cell_type": "code",
   "execution_count": 78,
   "metadata": {
    "collapsed": false
   },
   "outputs": [],
   "source": [
    "CPS[\"MedicareX\"] = np.zeros(len(CPS))\n",
    "CPS.MedicareX = CPS.TOTMCR14 * ratio"
   ]
  },
  {
   "cell_type": "code",
   "execution_count": 79,
   "metadata": {
    "collapsed": true
   },
   "outputs": [],
   "source": [
    "CPS[['peridnum', 'DUPERSID', 'MedicareX']].to_csv('medicare14.csv', index=False)"
   ]
  }
 ],
 "metadata": {
  "kernelspec": {
   "display_name": "Python [default]",
   "language": "python",
   "name": "python2"
  },
  "language_info": {
   "codemirror_mode": {
    "name": "ipython",
    "version": 2
   },
   "file_extension": ".py",
   "mimetype": "text/x-python",
   "name": "python",
   "nbconvert_exporter": "python",
   "pygments_lexer": "ipython2",
   "version": "2.7.13"
  }
 },
 "nbformat": 4,
 "nbformat_minor": 0
}
