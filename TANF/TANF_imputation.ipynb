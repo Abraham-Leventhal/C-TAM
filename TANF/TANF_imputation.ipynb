{
 "cells": [
  {
   "cell_type": "markdown",
   "metadata": {},
   "source": [
    "This script imputes Temporary Assistance for Needy Families (TANF) recipients dollar benefit amount to match the aggregates with United States Department of Health & Human Services (HHS) statistics for TANF. In this current version, we used 2015 March CPS data and HHS FY2014 caseload and expenditures data on TANF. Please refer to the documentation in the same folder for more details on methodology and assumptions. The output this script is an individual level dataset that contains CPS personal level ID (PERIDNUM), individual participation indicator (tanf_participation, 0 - not a recipient, 1 - current recipient on file, 2 - imputed recipient), and benefit amount.\n",
    "\n",
    "Input: 2015 CPS (asec2015_pubuse.csv), number of recipients and their benefits amount by state in 2014 (TANF_administrative.csv)\n",
    "\n",
    "Output: TANF_Imputation.csv\n",
    "\n",
    "Additional Source links: https://www.acf.hhs.gov/ofa/programs/tanf/data-reports "
   ]
  },
  {
   "cell_type": "code",
   "execution_count": 1,
   "metadata": {
    "collapsed": true
   },
   "outputs": [],
   "source": [
    "import pandas as pd\n",
    "from pandas import DataFrame\n",
    "import numpy as np\n",
    "import random\n",
    "import statsmodels.formula.api as sm\n",
    "import matplotlib.pyplot as plt"
   ]
  },
  {
   "cell_type": "markdown",
   "metadata": {},
   "source": [
    "## Variables used in TANF"
   ]
  },
  {
   "cell_type": "code",
   "execution_count": 2,
   "metadata": {},
   "outputs": [
    {
     "name": "stderr",
     "output_type": "stream",
     "text": [
      "/Users/intern/anaconda/lib/python2.7/site-packages/IPython/core/interactiveshell.py:2717: DtypeWarning: Columns (5,22,23,28,80,187,273) have mixed types. Specify dtype option on import or set low_memory=False.\n",
      "  interactivity=interactivity, compiler=compiler, result=result)\n"
     ]
    }
   ],
   "source": [
    "CPS_dataset = pd.read_csv('asec2015_pubuse.csv')\n",
    "columns_to_keep = ['paw_val','paw_typ','paw_mon','fpawval','marsupwt','a_age','a_sex','wsal_val','semp_val','frse_val',\n",
    "                  'ss_val','rtm_val','oi_val','oi_off','int_yn','uc_yn', 'uc_val','int_val','ssi_yn','ssikidyn',\n",
    "                  'hfoodsp','a_famnum','a_maritl','fownu6','fownu18','gestfips','peridnum']\n",
    "CPS_dataset = CPS_dataset[columns_to_keep]\n",
    "CPS_dataset.to_csv('TANF.csv', columns=columns_to_keep, index=False)"
   ]
  },
  {
   "cell_type": "code",
   "execution_count": 3,
   "metadata": {
    "collapsed": true
   },
   "outputs": [],
   "source": [
    "CPS_dataset = pd.read_csv('TANF.csv')"
   ]
  },
  {
   "cell_type": "code",
   "execution_count": 4,
   "metadata": {
    "collapsed": true
   },
   "outputs": [],
   "source": [
    "# TANF value\n",
    "tanfvalue = pd.to_numeric(np.where(CPS_dataset.paw_typ== 'TANF/AFDC', CPS_dataset.paw_val, 0))\n",
    "# Also include small part of other Public Assistance\n",
    "tanfvalue = pd.to_numeric(np.where(CPS_dataset.paw_typ== 'Both', CPS_dataset.paw_val, tanfvalue))\n",
    "# TANF indicator\n",
    "indicator = pd.to_numeric(np.where(CPS_dataset.paw_typ== 'TANF/AFDC', 1, 0))\n",
    "indicator = pd.to_numeric(np.where(CPS_dataset.paw_typ== 'Both', 1, indicator))"
   ]
  },
  {
   "cell_type": "code",
   "execution_count": 5,
   "metadata": {
    "collapsed": true
   },
   "outputs": [],
   "source": [
    "TANF = DataFrame(tanfvalue.transpose())\n",
    "TANF.columns = ['tanfvalue']"
   ]
  },
  {
   "cell_type": "code",
   "execution_count": 6,
   "metadata": {
    "collapsed": true
   },
   "outputs": [],
   "source": [
    "TANF['indicator'] = indicator\n",
    "TANF['marsupwt'] = CPS_dataset.marsupwt\n",
    "TANF['tanfvalue'] = tanfvalue\n",
    "TANF['gestfips'] = CPS_dataset.gestfips\n",
    "TANF['peridnum'] = CPS_dataset.peridnum"
   ]
  },
  {
   "cell_type": "code",
   "execution_count": 7,
   "metadata": {
    "collapsed": true
   },
   "outputs": [],
   "source": [
    "# Number of month receiving TANF\n",
    "month = np.where(CPS_dataset.paw_mon == 'Not in universe', 0, CPS_dataset.paw_mon)\n",
    "month = np.where(CPS_dataset.paw_mon == 'Twelve', 12, month)\n",
    "month = np.where(CPS_dataset.paw_mon == 'One', 1, month)\n",
    "month = pd.to_numeric(month)\n",
    "TANF['month'] = month"
   ]
  },
  {
   "cell_type": "code",
   "execution_count": 8,
   "metadata": {
    "collapsed": true
   },
   "outputs": [],
   "source": [
    "# Earned income\n",
    "wage = pd.to_numeric(np.where(CPS_dataset.wsal_val!= 'None or not in universe', CPS_dataset.wsal_val, 0))\n",
    "self_employed1 = pd.to_numeric(np.where(CPS_dataset.semp_val!= 'None or not in universe', CPS_dataset.semp_val, 0))\n",
    "self_employed2 = pd.to_numeric(np.where(CPS_dataset.frse_val!= 'None or not in universe', CPS_dataset.frse_val, 0))\n",
    "earned = wage + self_employed1 + self_employed2 #individual earned income\n",
    "TANF['earned'] = earned"
   ]
  },
  {
   "cell_type": "code",
   "execution_count": 9,
   "metadata": {
    "collapsed": true
   },
   "outputs": [],
   "source": [
    "# Unearned income\n",
    "ss = pd.to_numeric(np.where(CPS_dataset.ss_val!='None or not in universe', CPS_dataset.ss_val, 0))\n",
    "pension = pd.to_numeric(np.where(CPS_dataset.rtm_val!='None or not in universe', CPS_dataset.rtm_val, 0))\n",
    "disability = pd.to_numeric(np.where(CPS_dataset.oi_off=='State disability payments', CPS_dataset.oi_val, 0))\n",
    "unemploy = pd.to_numeric(np.where(CPS_dataset.uc_yn=='Yes', CPS_dataset.uc_val, 0))\n",
    "interest = pd.to_numeric(np.where(CPS_dataset.int_yn=='Yes', CPS_dataset.int_val, 0))\n",
    "unearned = ss + pension + disability + unemploy + interest #individual unearned income\n",
    "TANF['unearned'] = unearned"
   ]
  },
  {
   "cell_type": "code",
   "execution_count": 10,
   "metadata": {
    "collapsed": true
   },
   "outputs": [],
   "source": [
    "# Net Income\n",
    "TANF['net_income'] = earned + unearned"
   ]
  },
  {
   "cell_type": "code",
   "execution_count": 11,
   "metadata": {
    "collapsed": true
   },
   "outputs": [],
   "source": [
    "# Family TANF value\n",
    "familyvalue = np.where(CPS_dataset.fpawval != 'None', CPS_dataset.fpawval,0)\n",
    "TANF['familyvalue'] = familyvalue\n",
    "familyindicator = np.where(TANF['familyvalue'] != 0, 1,0)\n",
    "familyotherTANFindicator = familyindicator - indicator\n",
    "TANF['indicatorOther'] = familyotherTANFindicator                               "
   ]
  },
  {
   "cell_type": "code",
   "execution_count": 12,
   "metadata": {
    "collapsed": true
   },
   "outputs": [],
   "source": [
    "# Prepare age information\n",
    "age = np.where(CPS_dataset.a_age == \"80-84 years of age\",\n",
    "                             random.randrange(80, 84),\n",
    "                             CPS_dataset.a_age)\n",
    "age = np.where(CPS_dataset.a_age == \"85+ years of age\",\n",
    "                             random.randrange(85, 95),\n",
    "                             age)\n",
    "TANF['a_age'] = pd.to_numeric(age)"
   ]
  },
  {
   "cell_type": "code",
   "execution_count": 13,
   "metadata": {
    "collapsed": true
   },
   "outputs": [],
   "source": [
    "# Prepare gender inforamtion, 0 for male, 1 for female\n",
    "TANF['sex'] = pd.to_numeric(np.where(CPS_dataset.a_sex == 'Male', 0, 1))"
   ]
  },
  {
   "cell_type": "code",
   "execution_count": 14,
   "metadata": {
    "collapsed": true
   },
   "outputs": [],
   "source": [
    "# Number of children\n",
    "childunder6 = np.where(CPS_dataset.fownu6 == 'None, not in universe', 0, CPS_dataset.fownu6)\n",
    "TANF['childunder6'] = pd.to_numeric(childunder6)\n",
    "childunder18 = np.where(CPS_dataset.fownu18 == 'None, not in universe', 0, CPS_dataset.fownu18)\n",
    "childunder18 = np.where(CPS_dataset.fownu18 == '9 or more', 9, childunder18)\n",
    "TANF['childunder18'] = pd.to_numeric(childunder18)\n",
    "TANF['child6to18'] = TANF['childunder18'] - TANF['childunder6']"
   ]
  },
  {
   "cell_type": "code",
   "execution_count": 15,
   "metadata": {
    "collapsed": true
   },
   "outputs": [],
   "source": [
    "# Status of Marriage\n",
    "marriage = np.where(CPS_dataset.a_maritl == 'Married - civilian spouse', 1, 0)\n",
    "marriage = np.where(CPS_dataset.a_maritl == 'Married - AF spouse present', 1, marriage)\n",
    "marriage = np.where(CPS_dataset.a_maritl == 'Married - spouse absent (exc.', 1, marriage)\n",
    "marriage = np.where(CPS_dataset.a_maritl == 'Separated', 1, marriage)\n",
    "TANF['marriage'] = pd.to_numeric(marriage)"
   ]
  },
  {
   "cell_type": "code",
   "execution_count": 16,
   "metadata": {
    "collapsed": true
   },
   "outputs": [],
   "source": [
    "TANF['unemploy_indicator'] = np.where(CPS_dataset.uc_yn=='Yes', 1, 0)\n",
    "TANF['ssi_indicator'] = np.where((CPS_dataset.ssi_yn=='Yes')|(CPS_dataset.ssikidyn=='Received SSI'), 1, 0)\n",
    "TANF['snap_indicator'] = np.where(CPS_dataset.hfoodsp == \"Yes\",1,0)"
   ]
  },
  {
   "cell_type": "markdown",
   "metadata": {},
   "source": [
    "## Regression Model"
   ]
  },
  {
   "cell_type": "code",
   "execution_count": 17,
   "metadata": {},
   "outputs": [
    {
     "name": "stdout",
     "output_type": "stream",
     "text": [
      "Warning: Maximum number of iterations has been exceeded.\n",
      "         Current function value: 0.019560\n",
      "         Iterations: 35\n"
     ]
    },
    {
     "name": "stderr",
     "output_type": "stream",
     "text": [
      "/Users/intern/anaconda/lib/python2.7/site-packages/statsmodels/base/model.py:496: ConvergenceWarning: Maximum Likelihood optimization failed to converge. Check mle_retvals\n",
      "  \"Check mle_retvals\", ConvergenceWarning)\n"
     ]
    },
    {
     "name": "stdout",
     "output_type": "stream",
     "text": [
      "                           Logit Regression Results                           \n",
      "==============================================================================\n",
      "Dep. Variable:              indicator   No. Observations:               199024\n",
      "Model:                          Logit   Df Residuals:                   199012\n",
      "Method:                           MLE   Df Model:                           11\n",
      "Date:                Fri, 04 Aug 2017   Pseudo R-squ.:                  0.2662\n",
      "Time:                        16:08:35   Log-Likelihood:                -3892.8\n",
      "converged:                      False   LL-Null:                       -5305.2\n",
      "                                        LLR p-value:                     0.000\n",
      "======================================================================================\n",
      "                         coef    std err          z      P>|z|      [0.025      0.975]\n",
      "--------------------------------------------------------------------------------------\n",
      "intercept             -8.6636      0.158    -54.864      0.000      -8.973      -8.354\n",
      "a_age                  0.0231      0.002     10.547      0.000       0.019       0.027\n",
      "sex                    1.4234      0.101     14.072      0.000       1.225       1.622\n",
      "childunder6            0.2783      0.047      5.928      0.000       0.186       0.370\n",
      "child6to18            -0.0007      0.033     -0.022      0.983      -0.065       0.063\n",
      "earned              -2.59e-05   3.65e-06     -7.091      0.000   -3.31e-05   -1.87e-05\n",
      "unearned            -8.42e-05    1.1e-05     -7.663      0.000      -0.000   -6.27e-05\n",
      "indicatorOther       -29.8815    4.2e+05  -7.12e-05      1.000   -8.22e+05    8.22e+05\n",
      "unemploy_indicator     1.3689      0.170      8.050      0.000       1.036       1.702\n",
      "ssi_indicator         -0.1037      0.127     -0.814      0.416      -0.353       0.146\n",
      "snap_indicator         3.2943      0.102     32.180      0.000       3.094       3.495\n",
      "marriage               0.8828      0.132      6.689      0.000       0.624       1.142\n",
      "======================================================================================\n",
      "\n",
      "Possibly complete quasi-separation: A fraction 0.14 of observations can be\n",
      "perfectly predicted. This might indicate that there is complete\n",
      "quasi-separation. In this case some parameters will not be identified.\n"
     ]
    }
   ],
   "source": [
    "TANF['intercept'] = np.ones(len(TANF))\n",
    "model = sm.Logit(endog=TANF.indicator, exog=TANF[['intercept','a_age', 'sex', \n",
    "                                                  'childunder6','child6to18', 'earned', 'unearned','indicatorOther', \n",
    "                                                  'unemploy_indicator','ssi_indicator','snap_indicator',\n",
    "                                                  'marriage']]).fit()\n",
    "print model.summary()"
   ]
  },
  {
   "cell_type": "code",
   "execution_count": 18,
   "metadata": {
    "collapsed": true
   },
   "outputs": [],
   "source": [
    "probs = model.fittedvalues\n",
    "TANF['probs'] = probs"
   ]
  },
  {
   "cell_type": "markdown",
   "metadata": {},
   "source": [
    "## Import administrative data"
   ]
  },
  {
   "cell_type": "code",
   "execution_count": 19,
   "metadata": {
    "collapsed": true
   },
   "outputs": [],
   "source": [
    "admin = pd.read_csv('TANF_Administrative.csv',\n",
    "                    dtype = {'Total Annual Benefits': np.float, 'Total Annual Recipient': np.float, 'Average Annual Benefits' : np.float})\n",
    "admin.index = admin.Fips"
   ]
  },
  {
   "cell_type": "code",
   "execution_count": 20,
   "metadata": {
    "collapsed": true
   },
   "outputs": [],
   "source": [
    "# CPS total benefits and Administrative total benefits, annual basis\n",
    "state_benefit = {}\n",
    "state_recipients = {}\n",
    "for state in admin.Fips:\n",
    "    this_state = (TANF.gestfips==state)\n",
    "    CPS_totalb = (TANF.tanfvalue * TANF.marsupwt)[this_state].sum()\n",
    "    admin_totalb =  admin['Total Annual Benefits'][state] \n",
    "    CPS_totaln = (TANF.marsupwt[this_state & TANF.indicator==1] * TANF.month / 12).sum()\n",
    "    admin_totaln =  admin['Total Annual Recipient'][state]\n",
    "\n",
    "    temp = [admin.State[state], CPS_totalb, admin_totalb, CPS_totaln, admin_totaln]\n",
    "    state_benefit[state] = temp\n",
    "    \n",
    "pre_augment_benefit = DataFrame(state_benefit).transpose()\n",
    "pre_augment_benefit.columns = ['State', 'CPS total benefits','Admin total benefits',\n",
    "                               'CPS total recipients','Admin total recipients']"
   ]
  },
  {
   "cell_type": "code",
   "execution_count": 21,
   "metadata": {
    "collapsed": true
   },
   "outputs": [],
   "source": [
    "pre_augment_benefit.to_csv('pre-blow-up.csv')"
   ]
  },
  {
   "cell_type": "markdown",
   "metadata": {},
   "source": [
    "## Imputation"
   ]
  },
  {
   "cell_type": "code",
   "execution_count": 22,
   "metadata": {
    "collapsed": true
   },
   "outputs": [],
   "source": [
    "# caculate difference of SNAP stats and CPS aggregates on recipients number\n",
    "# by state\n",
    "diff = {'Fips':[],'Difference in Population':[],'Mean Benefit':[],'CPS Population':[],'TANF Population':[]}\n",
    "diff['Fips'] = admin.Fips\n",
    "current = (TANF.indicator==1)\n",
    "for FIPS in admin.Fips:\n",
    "        this_state = (TANF.gestfips==FIPS)\n",
    "        current_tots = (TANF.marsupwt[current&this_state]*TANF.month).sum()/12\n",
    "        valid_num = (TANF.marsupwt[current&this_state]*TANF.month).sum()/12 + 0.0000001\n",
    "        current_mean = ((TANF.tanfvalue * TANF.marsupwt)[current&this_state].sum())/valid_num\n",
    "        diff['CPS Population'].append(current_tots)\n",
    "        diff['TANF Population'].append(float(admin['Total Annual Recipient'][admin.Fips == FIPS]))\n",
    "        diff['Difference in Population'].append(float(admin['Total Annual Recipient'][admin.Fips == FIPS])- current_tots)\n",
    "        diff['Mean Benefit'].append(current_mean)"
   ]
  },
  {
   "cell_type": "code",
   "execution_count": 23,
   "metadata": {
    "collapsed": true
   },
   "outputs": [],
   "source": [
    "d = DataFrame(diff)\n",
    "d = d[['Fips', 'Mean Benefit', 'Difference in Population', 'CPS Population', 'TANF Population']]\n",
    "d.index = d.Fips\n",
    "d.to_csv('recipients.csv', index=False)"
   ]
  },
  {
   "cell_type": "code",
   "execution_count": 24,
   "metadata": {},
   "outputs": [
    {
     "name": "stdout",
     "output_type": "stream",
     "text": [
      "('we need to impute', 27841.905003333333, 'for state', 1)\n"
     ]
    },
    {
     "name": "stderr",
     "output_type": "stream",
     "text": [
      "/Users/intern/anaconda/lib/python2.7/site-packages/ipykernel_launcher.py:26: SettingWithCopyWarning: \n",
      "A value is trying to be set on a copy of a slice from a DataFrame\n",
      "\n",
      "See the caveats in the documentation: http://pandas.pydata.org/pandas-docs/stable/indexing.html#indexing-view-versus-copy\n",
      "/Users/intern/anaconda/lib/python2.7/site-packages/ipykernel_launcher.py:27: SettingWithCopyWarning: \n",
      "A value is trying to be set on a copy of a slice from a DataFrame\n",
      "\n",
      "See the caveats in the documentation: http://pandas.pydata.org/pandas-docs/stable/indexing.html#indexing-view-versus-copy\n"
     ]
    },
    {
     "name": "stdout",
     "output_type": "stream",
     "text": [
      "('Method1: regression gives', 28420.43)\n",
      "('we need to impute', 6262.1575003333328, 'for state', 2)\n",
      "('Method1: regression gives', 6161.149999999999)\n",
      "('we need to impute', 21909.155003333333, 'for state', 4)\n",
      "('Method1: regression gives', 21613.53)\n",
      "('we need to impute', 9437.1158366666659, 'for state', 5)\n",
      "('Method1: regression gives', 9539.070000000002)\n",
      "('we need to impute', 1039643.1120000002, 'for state', 6)\n",
      "('Method1: regression gives', 1039437.4699999997)\n",
      "('we need to impute', 37973.335830000004, 'for state', 8)\n",
      "('Method1: regression gives', 39559.10000000001)\n",
      "('we need to impute', 16362.730003333332, 'for state', 9)\n",
      "('Method1: regression gives', 16157.160000000002)\n",
      "('we need to impute', 10512.781663333333, 'for state', 10)\n",
      "('Method1: regression gives', 10581.630000000001)\n",
      "('we need to impute', 11508.409169999999, 'for state', 11)\n",
      "('Method1: regression gives', 11402.189999999999)\n",
      "('we need to impute', 51636.105836666669, 'for state', 12)\n",
      "('Method1: regression gives', 51594.63999999999)\n",
      "('we need to impute', 10446.215830000001, 'for state', 13)\n",
      "('Method1: regression gives', 10210.339999999998)\n",
      "('we need to impute', 21771.741669999999, 'for state', 15)\n",
      "('Method1: regression gives', 21661.75)\n",
      "('we need to impute', 1694.5799999999999, 'for state', 16)\n",
      "('Method1: regression gives', 1713.21)\n",
      "('we need to impute', 27285.450003333335, 'for state', 17)\n",
      "('Method1: regression gives', 27035.39)\n",
      "('we need to impute', 5257.0983366666642, 'for state', 18)\n",
      "('Method1: regression gives', 6012.280000000001)\n",
      "('we need to impute', 24009.479996666669, 'for state', 19)\n",
      "('Method1: regression gives', 23954.460000000003)\n",
      "('we need to impute', 12542.001666666667, 'for state', 20)\n",
      "('Method1: regression gives', 11703.51)\n",
      "('we need to impute', 51754.630836666671, 'for state', 21)\n",
      "('Method1: regression gives', 52868.689999999995)\n",
      "('we need to impute', 3919.5250033333323, 'for state', 22)\n",
      "('Method1: regression gives', 4121.67)\n",
      "('we need to impute', 5390.3866666666681, 'for state', 23)\n",
      "('Method1: regression gives', 5275.45)\n",
      "('we need to impute', 30608.14333333333, 'for state', 24)\n",
      "('Method1: regression gives', 30336.280000000002)\n",
      "('we need to impute', 59865.743333333332, 'for state', 25)\n",
      "('Method1: regression gives', 59365.33)\n",
      "('we need to impute', 40994.444166666668, 'for state', 26)\n",
      "('Method1: regression gives', 42637.77)\n",
      "('we need to impute', 20652.659163333334, 'for state', 27)\n",
      "('Method1: regression gives', 21471.36)\n",
      "('we need to impute', 10271.846669999999, 'for state', 28)\n",
      "('Method1: regression gives', 10542.830000000002)\n",
      "('we need to impute', 38923.174996666668, 'for state', 29)\n",
      "('Method1: regression gives', 38940.53999999999)\n",
      "('we need to impute', 5757.7066670000004, 'for state', 30)\n",
      "('Method1: regression gives', 5572.509999999999)\n",
      "('we need to impute', 6552.3366633333326, 'for state', 31)\n",
      "('Method1: regression gives', 6267.58)\n",
      "('we need to impute', 21524.740836666664, 'for state', 32)\n",
      "('Method1: regression gives', 21591.15)\n",
      "('we need to impute', 4067.1100000000001, 'for state', 33)\n",
      "('Method1: regression gives', 4217.55)\n",
      "('we need to impute', 27163.378333333327, 'for state', 34)\n",
      "('Method1: regression gives', 27322.94)\n",
      "('we need to impute', 30337.102503333332, 'for state', 35)\n",
      "('Method1: regression gives', 30395.050000000003)\n",
      "('we need to impute', 187879.32333333333, 'for state', 36)\n",
      "('Method1: regression gives', 188122.77999999994)\n",
      "('we need to impute', 20335.445833333331, 'for state', 37)\n",
      "('Method1: regression gives', 20329.69)\n",
      "('we need to impute', 3008.6183329999999, 'for state', 38)\n",
      "('Method1: regression gives', 2961.34)\n",
      "('we need to impute', 87519.226666666655, 'for state', 39)\n",
      "('Method1: regression gives', 88066.92999999998)\n",
      "('we need to impute', 12785.480003333332, 'for state', 40)\n",
      "('Method1: regression gives', 13255.85)\n",
      "('we need to impute', 43418.334163333326, 'for state', 41)\n",
      "('Method1: regression gives', 43603.7)\n",
      "('we need to impute', 120149.81830000001, 'for state', 42)\n",
      "('Method1: regression gives', 121038.55000000002)\n",
      "('we need to impute', 8298.1975033333329, 'for state', 44)\n",
      "('Method1: regression gives', 8642.86)\n",
      "('we need to impute', 9122.0449966666692, 'for state', 45)\n",
      "('Method1: regression gives', 9597.69)\n",
      "('we need to impute', 3871.1599996666664, 'for state', 46)\n",
      "('Method1: regression gives', 3985.06)\n",
      "('we need to impute', 64026.715833333343, 'for state', 47)\n",
      "('Method1: regression gives', 63281.37000000001)\n",
      "('we need to impute', 33591.426666666666, 'for state', 48)\n",
      "('Method1: regression gives', 33812.92)\n",
      "('we need to impute', 6545.8116669999999, 'for state', 49)\n",
      "('Method1: regression gives', 6900.499999999999)\n",
      "('we need to impute', 3898.347499666666, 'for state', 50)\n",
      "('Method1: regression gives', 3852.76)\n",
      "('we need to impute', 45939.962503333343, 'for state', 51)\n",
      "('Method1: regression gives', 44946.670000000006)\n",
      "('we need to impute', 84152.40916333333, 'for state', 53)\n",
      "('Method1: regression gives', 83784.83)\n",
      "('we need to impute', 13363.235833333332, 'for state', 54)\n",
      "('Method1: regression gives', 11212.769999999997)\n",
      "('we need to impute', 54651.902503333338, 'for state', 55)\n",
      "('Method1: regression gives', 54375.64000000001)\n",
      "('we need to impute', -20.596666700000014, 'for state', 56)\n"
     ]
    }
   ],
   "source": [
    "TANF['impute'] = np.zeros(len(TANF))\n",
    "TANF['tanf_impute'] = np.zeros(len(TANF))\n",
    "\n",
    "non_current = (TANF.indicator==0)\n",
    "current = (TANF.indicator==1)\n",
    "random.seed()\n",
    "\n",
    "for FIPS in admin.Fips:\n",
    "    \n",
    "        print ('we need to impute', d['Difference in Population'][FIPS], 'for state', FIPS)\n",
    "        \n",
    "        if d['Difference in Population'][FIPS] < 0:\n",
    "            continue\n",
    "        else:\n",
    "            this_state = (TANF.gestfips==FIPS)\n",
    "            not_imputed = (TANF.impute==0)\n",
    "            pool_index = TANF[this_state&not_imputed&non_current].index\n",
    "            pool = DataFrame({'weight': TANF.marsupwt[pool_index], 'prob': probs[pool_index]},\n",
    "                            index=pool_index)\n",
    "            pool = pool.sort_values(by='prob', ascending=False)\n",
    "            pool['cumsum_weight'] = pool['weight'].cumsum()\n",
    "            pool['distance'] = abs(pool.cumsum_weight-d['Difference in Population'][FIPS])\n",
    "            min_index = pool.sort_values(by='distance')[:1].index\n",
    "            min_weight = int(pool.loc[min_index].cumsum_weight)\n",
    "            pool['impute'] = np.where(pool.cumsum_weight<=min_weight+10 , 1, 0)\n",
    "            TANF.impute[pool.index[pool['impute']==1]] = 1\n",
    "            TANF.tanf_impute[pool.index[pool['impute']==1]] = admin['Average Annual Benefits'][FIPS]\n",
    "           \n",
    "        print ('Method1: regression gives', \n",
    "                TANF.marsupwt[(TANF.impute==1)&this_state].sum())"
   ]
  },
  {
   "cell_type": "code",
   "execution_count": 25,
   "metadata": {
    "collapsed": true
   },
   "outputs": [],
   "source": [
    "#Adjustment ratio\n",
    "results = {}\n",
    "\n",
    "imputed = (TANF.impute == 1)\n",
    "has_val = (TANF.tanfvalue != 0)\n",
    "no_val = (TANF.tanfvalue == 0)\n",
    "\n",
    "for FIPS in admin.Fips:\n",
    "    this_state = (TANF.gestfips==FIPS)\n",
    "    \n",
    "    current_total = (TANF.tanfvalue * TANF.marsupwt)[this_state].sum() \n",
    "    imputed_total = (TANF.tanf_impute * TANF.marsupwt)[this_state&imputed].sum()\n",
    "    on_file = current_total + imputed_total\n",
    "\n",
    "    admin_total = admin['Total Annual Benefits'][FIPS]\n",
    "    \n",
    "    adjust_ratio = admin_total / on_file\n",
    "    this_state_num = [admin['State'][FIPS], on_file, admin_total, adjust_ratio]\n",
    "    results[FIPS] = this_state_num\n",
    "    \n",
    "\n",
    "    TANF.tanf_impute = np.where(has_val&this_state, TANF.tanfvalue * adjust_ratio, TANF.tanf_impute)\n",
    "    TANF.tanf_impute = np.where(no_val&this_state, TANF.tanf_impute * adjust_ratio, TANF.tanf_impute)\n",
    "\n",
    "TANF[\"tanf_participation\"] = np.zeros(len(TANF))\n",
    "TANF[\"tanf_participation\"] = np.where(TANF.impute==1, 2, 0)#Augmented\n",
    "TANF[\"tanf_participation\"] = np.where(has_val, 1, TANF.tanf_participation)#CPS \n",
    "\n",
    "\n",
    "r = DataFrame(results).transpose()\n",
    "r.columns=['State', 'Imputed', 'Admin', 'adjust ratio']\n",
    "r.to_csv('amount.csv', index=False)"
   ]
  },
  {
   "cell_type": "code",
   "execution_count": 26,
   "metadata": {
    "collapsed": true
   },
   "outputs": [],
   "source": [
    "TANF.to_csv('TANF_Imputation.csv', \n",
    "                   columns=['peridnum', 'tanf_participation','tanf_impute', 'marsupwt','month'],\n",
    "                   index=False)"
   ]
  },
  {
   "cell_type": "code",
   "execution_count": null,
   "metadata": {
    "collapsed": true
   },
   "outputs": [],
   "source": []
  }
 ],
 "metadata": {
  "anaconda-cloud": {},
  "kernelspec": {
   "display_name": "Python 2",
   "language": "python",
   "name": "python2"
  },
  "language_info": {
   "codemirror_mode": {
    "name": "ipython",
    "version": 2
   },
   "file_extension": ".py",
   "mimetype": "text/x-python",
   "name": "python",
   "nbconvert_exporter": "python",
   "pygments_lexer": "ipython2",
   "version": "2.7.13"
  }
 },
 "nbformat": 4,
 "nbformat_minor": 1
}
