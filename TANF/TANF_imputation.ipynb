{
 "cells": [
  {
   "cell_type": "markdown",
   "metadata": {},
   "source": [
    "This script imputes Temporary Assistance for Needy Families (TANF) recipients dollar benefit amount to match the aggregates with United States Department of Health & Human Services (HHS) statistics for TANF. In this current version, we used 2015 March CPS data and HHS FY2014 caseload and expenditures data on TANF. Please refer to the documentation in the same folder for more details on methodology and assumptions. The output this script is an individual level dataset that contains CPS personal level ID (PERIDNUM), individual participation indicator (tanf_participation, 0 - not a recipient, 1 - current recipient on file, 2 - imputed recipient), and benefit amount.\n",
    "\n",
    "Input: 2015 CPS (asec2015_pubuse.csv), number of recipients and their benefits amount by state in 2014 (TANF_administrative.csv)\n",
    "\n",
    "Output: TANF_Imputation.csv\n",
    "\n",
    "Additional Source links: https://www.acf.hhs.gov/ofa/programs/tanf/data-reports "
   ]
  },
  {
   "cell_type": "code",
   "execution_count": 1,
   "metadata": {
    "collapsed": true
   },
   "outputs": [],
   "source": [
    "import pandas as pd\n",
    "from pandas import DataFrame\n",
    "import numpy as np\n",
    "import random\n",
    "import statsmodels.formula.api as sm\n",
    "import matplotlib.pyplot as plt"
   ]
  },
  {
   "cell_type": "markdown",
   "metadata": {},
   "source": [
    "## Variables used in TANF"
   ]
  },
  {
   "cell_type": "code",
   "execution_count": null,
   "metadata": {
    "collapsed": false
   },
   "outputs": [],
   "source": [
    "CPS_dataset = pd.read_csv('asec2015_pubuse.csv')\n",
    "columns_to_keep = ['paw_val','paw_typ','paw_mon','fpawval','marsupwt','a_age','a_sex','wsal_val','semp_val','frse_val',\n",
    "                  'ss_val','rtm_val','oi_val','oi_off','int_yn','uc_yn', 'uc_val','int_val','ssi_yn','ssikidyn',\n",
    "                  'hfoodsp','a_famnum','a_maritl','fownu6','fownu18','gestfips','peridnum', 'h_seq', 'ffpos', 'i_pawtyp',\n",
    "                 'fpersons']\n",
    "CPS_dataset = CPS_dataset[columns_to_keep]\n",
    "CPS_dataset.to_csv('TANF.csv', columns=columns_to_keep, index=False)"
   ]
  },
  {
   "cell_type": "code",
   "execution_count": 27,
   "metadata": {
    "collapsed": true
   },
   "outputs": [],
   "source": [
    "CPS_dataset = pd.read_csv('TANF.csv')"
   ]
  },
  {
   "cell_type": "code",
   "execution_count": 28,
   "metadata": {
    "collapsed": false
   },
   "outputs": [],
   "source": [
    "mapping = {'None or not in universe': 0, 'Not in universe': 0, 'None': 0}\n",
    "CPS_dataset.replace(mapping, inplace=True)\n",
    "income_var = ['paw_val', 'fpawval', 'wsal_val', 'semp_val', 'frse_val']\n",
    "CPS_dataset[income_var] = CPS_dataset[income_var].astype(int).values"
   ]
  },
  {
   "cell_type": "code",
   "execution_count": 31,
   "metadata": {
    "collapsed": false
   },
   "outputs": [],
   "source": [
    "tanf_fam = CPS_dataset[['h_seq', 'ffpos', 'paw_mon']][(CPS_dataset.paw_typ== 'TANF/AFDC')&(CPS_dataset.a_age>'18')]\n",
    "tanf_fam.rename(columns={'paw_mon':'paw_mon_child'}, inplace=True)\n",
    "tanf_fam['tanf_fam'] = np.ones(len(tanf_fam))"
   ]
  },
  {
   "cell_type": "code",
   "execution_count": 32,
   "metadata": {
    "collapsed": false
   },
   "outputs": [],
   "source": [
    "CPS_dataset = CPS_dataset.merge(tanf_fam, on=['h_seq', 'ffpos'], how='left')"
   ]
  },
  {
   "cell_type": "code",
   "execution_count": 33,
   "metadata": {
    "collapsed": false
   },
   "outputs": [],
   "source": [
    "CPS_dataset.loc[(CPS_dataset.tanf_fam==1)&(CPS_dataset.a_age<='18'), 'paw_typ'] = 'TANF/AFDC'\n",
    "CPS_dataset.paw_mon = np.where(CPS_dataset.paw_typ=='TANF/AFDC', CPS_dataset.paw_mon_child, CPS_dataset.paw_mon)"
   ]
  },
  {
   "cell_type": "code",
   "execution_count": 36,
   "metadata": {
    "collapsed": true
   },
   "outputs": [],
   "source": [
    "CPS_dataset['temp_indicator'] = np.where(CPS_dataset.paw_typ=='TANF/AFDC', 1, 0)\n",
    "num_per_fam = CPS_dataset[['h_seq', 'ffpos', 'temp_indicator']].groupby(['h_seq', 'ffpos'], as_index=False).sum()"
   ]
  },
  {
   "cell_type": "code",
   "execution_count": 39,
   "metadata": {
    "collapsed": true
   },
   "outputs": [],
   "source": [
    "num_per_fam.rename(columns={'temp_indicator':'num_per_fam'}, inplace=True)"
   ]
  },
  {
   "cell_type": "code",
   "execution_count": 41,
   "metadata": {
    "collapsed": true
   },
   "outputs": [],
   "source": [
    "CPS_dataset = CPS_dataset.merge(num_per_fam, on=['h_seq', 'ffpos'], how='left')"
   ]
  },
  {
   "cell_type": "code",
   "execution_count": 43,
   "metadata": {
    "collapsed": false
   },
   "outputs": [],
   "source": [
    "CPS_dataset['paw_avg'] = np.divide(CPS_dataset.fpawval, CPS_dataset.num_per_fam + 0.0000001)\n",
    "CPS_dataset.paw_val = np.where(CPS_dataset.paw_typ=='TANF/AFDC', CPS_dataset.paw_avg, CPS_dataset.paw_val)"
   ]
  },
  {
   "cell_type": "code",
   "execution_count": 44,
   "metadata": {
    "collapsed": false
   },
   "outputs": [],
   "source": [
    "# TANF value & indicator\n",
    "tanfvalue = pd.to_numeric(np.where(CPS_dataset.paw_typ== 'TANF/AFDC', CPS_dataset.paw_val, 0))\n",
    "indicator = pd.to_numeric(np.where(CPS_dataset.paw_typ== 'TANF/AFDC', 1, 0))"
   ]
  },
  {
   "cell_type": "code",
   "execution_count": 45,
   "metadata": {
    "collapsed": true
   },
   "outputs": [],
   "source": [
    "TANF = DataFrame(tanfvalue.transpose())\n",
    "TANF.columns = ['tanfvalue']"
   ]
  },
  {
   "cell_type": "code",
   "execution_count": 46,
   "metadata": {
    "collapsed": true
   },
   "outputs": [],
   "source": [
    "TANF['indicator'] = indicator\n",
    "TANF['marsupwt'] = CPS_dataset.marsupwt\n",
    "TANF['gestfips'] = CPS_dataset.gestfips\n",
    "TANF['peridnum'] = CPS_dataset.peridnum"
   ]
  },
  {
   "cell_type": "code",
   "execution_count": 47,
   "metadata": {
    "collapsed": false
   },
   "outputs": [],
   "source": [
    "# Number of month receiving TANF\n",
    "month = np.where(CPS_dataset.paw_mon == 'Twelve', 12, CPS_dataset.paw_mon)\n",
    "month = np.where(CPS_dataset.paw_mon == 'One', 1, month)\n",
    "month = pd.to_numeric(month)\n",
    "TANF['month'] = month"
   ]
  },
  {
   "cell_type": "code",
   "execution_count": 48,
   "metadata": {
    "collapsed": true
   },
   "outputs": [],
   "source": [
    "#individual earned income\n",
    "TANF['earned'] = CPS_dataset.wsal_val + CPS_dataset.semp_val + CPS_dataset.frse_val"
   ]
  },
  {
   "cell_type": "code",
   "execution_count": 49,
   "metadata": {
    "collapsed": true
   },
   "outputs": [],
   "source": [
    "# Unearned income\n",
    "ss = pd.to_numeric(np.where(CPS_dataset.ss_val!='None or not in universe', CPS_dataset.ss_val, 0))\n",
    "pension = pd.to_numeric(np.where(CPS_dataset.rtm_val!='None or not in universe', CPS_dataset.rtm_val, 0))\n",
    "disability = pd.to_numeric(np.where(CPS_dataset.oi_off=='State disability payments', CPS_dataset.oi_val, 0))\n",
    "unemploy = pd.to_numeric(np.where(CPS_dataset.uc_yn=='Yes', CPS_dataset.uc_val, 0))\n",
    "interest = pd.to_numeric(np.where(CPS_dataset.int_yn=='Yes', CPS_dataset.int_val, 0))\n",
    "unearned = ss + pension + disability + unemploy + interest #individual unearned income\n",
    "TANF['unearned'] = unearned"
   ]
  },
  {
   "cell_type": "code",
   "execution_count": 50,
   "metadata": {
    "collapsed": false
   },
   "outputs": [],
   "source": [
    "# Net Income\n",
    "TANF['net_income'] = TANF.earned + unearned"
   ]
  },
  {
   "cell_type": "code",
   "execution_count": 51,
   "metadata": {
    "collapsed": false
   },
   "outputs": [],
   "source": [
    "# Family TANF value\n",
    "TANF['familyvalue'] = CPS_dataset.fpawval\n",
    "familyindicator = np.where(TANF['familyvalue'] != 0, 1,0)\n",
    "familyotherTANFindicator = familyindicator - indicator\n",
    "TANF['indicatorOther'] = familyotherTANFindicator                               "
   ]
  },
  {
   "cell_type": "code",
   "execution_count": 52,
   "metadata": {
    "collapsed": true
   },
   "outputs": [],
   "source": [
    "# Prepare age information\n",
    "age = np.where(CPS_dataset.a_age == \"80-84 years of age\",\n",
    "                             random.randrange(80, 84),\n",
    "                             CPS_dataset.a_age)\n",
    "age = np.where(CPS_dataset.a_age == \"85+ years of age\",\n",
    "                             random.randrange(85, 95),\n",
    "                             age)\n",
    "TANF['a_age'] = pd.to_numeric(age)"
   ]
  },
  {
   "cell_type": "code",
   "execution_count": 53,
   "metadata": {
    "collapsed": true
   },
   "outputs": [],
   "source": [
    "# Prepare gender inforamtion, 0 for male, 1 for female\n",
    "TANF['sex'] = pd.to_numeric(np.where(CPS_dataset.a_sex == 'Male', 0, 1))"
   ]
  },
  {
   "cell_type": "code",
   "execution_count": 54,
   "metadata": {
    "collapsed": true
   },
   "outputs": [],
   "source": [
    "# Number of children\n",
    "childunder6 = np.where(CPS_dataset.fownu6 == 'None, not in universe', 0, CPS_dataset.fownu6)\n",
    "TANF['childunder6'] = pd.to_numeric(childunder6)\n",
    "childunder18 = np.where(CPS_dataset.fownu18 == 'None, not in universe', 0, CPS_dataset.fownu18)\n",
    "childunder18 = np.where(CPS_dataset.fownu18 == '9 or more', 9, childunder18)\n",
    "TANF['childunder18'] = pd.to_numeric(childunder18)\n",
    "TANF['child6to18'] = TANF['childunder18'] - TANF['childunder6']"
   ]
  },
  {
   "cell_type": "code",
   "execution_count": 55,
   "metadata": {
    "collapsed": true
   },
   "outputs": [],
   "source": [
    "# Status of Marriage\n",
    "marriage = np.where(CPS_dataset.a_maritl == 'Married - civilian spouse', 1, 0)\n",
    "marriage = np.where(CPS_dataset.a_maritl == 'Married - AF spouse present', 1, marriage)\n",
    "marriage = np.where(CPS_dataset.a_maritl == 'Married - spouse absent (exc.', 1, marriage)\n",
    "marriage = np.where(CPS_dataset.a_maritl == 'Separated', 1, marriage)\n",
    "TANF['marriage'] = pd.to_numeric(marriage)"
   ]
  },
  {
   "cell_type": "code",
   "execution_count": 56,
   "metadata": {
    "collapsed": true
   },
   "outputs": [],
   "source": [
    "TANF['unemploy_indicator'] = np.where(CPS_dataset.uc_yn=='Yes', 1, 0)\n",
    "TANF['ssi_indicator'] = np.where((CPS_dataset.ssi_yn=='Yes')|(CPS_dataset.ssikidyn=='Received SSI'), 1, 0)\n",
    "TANF['snap_indicator'] = np.where(CPS_dataset.hfoodsp == \"Yes\",1,0)"
   ]
  },
  {
   "cell_type": "markdown",
   "metadata": {},
   "source": [
    "## Regression Model"
   ]
  },
  {
   "cell_type": "code",
   "execution_count": 57,
   "metadata": {
    "collapsed": false
   },
   "outputs": [
    {
     "name": "stdout",
     "output_type": "stream",
     "text": [
      "Optimization terminated successfully.\n",
      "         Current function value: 0.031598\n",
      "         Iterations 12\n",
      "                           Logit Regression Results                           \n",
      "==============================================================================\n",
      "Dep. Variable:              indicator   No. Observations:               199099\n",
      "Model:                          Logit   Df Residuals:                   199088\n",
      "Method:                           MLE   Df Model:                           10\n",
      "Date:                Fri, 08 Sep 2017   Pseudo R-squ.:                  0.2488\n",
      "Time:                        15:15:05   Log-Likelihood:                -6291.1\n",
      "converged:                       True   LL-Null:                       -8374.9\n",
      "                                        LLR p-value:                     0.000\n",
      "======================================================================================\n",
      "                         coef    std err          z      P>|z|      [95.0% Conf. Int.]\n",
      "--------------------------------------------------------------------------------------\n",
      "intercept             -6.6683      0.102    -65.229      0.000        -6.869    -6.468\n",
      "a_age                  0.0013      0.002      0.702      0.483        -0.002     0.005\n",
      "sex                    0.5925      0.060      9.902      0.000         0.475     0.710\n",
      "childunder6            0.0064      0.036      0.177      0.860        -0.065     0.078\n",
      "child6to18             0.0692      0.022      3.148      0.002         0.026     0.112\n",
      "earned             -3.814e-05   3.63e-06    -10.517      0.000     -4.52e-05  -3.1e-05\n",
      "unearned           -7.009e-05   1.02e-05     -6.884      0.000        -9e-05 -5.01e-05\n",
      "unemploy_indicator     0.9930      0.168      5.907      0.000         0.663     1.322\n",
      "ssi_indicator         -0.2299      0.122     -1.891      0.059        -0.468     0.008\n",
      "snap_indicator         3.2705      0.079     41.350      0.000         3.115     3.425\n",
      "marriage               0.6802      0.130      5.215      0.000         0.425     0.936\n",
      "======================================================================================\n"
     ]
    }
   ],
   "source": [
    "TANF['intercept'] = np.ones(len(TANF))\n",
    "model = sm.Logit(endog=TANF.indicator, exog=TANF[['intercept','a_age', 'sex', \n",
    "                                                  'childunder6','child6to18', 'earned', 'unearned', \n",
    "                                                  'unemploy_indicator','ssi_indicator','snap_indicator',\n",
    "                                                  'marriage']]).fit()\n",
    "print model.summary()"
   ]
  },
  {
   "cell_type": "code",
   "execution_count": 58,
   "metadata": {
    "collapsed": true
   },
   "outputs": [],
   "source": [
    "probs = model.fittedvalues\n",
    "TANF['probs'] = probs"
   ]
  },
  {
   "cell_type": "markdown",
   "metadata": {},
   "source": [
    "## Import administrative data"
   ]
  },
  {
   "cell_type": "code",
   "execution_count": 59,
   "metadata": {
    "collapsed": false
   },
   "outputs": [],
   "source": [
    "admin = pd.read_csv('TANF_Administrative_1.csv',\n",
    "                    dtype = {'Total Annual Benefits': np.float, 'Total Annual Recipient': np.float, 'Average Annual Benefits' : np.float})\n",
    "admin.index = admin.Fips"
   ]
  },
  {
   "cell_type": "code",
   "execution_count": 60,
   "metadata": {
    "collapsed": false
   },
   "outputs": [],
   "source": [
    "# CPS total benefits and Administrative total benefits, annual basis\n",
    "state_benefit = {}\n",
    "state_recipients = {}\n",
    "for state in admin.Fips:\n",
    "    this_state = (TANF.gestfips==state)\n",
    "    CPS_totalb = (TANF.tanfvalue * TANF.marsupwt)[this_state].sum()\n",
    "    admin_totalb =  admin['Total Annual Benefits'][state] \n",
    "    CPS_totaln = (TANF.marsupwt[this_state & TANF.indicator==1] * TANF.month / 12).sum()\n",
    "    admin_totaln =  admin['Total Annual Recipient'][state]\n",
    "\n",
    "    temp = [admin.State[state], CPS_totalb, admin_totalb, CPS_totaln, admin_totaln]\n",
    "    state_benefit[state] = temp\n",
    "    \n",
    "pre_augment_benefit = DataFrame(state_benefit).transpose()\n",
    "pre_augment_benefit.columns = ['State', 'CPS total benefits','Admin total benefits',\n",
    "                               'CPS total recipients','Admin total recipients']"
   ]
  },
  {
   "cell_type": "code",
   "execution_count": 61,
   "metadata": {
    "collapsed": true
   },
   "outputs": [],
   "source": [
    "pre_augment_benefit.to_csv('pre-blow-up.csv')"
   ]
  },
  {
   "cell_type": "markdown",
   "metadata": {},
   "source": [
    "## Imputation"
   ]
  },
  {
   "cell_type": "code",
   "execution_count": 62,
   "metadata": {
    "collapsed": false
   },
   "outputs": [],
   "source": [
    "# caculate difference of SNAP stats and CPS aggregates on recipients number\n",
    "# by state\n",
    "diff = {'Fips':[],'Difference in Population':[],'Mean Benefit':[],'CPS Population':[],'TANF Population':[]}\n",
    "diff['Fips'] = admin.Fips\n",
    "current = (TANF.indicator==1)\n",
    "for FIPS in admin.Fips:\n",
    "        this_state = (TANF.gestfips==FIPS)\n",
    "        current_tots = (TANF.marsupwt[current&this_state]*TANF.month).sum()/12\n",
    "        valid_num = (TANF.marsupwt[current&this_state]*TANF.month).sum()/12 + 0.0000001\n",
    "        current_mean = ((TANF.tanfvalue * TANF.marsupwt)[current&this_state].sum())/valid_num\n",
    "        diff['CPS Population'].append(current_tots)\n",
    "        diff['TANF Population'].append(float(admin['Total Annual Recipient'][admin.Fips == FIPS]))\n",
    "        diff['Difference in Population'].append(float(admin['Total Annual Recipient'][admin.Fips == FIPS])- current_tots)\n",
    "        diff['Mean Benefit'].append(current_mean)"
   ]
  },
  {
   "cell_type": "code",
   "execution_count": 63,
   "metadata": {
    "collapsed": true
   },
   "outputs": [],
   "source": [
    "d = DataFrame(diff)\n",
    "d = d[['Fips', 'Mean Benefit', 'Difference in Population', 'CPS Population', 'TANF Population']]\n",
    "d.index = d.Fips\n",
    "d.to_csv('recipients.csv', index=False)"
   ]
  },
  {
   "cell_type": "code",
   "execution_count": 64,
   "metadata": {
    "collapsed": false
   },
   "outputs": [
    {
     "name": "stdout",
     "output_type": "stream",
     "text": [
      "('we need to impute', 13800.659170000003, 'for state', 1)\n",
      "('Method1: regression gives', 14270.02)\n",
      "('we need to impute', 2623.2450003333333, 'for state', 2)\n",
      "('Method1: regression gives', 2739.67)\n",
      "('we need to impute', 20803.223336666666, 'for state', 4)\n",
      "('Method1: regression gives', 20425.72)\n",
      "('we need to impute', 6891.2933366666666, 'for state', 5)\n",
      "('Method1: regression gives', 6209.34)\n",
      "('we need to impute', 852548.30450000009, 'for state', 6)\n",
      "('Method1: regression gives', 852447.8)\n",
      "('we need to impute', 32943.81583, 'for state', 8)\n",
      "('Method1: regression gives', 32840.06999999999)\n",
      "('we need to impute', 3989.2816700000003, 'for state', 9)\n",
      "('Method1: regression gives', 4468.6)\n",
      "('we need to impute', 8661.8408299999992, 'for state', 10)\n",
      "('Method1: regression gives', 8632.78)\n",
      "('we need to impute', 6259.1741699999966, 'for state', 11)\n",
      "('Method1: regression gives', 6260.3099999999995)\n",
      "('we need to impute', 15007.385836666683, 'for state', 12)\n",
      "('Method1: regression gives', 14590.65)\n",
      "('we need to impute', 665.28916333333837, 'for state', 13)\n",
      "('Method1: regression gives', 2056.93)\n",
      "('we need to impute', 21013.420003333333, 'for state', 15)\n",
      "('Method1: regression gives', 20886.829999999998)\n",
      "('we need to impute', 1694.5799999999999, 'for state', 16)\n",
      "('Method1: regression gives', 1713.21)\n",
      "('we need to impute', 7509.843336666665, 'for state', 17)\n",
      "('Method1: regression gives', 8111.380000000001)\n",
      "('we need to impute', 2131.9850033333278, 'for state', 18)\n",
      "('Method1: regression gives', 2206.13)\n",
      "('we need to impute', 21364.837496666667, 'for state', 19)\n",
      "('Method1: regression gives', 21394.51)\n",
      "('we need to impute', 11367.284166666668, 'for state', 20)\n",
      "('Method1: regression gives', 11534.08)\n",
      "('we need to impute', 55000.284170000006, 'for state', 21)\n",
      "('Method1: regression gives', 56029.75000000001)\n",
      "('we need to impute', -259.03332999999839, 'for state', 22)\n",
      "('we need to impute', -286.2450000000008, 'for state', 23)\n",
      "('we need to impute', 23963.898333333334, 'for state', 24)\n",
      "('Method1: regression gives', 23318.780000000002)\n",
      "('we need to impute', 42466.352500000001, 'for state', 25)\n",
      "('Method1: regression gives', 42124.03)\n",
      "('we need to impute', 27290.639999999992, 'for state', 26)\n",
      "('Method1: regression gives', 27447.5)\n",
      "('we need to impute', -306.72833666666702, 'for state', 27)\n",
      "('we need to impute', 10560.369169999998, 'for state', 28)\n",
      "('Method1: regression gives', 10703.57)\n",
      "('we need to impute', 27678.913329999996, 'for state', 29)\n",
      "('Method1: regression gives', 27542.85)\n",
      "('we need to impute', 2412.0366670000003, 'for state', 30)\n",
      "('Method1: regression gives', 2407.86)\n",
      "('we need to impute', 3221.2733299999991, 'for state', 31)\n",
      "('Method1: regression gives', 3046.44)\n",
      "('we need to impute', 14216.152503333335, 'for state', 32)\n",
      "('Method1: regression gives', 14219.459999999997)\n",
      "('we need to impute', 3667.3483333333338, 'for state', 33)\n",
      "('Method1: regression gives', 3776.29)\n",
      "('we need to impute', 3187.2508333333317, 'for state', 34)\n",
      "('Method1: regression gives', 3274.09)\n",
      "('we need to impute', 26672.07417, 'for state', 35)\n",
      "('Method1: regression gives', 26666.310000000005)\n",
      "('we need to impute', 153038.17999999999, 'for state', 36)\n",
      "('Method1: regression gives', 152491.87999999995)\n",
      "('we need to impute', 13048.904166666664, 'for state', 37)\n",
      "('Method1: regression gives', 14949.74)\n",
      "('we need to impute', 1875.0291663333335, 'for state', 38)\n",
      "('Method1: regression gives', 1931.8399999999997)\n",
      "('we need to impute', 62943.56666666668, 'for state', 39)\n",
      "('Method1: regression gives', 64524.17999999999)\n",
      "('we need to impute', 11624.940003333331, 'for state', 40)\n",
      "('Method1: regression gives', 12086.539999999999)\n",
      "('we need to impute', 31011.292496666658, 'for state', 41)\n",
      "('Method1: regression gives', 30813.38)\n",
      "('we need to impute', 92646.052466666661, 'for state', 42)\n",
      "('Method1: regression gives', 92748.40000000001)\n",
      "('we need to impute', 6597.287503333333, 'for state', 44)\n",
      "('Method1: regression gives', 6766.16)\n",
      "('we need to impute', 6839.1799966666695, 'for state', 45)\n",
      "('Method1: regression gives', 5851.07)\n",
      "('we need to impute', 3871.4033329999993, 'for state', 46)\n",
      "('Method1: regression gives', 3863.8700000000003)\n",
      "('we need to impute', 35573.582499999975, 'for state', 47)\n",
      "('Method1: regression gives', 35262.38)\n",
      "('we need to impute', 4814.4341666666587, 'for state', 48)\n",
      "('Method1: regression gives', 5095.82)\n",
      "('we need to impute', 4319.0416669999995, 'for state', 49)\n",
      "('Method1: regression gives', 3729.6899999999996)\n",
      "('we need to impute', 2204.7874996666669, 'for state', 50)\n",
      "('Method1: regression gives', 2054.4)\n",
      "('we need to impute', 42827.842503333341, 'for state', 51)\n",
      "('Method1: regression gives', 42751.509999999995)\n",
      "('we need to impute', 69069.760829999999, 'for state', 53)\n",
      "('Method1: regression gives', 69194.73999999999)\n",
      "('we need to impute', 9581.905833333336, 'for state', 54)\n",
      "('Method1: regression gives', 9040.41)\n",
      "('we need to impute', 43651.118336666681, 'for state', 55)\n",
      "('Method1: regression gives', 43401.460000000014)\n",
      "('we need to impute', 109.88333329999989, 'for state', 56)\n",
      "('Method1: regression gives', 186.76)\n"
     ]
    },
    {
     "name": "stderr",
     "output_type": "stream",
     "text": [
      "/Users/Amy/anaconda/lib/python2.7/site-packages/ipykernel/__main__.py:27: SettingWithCopyWarning: \n",
      "A value is trying to be set on a copy of a slice from a DataFrame\n",
      "\n",
      "See the caveats in the documentation: http://pandas.pydata.org/pandas-docs/stable/indexing.html#indexing-view-versus-copy\n",
      "/Users/Amy/anaconda/lib/python2.7/site-packages/ipykernel/__main__.py:28: SettingWithCopyWarning: \n",
      "A value is trying to be set on a copy of a slice from a DataFrame\n",
      "\n",
      "See the caveats in the documentation: http://pandas.pydata.org/pandas-docs/stable/indexing.html#indexing-view-versus-copy\n"
     ]
    }
   ],
   "source": [
    "TANF['impute'] = np.zeros(len(TANF))\n",
    "TANF['tanf_impute'] = np.zeros(len(TANF))\n",
    "\n",
    "non_current = (TANF.indicator==0)\n",
    "current = (TANF.indicator==1)\n",
    "random.seed()\n",
    "\n",
    "for FIPS in admin.Fips:\n",
    "    \n",
    "        print ('we need to impute', d['Difference in Population'][FIPS], 'for state', FIPS)\n",
    "        \n",
    "        if d['Difference in Population'][FIPS] < 0:\n",
    "            continue\n",
    "        else:\n",
    "            this_state = (TANF.gestfips==FIPS)\n",
    "            not_imputed = (TANF.impute==0)\n",
    "            children = (TANF.a_age<=18)\n",
    "            pool_index = TANF[this_state&not_imputed&non_current].index\n",
    "            pool = DataFrame({'weight': TANF.marsupwt[pool_index], 'prob': probs[pool_index]},\n",
    "                            index=pool_index)\n",
    "            pool = pool.sort_values(by='prob', ascending=False)\n",
    "            pool['cumsum_weight'] = pool['weight'].cumsum()\n",
    "            pool['distance'] = abs(pool.cumsum_weight-d['Difference in Population'][FIPS])\n",
    "            min_index = pool.sort_values(by='distance')[:1].index\n",
    "            min_weight = int(pool.loc[min_index].cumsum_weight)\n",
    "            pool['impute'] = np.where(pool.cumsum_weight<=min_weight+10 , 1, 0)\n",
    "            TANF.impute[pool.index[pool['impute']==1]] = 1\n",
    "            TANF.tanf_impute[pool.index[pool['impute']==1]] = admin['Average Annual Benefits'][FIPS]\n",
    "           \n",
    "        print ('Method1: regression gives', \n",
    "                TANF.marsupwt[(TANF.impute==1)&this_state].sum())"
   ]
  },
  {
   "cell_type": "code",
   "execution_count": 65,
   "metadata": {
    "collapsed": true
   },
   "outputs": [],
   "source": [
    "#Adjustment ratio\n",
    "results = {}\n",
    "\n",
    "imputed = (TANF.impute == 1)\n",
    "has_val = (TANF.tanfvalue != 0)\n",
    "no_val = (TANF.tanfvalue == 0)\n",
    "\n",
    "for FIPS in admin.Fips:\n",
    "    this_state = (TANF.gestfips==FIPS)\n",
    "    \n",
    "    current_total = (TANF.tanfvalue * TANF.marsupwt)[this_state].sum() \n",
    "    imputed_total = (TANF.tanf_impute * TANF.marsupwt)[this_state&imputed].sum()\n",
    "    on_file = current_total + imputed_total\n",
    "\n",
    "    admin_total = admin['Total Annual Benefits'][FIPS]\n",
    "    \n",
    "    adjust_ratio = admin_total / on_file\n",
    "    this_state_num = [admin['State'][FIPS], on_file, admin_total, adjust_ratio]\n",
    "    results[FIPS] = this_state_num\n",
    "    \n",
    "\n",
    "    TANF.tanf_impute = np.where(has_val&this_state, TANF.tanfvalue * adjust_ratio, TANF.tanf_impute)\n",
    "    TANF.tanf_impute = np.where(no_val&this_state, TANF.tanf_impute * adjust_ratio, TANF.tanf_impute)\n",
    "\n",
    "TANF[\"tanf_participation\"] = np.zeros(len(TANF))\n",
    "TANF[\"tanf_participation\"] = np.where(TANF.impute==1, 2, 0)#Augmented\n",
    "TANF[\"tanf_participation\"] = np.where(has_val, 1, TANF.tanf_participation)#CPS \n",
    "\n",
    "\n",
    "r = DataFrame(results).transpose()\n",
    "r.columns=['State', 'Imputed', 'Admin', 'adjust ratio']\n",
    "r.to_csv('amount.csv', index=False)"
   ]
  },
  {
   "cell_type": "code",
   "execution_count": 69,
   "metadata": {
    "collapsed": true
   },
   "outputs": [],
   "source": [
    "TANF.to_csv('TANF_Imputation.csv', \n",
    "                   columns=['peridnum', 'tanf_participation','tanf_impute', 'tanfvalue'],\n",
    "                   index=False)"
   ]
  }
 ],
 "metadata": {
  "anaconda-cloud": {},
  "kernelspec": {
   "display_name": "Python 2",
   "language": "python",
   "name": "python2"
  },
  "language_info": {
   "codemirror_mode": {
    "name": "ipython",
    "version": 2
   },
   "file_extension": ".py",
   "mimetype": "text/x-python",
   "name": "python",
   "nbconvert_exporter": "python",
   "pygments_lexer": "ipython2",
   "version": "2.7.12"
  }
 },
 "nbformat": 4,
 "nbformat_minor": 1
}
